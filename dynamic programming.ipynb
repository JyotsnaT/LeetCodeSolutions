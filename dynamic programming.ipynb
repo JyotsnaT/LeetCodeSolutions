{
 "cells": [
  {
   "cell_type": "markdown",
   "id": "17c80039-8713-4794-b117-a5cc6ab3f8f0",
   "metadata": {},
   "source": [
    "# Dynamic Programming\n",
    "\n",
    "Properties of dynamic strategy -\n",
    "1. Optimal substructures\n",
    "2. Overlapping subproblems"
   ]
  },
  {
   "cell_type": "markdown",
   "id": "a0943fb2-b35c-4c11-8e27-921d8053c032",
   "metadata": {},
   "source": [
    "Types of dynamic problem solutions - \n",
    "1. Top Down DP\n",
    "2. Botton Up DP\n"
   ]
  },
  {
   "cell_type": "markdown",
   "id": "c021d4d3-d694-4788-8fbc-7b6bb615dbdc",
   "metadata": {},
   "source": [
    "## Fibonacci series"
   ]
  },
  {
   "cell_type": "code",
   "execution_count": 14,
   "id": "60b878fb-5967-4a17-b73f-84edc278dd51",
   "metadata": {},
   "outputs": [],
   "source": [
    "# Recursive solution without memoization O(z^n)\n",
    "\n",
    "def fib(n):\n",
    "    if n == 1 or n == 0:\n",
    "        return n\n",
    "    return fib(n-1) + fib(n-2)"
   ]
  },
  {
   "cell_type": "code",
   "execution_count": null,
   "id": "46ee8716-d55b-4cd5-9357-449f64b34764",
   "metadata": {},
   "outputs": [],
   "source": [
    "fib(6)"
   ]
  },
  {
   "cell_type": "code",
   "execution_count": 15,
   "id": "4178a389-8d35-4191-a203-ea2a328dbbc5",
   "metadata": {},
   "outputs": [],
   "source": [
    "# Bottom Up DP solution with memoization O(n)\n",
    "\n",
    "def fib(n):\n",
    "    if n == 1 or n == 0:\n",
    "        return n\n",
    "    n1 = 0\n",
    "    n2 = 1\n",
    "    for i in range(2, n+1):\n",
    "        n3 = n1 + n2\n",
    "        n1 = n2\n",
    "        n2 = n3\n",
    "    return n3"
   ]
  },
  {
   "cell_type": "code",
   "execution_count": 16,
   "id": "63a80a8e-4ddc-4d89-a163-efbf60ea11af",
   "metadata": {},
   "outputs": [
    {
     "data": {
      "text/plain": [
       "8"
      ]
     },
     "execution_count": 16,
     "metadata": {},
     "output_type": "execute_result"
    }
   ],
   "source": [
    "fib(6)"
   ]
  },
  {
   "cell_type": "markdown",
   "id": "e58a5d62-0cce-4f76-a20d-27a7d0521679",
   "metadata": {},
   "source": [
    "# Factorial of a number"
   ]
  },
  {
   "cell_type": "code",
   "execution_count": 21,
   "id": "1181fb15-63e1-48a9-8f54-fd54857cfa90",
   "metadata": {},
   "outputs": [],
   "source": [
    "# Bottom up DP solution\n",
    "\n",
    "def fact(n):\n",
    "    if n == 0:\n",
    "        return 1\n",
    "    fact = 1\n",
    "    for i in range(1, n+1):\n",
    "        fact = fact*i\n",
    "    return fact"
   ]
  },
  {
   "cell_type": "code",
   "execution_count": 22,
   "id": "6c1b2863-060f-4977-b0e5-d40c9f2748dd",
   "metadata": {},
   "outputs": [
    {
     "data": {
      "text/plain": [
       "2"
      ]
     },
     "execution_count": 22,
     "metadata": {},
     "output_type": "execute_result"
    }
   ],
   "source": [
    "fact(2)"
   ]
  },
  {
   "cell_type": "markdown",
   "id": "ebc6ac0b-ec8a-4b80-9129-35dca5b4bd36",
   "metadata": {},
   "source": [
    "# Longest common subsequence"
   ]
  },
  {
   "cell_type": "code",
   "execution_count": null,
   "id": "31d0951c-8922-45d5-8523-22e582f9245c",
   "metadata": {},
   "outputs": [],
   "source": []
  }
 ],
 "metadata": {
  "kernelspec": {
   "display_name": "Python 3 (ipykernel)",
   "language": "python",
   "name": "python3"
  },
  "language_info": {
   "codemirror_mode": {
    "name": "ipython",
    "version": 3
   },
   "file_extension": ".py",
   "mimetype": "text/x-python",
   "name": "python",
   "nbconvert_exporter": "python",
   "pygments_lexer": "ipython3",
   "version": "3.11.5"
  }
 },
 "nbformat": 4,
 "nbformat_minor": 5
}
