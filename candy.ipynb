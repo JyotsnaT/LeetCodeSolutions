{
 "cells": [
  {
   "cell_type": "markdown",
   "id": "9a3bb3b2-60cd-48e8-b20f-fe1453e67a0a",
   "metadata": {},
   "source": [
    "# 135. Candy"
   ]
  },
  {
   "cell_type": "code",
   "execution_count": 58,
   "id": "8d3a3cb6-8ba6-44aa-bacc-7d5bdc7d1da5",
   "metadata": {},
   "outputs": [],
   "source": [
    "from collections import defaultdict\n",
    "class Solution:\n",
    "    def candy(self, ratings):\n",
    "        N = len(ratings)\n",
    "        ratingDict = defaultdict(list)\n",
    "        for idx, rating in enumerate(ratings):\n",
    "            ratingDict[rating].append(idx)\n",
    "\n",
    "        # print(ratingDict)\n",
    "\n",
    "        sortedRatings = sorted(ratingDict.keys(), reverse = False)\n",
    "        # print(sortedRatings)\n",
    "        candyList = [1]*N\n",
    "        for ratingSort in sortedRatings:\n",
    "            for ratingIdx in ratingDict[ratingSort]:\n",
    "                currKid = ratingIdx\n",
    "                leftNeighbor = ratingIdx-1\n",
    "                rightNeighbor = ratingIdx+1\n",
    "                if leftNeighbor>=0:\n",
    "                    if (ratings[currKid] < ratings[leftNeighbor]) & (candyList[currKid] >= candyList[leftNeighbor]):\n",
    "                        candyList[leftNeighbor] = candyList[currKid] + 1\n",
    "                if rightNeighbor < N:\n",
    "                    if (ratings[currKid] < ratings[rightNeighbor]) & (candyList[currKid] >= candyList[rightNeighbor]):\n",
    "                        candyList[rightNeighbor] = candyList[currKid] + 1\n",
    "\n",
    "        # print(candyList)\n",
    "        minCandies = sum(candyList)\n",
    "            \n",
    "        return minCandies\n",
    "\n",
    "\n",
    "solObj = Solution()\n",
    "def evaluate(ratings):\n",
    "    print(solObj.candy(ratings))"
   ]
  },
  {
   "cell_type": "code",
   "execution_count": 59,
   "id": "b2d8e8b3-d9bf-440b-b68e-f199cc7fd481",
   "metadata": {},
   "outputs": [
    {
     "name": "stdout",
     "output_type": "stream",
     "text": [
      "[2, 1, 2]\n",
      "5\n"
     ]
    }
   ],
   "source": [
    "evaluate([1,0,2])"
   ]
  },
  {
   "cell_type": "code",
   "execution_count": 60,
   "id": "c8e47273-7fb5-48e0-af71-87ee8fc13513",
   "metadata": {},
   "outputs": [
    {
     "name": "stdout",
     "output_type": "stream",
     "text": [
      "[1, 1, 1]\n",
      "3\n"
     ]
    }
   ],
   "source": [
    "evaluate([1,1,1])"
   ]
  },
  {
   "cell_type": "code",
   "execution_count": 61,
   "id": "a3c860ec-4f63-449f-b137-0c47b73c36ab",
   "metadata": {},
   "outputs": [
    {
     "name": "stdout",
     "output_type": "stream",
     "text": [
      "[1, 2, 3]\n",
      "6\n"
     ]
    }
   ],
   "source": [
    "evaluate([1,2,3])"
   ]
  },
  {
   "cell_type": "code",
   "execution_count": 62,
   "id": "3b761332-031e-4850-8a77-93aa683d180d",
   "metadata": {},
   "outputs": [
    {
     "name": "stdout",
     "output_type": "stream",
     "text": [
      "[1, 2, 1]\n",
      "4\n"
     ]
    }
   ],
   "source": [
    "evaluate([1,2,2])"
   ]
  },
  {
   "cell_type": "code",
   "execution_count": 63,
   "id": "3a6abb12-334f-4977-824e-8f687625b1f2",
   "metadata": {},
   "outputs": [
    {
     "name": "stdout",
     "output_type": "stream",
     "text": [
      "[1, 2, 1, 2, 1]\n",
      "7\n"
     ]
    }
   ],
   "source": [
    "evaluate([1,3,2,2,1])"
   ]
  },
  {
   "cell_type": "markdown",
   "id": "b89e2684-a6d5-4ec8-8e2b-5680f8477b2d",
   "metadata": {},
   "source": [
    "## Runtime analysis\n",
    "\n",
    "Runtime of the above solution can be seen as following steps. Assuming N is the size of the input \n",
    " - Creating dictionary O(N)\n",
    " - sorting ditionary keys O(NlogN)\n",
    " - Iterating through each index O(N)\n",
    "   - Getting neighbors and updating their values O(1)\n",
    "\n",
    "O(NlogN)"
   ]
  },
  {
   "cell_type": "markdown",
   "id": "852949da-2195-4ca7-8686-bfb65587f4c7",
   "metadata": {},
   "source": [
    "## Space complexity analysis\n",
    " - Extra array used for sorting O(N)\n",
    " - Extra array used to store candies assigned O(N)\n",
    "\n",
    "O(N)"
   ]
  },
  {
   "cell_type": "markdown",
   "id": "cd3bfab8-3bbc-4406-9a0b-bb94f0f09746",
   "metadata": {},
   "source": [
    "# Solution 2\n",
    "\n",
    "Instead of sorting the array we can perform 2 passes in the final candies allotement array to make sure the correct assignment is done. In the first pass we will move left to right and make sure the current kid had recieved higher candies than their left neighbors in case their rating was higher than their left neighbor. In the second pass we will repeat the same thing instead we will compare with the righ neighbor"
   ]
  },
  {
   "cell_type": "code",
   "execution_count": 76,
   "id": "b595728f-e9b9-49ba-bda7-71134b5db8d0",
   "metadata": {},
   "outputs": [],
   "source": [
    "class Solution2:\n",
    "    def candy(self, rating):\n",
    "        n = len(rating)\n",
    "        candies = [1]*n\n",
    "        for i in range(n):\n",
    "            left = i-1\n",
    "            if left>=0:\n",
    "                if (rating[i] > rating[left]) & (candies[i] <= candies[left]):\n",
    "                    candies[i] = candies[left]+1\n",
    "            \n",
    "        for i in range(n-1, -1, -1):\n",
    "            right = i+1\n",
    "            if right < n:\n",
    "                if (rating[i] > rating[right]) & (candies[i] <= candies[right]):\n",
    "                    candies[i] = candies[right]+1\n",
    "\n",
    "        # print(candies)\n",
    "        minCandies = sum(candies)\n",
    "            \n",
    "        return minCandies\n",
    "\n",
    "\n",
    "solObj2 = Solution2()\n",
    "def evaluate2(rating):\n",
    "    print(solObj2.candy(rating))"
   ]
  },
  {
   "cell_type": "code",
   "execution_count": 77,
   "id": "83bedbb0-be10-4173-836a-9580729a3f10",
   "metadata": {},
   "outputs": [
    {
     "name": "stdout",
     "output_type": "stream",
     "text": [
      "[1, 2, 1]\n",
      "4\n"
     ]
    }
   ],
   "source": [
    "evaluate2([1,2,2])"
   ]
  },
  {
   "cell_type": "code",
   "execution_count": 67,
   "id": "93806f6b-c36e-41ce-98cd-286268ba7428",
   "metadata": {},
   "outputs": [
    {
     "name": "stdout",
     "output_type": "stream",
     "text": [
      "7\n"
     ]
    }
   ],
   "source": [
    "evaluate2([1,3,2,2,1])"
   ]
  },
  {
   "cell_type": "markdown",
   "id": "067b920b-f6d3-41ea-97ce-36a38cffd4ef",
   "metadata": {},
   "source": [
    "# Time complexity analysis\n",
    "\n",
    "It does 2 passes of the array. Hence the run time will be O(N)"
   ]
  },
  {
   "cell_type": "markdown",
   "id": "497647ad-7d5f-4dcf-8c76-14ba1688d996",
   "metadata": {},
   "source": [
    "# Space complexit analysis\n",
    "\n",
    "We use O(N) extra space still"
   ]
  },
  {
   "cell_type": "code",
   "execution_count": null,
   "id": "c335a09e-95e4-4c03-9f1e-9dad1b304da0",
   "metadata": {},
   "outputs": [],
   "source": []
  }
 ],
 "metadata": {
  "kernelspec": {
   "display_name": "Python 3 (ipykernel)",
   "language": "python",
   "name": "python3"
  },
  "language_info": {
   "codemirror_mode": {
    "name": "ipython",
    "version": 3
   },
   "file_extension": ".py",
   "mimetype": "text/x-python",
   "name": "python",
   "nbconvert_exporter": "python",
   "pygments_lexer": "ipython3",
   "version": "3.11.5"
  }
 },
 "nbformat": 4,
 "nbformat_minor": 5
}
