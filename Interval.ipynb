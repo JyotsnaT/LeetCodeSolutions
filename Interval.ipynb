{
 "cells": [
  {
   "cell_type": "markdown",
   "id": "63f48579-b2e2-40e1-973f-5b6faa12e036",
   "metadata": {},
   "source": [
    "# All interval related problem solutions"
   ]
  },
  {
   "cell_type": "markdown",
   "id": "0cbdb6e9-7272-45fe-8e7f-a9b5372db271",
   "metadata": {},
   "source": [
    "# 436. Find Right Interval"
   ]
  },
  {
   "cell_type": "code",
   "execution_count": 2,
   "id": "96e08872-0412-4b56-81d6-4d1af64ccdf8",
   "metadata": {},
   "outputs": [],
   "source": [
    "'''\n",
    "Finding the index of the intervel to the right of the current interval such that end_i <= start_j.\n",
    "- start are unique\n",
    "- smallest start_j to be selected\n",
    "- i may be equal to j\n",
    "\n",
    "Approach #1\n",
    "- linear search\n",
    "    - for current index, linear search to the right and return the index where the start is smallest\n",
    "O(n^2), O(1)\n",
    "\n",
    "- sorting followed by binary search\n",
    "    - remember original indices\n",
    "    - sort by start times \n",
    "    - for each index, binary search to find start time >= end time start time [i-1] < end time\n",
    "\n",
    "O(nlogn), O(n)\n",
    "'''\n",
    "\n",
    "def findRightInterval(intervals):\n",
    "    # remember original indices\n",
    "    og_idx = {}\n",
    "    for idx, interval in enumerate(intervals):\n",
    "        og_idx[tuple(interval)] = idx\n",
    "\n",
    "    # sort by start times\n",
    "    sorted_intervals = sorted(intervals, key=lambda x: x[0])\n",
    "\n",
    "    # binary search for all intervals\n",
    "    result = []\n",
    "    for interval in intervals:\n",
    "        found_idx = -1\n",
    "        left = 0\n",
    "        end_i = interval[1]\n",
    "        right = len(intervals)-1\n",
    "        while(left <= right):\n",
    "            mid = left + (right-left)//2\n",
    "\n",
    "            if sorted_intervals[mid][0] >= end_i:\n",
    "                if (mid>0 and sorted_intervals[mid-1][0] < end_i) or mid==0:\n",
    "                    found_idx = og_idx[tuple(sorted_intervals[mid])]\n",
    "                    break\n",
    "                elif sorted_intervals[mid-1][0] >= end_i:\n",
    "                    right = mid-1\n",
    "                else:\n",
    "                    break\n",
    "            else:\n",
    "                left = mid+1\n",
    "\n",
    "        result.append(found_idx)\n",
    "    return result\n",
    "        \n",
    "            \n"
   ]
  },
  {
   "cell_type": "markdown",
   "id": "31fd4f1e-4194-41c8-bec2-fc6e6585edcc",
   "metadata": {},
   "source": [
    "# Non-overlapping intervals"
   ]
  },
  {
   "cell_type": "code",
   "execution_count": null,
   "id": "f2bbd4f0-b725-47db-9b96-755a7a39447f",
   "metadata": {},
   "outputs": [],
   "source": [
    "'''\n",
    "Author : Jyotsna\n",
    "This function takes in a list of intervals and returns minimum number of intervals one needs to remove to make the rest of the intevals non-overlapping\n",
    "'''\n",
    "class Solution:\n",
    "    def eraseOverlapIntervals(self, intervals: List[List[int]]) -> int:\n",
    "        intervals.sort(key=lambda x:(x[1], x[0]), reverse=False)\n",
    "\n",
    "        last_interval = [-6 * 10e4, -6 * 10e4]\n",
    "        remove_interval = 0\n",
    "        for interval in intervals:\n",
    "            if interval[0] >= last_interval[1]:\n",
    "                last_interval = interval\n",
    "            else:\n",
    "                remove_interval += 1\n",
    "        \n",
    "        return remove_interval"
   ]
  }
 ],
 "metadata": {
  "kernelspec": {
   "display_name": "Python 3 (ipykernel)",
   "language": "python",
   "name": "python3"
  },
  "language_info": {
   "codemirror_mode": {
    "name": "ipython",
    "version": 3
   },
   "file_extension": ".py",
   "mimetype": "text/x-python",
   "name": "python",
   "nbconvert_exporter": "python",
   "pygments_lexer": "ipython3",
   "version": "3.11.8"
  }
 },
 "nbformat": 4,
 "nbformat_minor": 5
}
