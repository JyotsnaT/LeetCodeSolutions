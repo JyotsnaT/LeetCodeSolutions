{
 "cells": [
  {
   "cell_type": "markdown",
   "id": "ca4532df-2fae-4b8f-ad42-967197c715d4",
   "metadata": {},
   "source": [
    "# Coin change"
   ]
  },
  {
   "cell_type": "markdown",
   "id": "033919ce-55de-4254-8ddf-749398ddc783",
   "metadata": {},
   "source": [
    "## Recursive solution"
   ]
  },
  {
   "cell_type": "code",
   "execution_count": 45,
   "id": "87f4e8d9-be73-4d91-942d-f29ce83be572",
   "metadata": {},
   "outputs": [],
   "source": [
    "import sys\n",
    "def coinChange(coins, amount):\n",
    "    if amount < 0:\n",
    "        return -1\n",
    "    if amount == 0:\n",
    "        return 0\n",
    "    minCount = sys.maxsize\n",
    "    for i in range(len(coins)):\n",
    "        coinsCount = coinChange(coins, amount-coins[i])\n",
    "        if coinsCount > -1:\n",
    "            minCount = min(minCount, (coinsCount+1))\n",
    "    minCount = -1 if minCount == sys.maxsize else minCount\n",
    "    return minCount"
   ]
  },
  {
   "cell_type": "code",
   "execution_count": 46,
   "id": "dc723723-40db-4ae5-8714-bdb66b758ca0",
   "metadata": {},
   "outputs": [
    {
     "data": {
      "text/plain": [
       "3"
      ]
     },
     "execution_count": 46,
     "metadata": {},
     "output_type": "execute_result"
    }
   ],
   "source": [
    "coinChange([1,2,5], 11)"
   ]
  },
  {
   "cell_type": "markdown",
   "id": "7957ff01-c9ae-494e-92be-99267ef7f52f",
   "metadata": {},
   "source": [
    "## Recursion with memoization"
   ]
  },
  {
   "cell_type": "code",
   "execution_count": 72,
   "id": "586e0b0d-d05d-4164-930c-8eb8f8e27b99",
   "metadata": {},
   "outputs": [],
   "source": [
    "import sys\n",
    "def coinChange(coins, amount):\n",
    "    memo = [-1]*(amount+1)\n",
    "    def helper(coins, amount):\n",
    "        nonlocal memo    \n",
    "        if amount < 0:\n",
    "            return -1\n",
    "        if amount == 0:\n",
    "            return 0\n",
    "        # print(amount)\n",
    "        if memo[amount] != -1:\n",
    "            return memo[amount]\n",
    "        minCount = sys.maxsize\n",
    "        for i in range(len(coins)):\n",
    "            coinsCount = helper(coins, amount-coins[i])\n",
    "            # print(amount, coinsCount)\n",
    "            if coinsCount > -1:\n",
    "                minCount = min(minCount, (coinsCount+1))\n",
    "        minCount = -1 if (minCount == sys.maxsize) else minCount\n",
    "        memo[amount] = minCount\n",
    "        return minCount\n",
    "    return helper(coins, amount)"
   ]
  },
  {
   "cell_type": "code",
   "execution_count": 73,
   "id": "f96fb36c-4356-4513-8acc-a7317a002e8e",
   "metadata": {},
   "outputs": [
    {
     "data": {
      "text/plain": [
       "3"
      ]
     },
     "execution_count": 73,
     "metadata": {},
     "output_type": "execute_result"
    }
   ],
   "source": [
    "coinChange([1,2,5], 11)"
   ]
  },
  {
   "cell_type": "code",
   "execution_count": 97,
   "id": "a4086d85-f026-4dd1-ac43-4241e05e044e",
   "metadata": {},
   "outputs": [],
   "source": [
    "import sys\n",
    "from functools import lru_cache\n",
    "\n",
    "class Solution:\n",
    "    def coinChange(self, coins, amount):\n",
    "        \n",
    "        @lru_cache(None)\n",
    "        def helper(amount) -> int:  \n",
    "            if amount < 0:\n",
    "                return -1\n",
    "            if amount == 0:\n",
    "                return 0\n",
    "            # print(amount)\n",
    "            \n",
    "            minCount = sys.maxsize\n",
    "            for i in range(len(coins)):\n",
    "                coinsCount = helper(amount-coins[i])\n",
    "                # print(amount, coinsCount)\n",
    "                if coinsCount > -1:\n",
    "                    minCount = min(minCount, (coinsCount+1))\n",
    "            minCount = -1 if (minCount == sys.maxsize) else minCount\n",
    "            return minCount\n",
    "        ans = helper(amount)    \n",
    "        return ans"
   ]
  },
  {
   "cell_type": "code",
   "execution_count": 98,
   "id": "b575328f-6b0e-4e43-a7e5-3a3f7488f93c",
   "metadata": {},
   "outputs": [
    {
     "name": "stdout",
     "output_type": "stream",
     "text": [
      "CPU times: total: 0 ns\n",
      "Wall time: 6.58 ms\n"
     ]
    },
    {
     "data": {
      "text/plain": [
       "20"
      ]
     },
     "execution_count": 98,
     "metadata": {},
     "output_type": "execute_result"
    }
   ],
   "source": [
    "%%time\n",
    "funcObj = Solution()\n",
    "\n",
    "funcObj.coinChange([186,419,83,408], 6249)"
   ]
  },
  {
   "cell_type": "markdown",
   "id": "bcd323c1-6113-4020-9afc-87cbe2097107",
   "metadata": {},
   "source": [
    "## Dynamic programming"
   ]
  },
  {
   "cell_type": "code",
   "execution_count": 103,
   "id": "e38f7fab-134a-4419-a41b-3e912f39ff01",
   "metadata": {},
   "outputs": [],
   "source": [
    "import sys \n",
    "\n",
    "def coinChange(coins, amount):\n",
    "    dp = [sys.maxsize]*(amount+1)\n",
    "\n",
    "    dp[0] = 0\n",
    "\n",
    "    for i in range(1,amount+1):\n",
    "        for coin in coins:\n",
    "            if i-coin>=0:\n",
    "                dp[i] = min(dp[i], dp[i-coin]+1)\n",
    "    return dp[amount] if dp[amount] != sys.maxsize else -1"
   ]
  },
  {
   "cell_type": "code",
   "execution_count": 104,
   "id": "78b71f9d-6af3-4646-9f7b-791e0769b900",
   "metadata": {},
   "outputs": [
    {
     "data": {
      "text/plain": [
       "20"
      ]
     },
     "execution_count": 104,
     "metadata": {},
     "output_type": "execute_result"
    }
   ],
   "source": [
    "coinChange([186,419,83,408], 6249)"
   ]
  },
  {
   "cell_type": "code",
   "execution_count": 105,
   "id": "b7ac8a6c-79cb-46fe-94c6-c08fc388c088",
   "metadata": {},
   "outputs": [
    {
     "data": {
      "text/plain": [
       "3"
      ]
     },
     "execution_count": 105,
     "metadata": {},
     "output_type": "execute_result"
    }
   ],
   "source": [
    "coinChange([1,2,5], 11)"
   ]
  },
  {
   "cell_type": "code",
   "execution_count": 106,
   "id": "e453b0a4-05f7-440a-8aec-f46a326a602a",
   "metadata": {},
   "outputs": [
    {
     "data": {
      "text/plain": [
       "-1"
      ]
     },
     "execution_count": 106,
     "metadata": {},
     "output_type": "execute_result"
    }
   ],
   "source": [
    "coinChange([2], 3)"
   ]
  },
  {
   "cell_type": "code",
   "execution_count": 107,
   "id": "320bb6c4-1f03-430e-bcc6-049021135e54",
   "metadata": {},
   "outputs": [
    {
     "data": {
      "text/plain": [
       "0"
      ]
     },
     "execution_count": 107,
     "metadata": {},
     "output_type": "execute_result"
    }
   ],
   "source": [
    "coinChange([1], 0)"
   ]
  },
  {
   "cell_type": "code",
   "execution_count": null,
   "id": "2b3b52fe-fb45-448c-8559-f527d35e52b2",
   "metadata": {},
   "outputs": [],
   "source": []
  }
 ],
 "metadata": {
  "kernelspec": {
   "display_name": "Python 3 (ipykernel)",
   "language": "python",
   "name": "python3"
  },
  "language_info": {
   "codemirror_mode": {
    "name": "ipython",
    "version": 3
   },
   "file_extension": ".py",
   "mimetype": "text/x-python",
   "name": "python",
   "nbconvert_exporter": "python",
   "pygments_lexer": "ipython3",
   "version": "3.11.7"
  }
 },
 "nbformat": 4,
 "nbformat_minor": 5
}
