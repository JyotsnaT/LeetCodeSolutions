{
 "cells": [
  {
   "cell_type": "markdown",
   "id": "d54d7224-b00d-4054-9ffc-7fe67f099a4f",
   "metadata": {},
   "source": [
    "# 221. Maximal Square"
   ]
  },
  {
   "cell_type": "code",
   "execution_count": 29,
   "id": "b579286a-ec3a-43ef-b95d-e79667ad733f",
   "metadata": {},
   "outputs": [],
   "source": [
    "class Solution:\n",
    "    def maximalSquare(self, matrix):\n",
    "        for row in matrix:\n",
    "            print(row)\n",
    "        m = len(matrix)\n",
    "        n = len(matrix[0])\n",
    "\n",
    "        sqLen = [[0]*n for i in range(m)]\n",
    "\n",
    "        sqLen[0] = [int(i) for i in matrix[0]]\n",
    "        maxSqLen = max(sqLen[0])\n",
    "        for i in range(m):\n",
    "            sqLen[i][0] = int(matrix[i][0])\n",
    "            maxSqLen = max(maxSqLen, sqLen[i][0])\n",
    "\n",
    "        for i in range(1,m):\n",
    "            for j in range(1,n):\n",
    "                if(matrix[i-1][j] == matrix[i][j-1] == matrix[i-1][j-1] == matrix[i][j] == \"1\"):\n",
    "                    sqLen[i][j] = min(sqLen[i-1][j], sqLen[i][j-1], sqLen[i-1][j-1]) + 1\n",
    "                else:\n",
    "                    sqLen[i][j] = int(matrix[i][j])\n",
    "                maxSqLen = max(maxSqLen, sqLen[i][j])\n",
    "        for row in sqLen:\n",
    "            print(row)\n",
    "        return maxSqLen*maxSqLen\n",
    "\n",
    "\n",
    "solObj = Solution()\n",
    "def evaluate(mat):\n",
    "    print(solObj.maximalSquare(mat))\n",
    "        "
   ]
  },
  {
   "cell_type": "code",
   "execution_count": 22,
   "id": "8bbbc266-9bf0-4a47-8e84-ac375b1b4800",
   "metadata": {},
   "outputs": [
    {
     "name": "stdout",
     "output_type": "stream",
     "text": [
      "['1', '0', '1', '0', '0']\n",
      "['1', '0', '1', '1', '1']\n",
      "['1', '1', '1', '1', '1']\n",
      "['1', '0', '0', '1', '0']\n",
      "4\n"
     ]
    }
   ],
   "source": [
    "evaluate([[\"1\",\"0\",\"1\",\"0\",\"0\"],[\"1\",\"0\",\"1\",\"1\",\"1\"],[\"1\",\"1\",\"1\",\"1\",\"1\"],[\"1\",\"0\",\"0\",\"1\",\"0\"]])"
   ]
  },
  {
   "cell_type": "code",
   "execution_count": 23,
   "id": "3db8947f-4b54-464a-ad71-0c66aeb72c45",
   "metadata": {},
   "outputs": [
    {
     "name": "stdout",
     "output_type": "stream",
     "text": [
      "['1', '1', '0', '1']\n",
      "['1', '1', '1', '1']\n",
      "['0', '1', '1', '1']\n",
      "['0', '1', '1', '1']\n",
      "9\n"
     ]
    }
   ],
   "source": [
    "evaluate([[\"1\",\"1\",\"0\",\"1\"],[\"1\",\"1\",\"1\",\"1\"],[\"0\",\"1\",\"1\",\"1\"],[\"0\",\"1\",\"1\",\"1\"]])"
   ]
  },
  {
   "cell_type": "code",
   "execution_count": 24,
   "id": "c9ed29cb-8f45-4b89-b3e6-eaaa14834331",
   "metadata": {},
   "outputs": [
    {
     "name": "stdout",
     "output_type": "stream",
     "text": [
      "['1', '0', '1', '0', '0']\n",
      "['1', '0', '1', '1', '1']\n",
      "['1', '1', '1', '1', '1']\n",
      "['1', '0', '0', '1', '0']\n",
      "4\n"
     ]
    }
   ],
   "source": [
    "evalute([[\"1\",\"0\",\"1\",\"0\",\"0\"],[\"1\",\"0\",\"1\",\"1\",\"1\"],[\"1\",\"1\",\"1\",\"1\",\"1\"],[\"1\",\"0\",\"0\",\"1\",\"0\"]])"
   ]
  },
  {
   "cell_type": "code",
   "execution_count": 25,
   "id": "6aec79ab-214c-43a1-9e4e-d66525694a45",
   "metadata": {},
   "outputs": [
    {
     "name": "stdout",
     "output_type": "stream",
     "text": [
      "['0', '1']\n",
      "['1', '0']\n",
      "1\n"
     ]
    }
   ],
   "source": [
    "evaluate([[\"0\",\"1\"],[\"1\",\"0\"]])"
   ]
  },
  {
   "cell_type": "code",
   "execution_count": 30,
   "id": "24233e0f-5c36-4af1-bf15-1dd33bf54895",
   "metadata": {},
   "outputs": [
    {
     "name": "stdout",
     "output_type": "stream",
     "text": [
      "['0', '0', '0', '1', '0', '1', '1', '1']\n",
      "['0', '1', '1', '0', '0', '1', '0', '1']\n",
      "['1', '0', '1', '1', '1', '1', '0', '1']\n",
      "['0', '0', '0', '1', '0', '0', '0', '0']\n",
      "['0', '0', '1', '0', '0', '0', '1', '0']\n",
      "['1', '1', '1', '0', '0', '1', '1', '1']\n",
      "['1', '0', '0', '1', '1', '0', '0', '1']\n",
      "['0', '1', '0', '0', '1', '1', '0', '0']\n",
      "['1', '0', '0', '1', '0', '0', '0', '0']\n",
      "[0, 0, 0, 1, 0, 1, 1, 1]\n",
      "[0, 1, 1, 0, 0, 1, 0, 1]\n",
      "[1, 0, 1, 1, 1, 1, 0, 1]\n",
      "[0, 0, 0, 1, 0, 0, 0, 0]\n",
      "[0, 0, 1, 0, 0, 0, 1, 0]\n",
      "[1, 1, 1, 0, 0, 1, 1, 1]\n",
      "[1, 0, 0, 1, 1, 0, 0, 1]\n",
      "[0, 1, 0, 0, 1, 1, 0, 0]\n",
      "[1, 0, 0, 1, 0, 0, 0, 0]\n",
      "1\n"
     ]
    }
   ],
   "source": [
    "evaluate([[\"0\",\"0\",\"0\",\"1\",\"0\",\"1\",\"1\",\"1\"],[\"0\",\"1\",\"1\",\"0\",\"0\",\"1\",\"0\",\"1\"],[\"1\",\"0\",\"1\",\"1\",\"1\",\"1\",\"0\",\"1\"],[\"0\",\"0\",\"0\",\"1\",\"0\",\"0\",\"0\",\"0\"],[\"0\",\"0\",\"1\",\"0\",\"0\",\"0\",\"1\",\"0\"],[\"1\",\"1\",\"1\",\"0\",\"0\",\"1\",\"1\",\"1\"],[\"1\",\"0\",\"0\",\"1\",\"1\",\"0\",\"0\",\"1\"],[\"0\",\"1\",\"0\",\"0\",\"1\",\"1\",\"0\",\"0\"],[\"1\",\"0\",\"0\",\"1\",\"0\",\"0\",\"0\",\"0\"]])"
   ]
  },
  {
   "cell_type": "code",
   "execution_count": null,
   "id": "2dca9caa-bc7c-4ab1-adbd-45c0c85a8864",
   "metadata": {},
   "outputs": [],
   "source": []
  }
 ],
 "metadata": {
  "kernelspec": {
   "display_name": "Python 3 (ipykernel)",
   "language": "python",
   "name": "python3"
  },
  "language_info": {
   "codemirror_mode": {
    "name": "ipython",
    "version": 3
   },
   "file_extension": ".py",
   "mimetype": "text/x-python",
   "name": "python",
   "nbconvert_exporter": "python",
   "pygments_lexer": "ipython3",
   "version": "3.11.5"
  }
 },
 "nbformat": 4,
 "nbformat_minor": 5
}
