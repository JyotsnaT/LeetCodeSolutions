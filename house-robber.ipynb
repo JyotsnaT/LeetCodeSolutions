{
 "cells": [
  {
   "cell_type": "markdown",
   "id": "2d42e766-8e67-4b75-935c-800cde1f33b8",
   "metadata": {},
   "source": [
    "# House Robber"
   ]
  },
  {
   "cell_type": "code",
   "execution_count": null,
   "id": "1a17b582-cbdc-4c5b-bc21-8dad6e1ec50b",
   "metadata": {},
   "outputs": [],
   "source": []
  },
  {
   "cell_type": "code",
   "execution_count": null,
   "id": "92e76aac-fc39-4f29-bbb6-90956f01a14a",
   "metadata": {},
   "outputs": [],
   "source": []
  },
  {
   "cell_type": "markdown",
   "id": "ac1708be-da3d-4622-b8d1-9e8f9a6ed0ba",
   "metadata": {},
   "source": [
    "## House Robber 2"
   ]
  },
  {
   "cell_type": "code",
   "execution_count": 37,
   "id": "17f3e30e-5e75-4c20-a01e-4ef13dbfd2ac",
   "metadata": {},
   "outputs": [],
   "source": [
    "def robFunc(nums):\n",
    "    n = len(nums)\n",
    "    currSum = 0\n",
    "    prevSum = 0\n",
    "    for num in nums:\n",
    "        maxSum = max(prevSum + num, currSum)\n",
    "        prevSum = currSum\n",
    "        currSum = maxSum\n",
    "    return currSum\n",
    "\n",
    "def rob(nums):\n",
    "    n = len(nums)\n",
    "    if n  == 1:\n",
    "        return nums[0]\n",
    "    elif n == 2:\n",
    "        return max(nums[0], nums[1])\n",
    "    else:\n",
    "        return max(robFunc(nums[0:n-1]), robFunc(nums[1:n]))\n",
    "    "
   ]
  },
  {
   "cell_type": "code",
   "execution_count": 38,
   "id": "08fa74c3-26cb-4bc1-b421-8b1661c3319e",
   "metadata": {},
   "outputs": [
    {
     "data": {
      "text/plain": [
       "3"
      ]
     },
     "execution_count": 38,
     "metadata": {},
     "output_type": "execute_result"
    }
   ],
   "source": [
    "rob([2,3,2])"
   ]
  },
  {
   "cell_type": "code",
   "execution_count": 39,
   "id": "6c9371cf-0b0f-4167-93fb-54b6b48526bb",
   "metadata": {},
   "outputs": [
    {
     "data": {
      "text/plain": [
       "4"
      ]
     },
     "execution_count": 39,
     "metadata": {},
     "output_type": "execute_result"
    }
   ],
   "source": [
    "rob([1,2,3,1])"
   ]
  },
  {
   "cell_type": "code",
   "execution_count": 40,
   "id": "7b4eaa78-0da9-4857-9174-d3a817bc1964",
   "metadata": {},
   "outputs": [
    {
     "data": {
      "text/plain": [
       "3"
      ]
     },
     "execution_count": 40,
     "metadata": {},
     "output_type": "execute_result"
    }
   ],
   "source": [
    "rob([1,2,3])"
   ]
  },
  {
   "cell_type": "code",
   "execution_count": 41,
   "id": "519de42f-de7a-4c35-92cd-b3a449f57c24",
   "metadata": {},
   "outputs": [
    {
     "data": {
      "text/plain": [
       "1"
      ]
     },
     "execution_count": 41,
     "metadata": {},
     "output_type": "execute_result"
    }
   ],
   "source": [
    "rob([1])"
   ]
  },
  {
   "cell_type": "code",
   "execution_count": 42,
   "id": "efdbc5a0-988e-42b8-ac00-6c83f8bb8937",
   "metadata": {},
   "outputs": [
    {
     "data": {
      "text/plain": [
       "3"
      ]
     },
     "execution_count": 42,
     "metadata": {},
     "output_type": "execute_result"
    }
   ],
   "source": [
    "rob([2,1,1,2])"
   ]
  },
  {
   "cell_type": "code",
   "execution_count": null,
   "id": "b786efe2-ab61-4e0c-93e8-f0a74fd90f81",
   "metadata": {},
   "outputs": [],
   "source": []
  }
 ],
 "metadata": {
  "kernelspec": {
   "display_name": "Python 3 (ipykernel)",
   "language": "python",
   "name": "python3"
  },
  "language_info": {
   "codemirror_mode": {
    "name": "ipython",
    "version": 3
   },
   "file_extension": ".py",
   "mimetype": "text/x-python",
   "name": "python",
   "nbconvert_exporter": "python",
   "pygments_lexer": "ipython3",
   "version": "3.11.5"
  }
 },
 "nbformat": 4,
 "nbformat_minor": 5
}
