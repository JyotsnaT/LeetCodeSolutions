{
 "cells": [
  {
   "cell_type": "markdown",
   "id": "aa1cffcd-bca2-4318-a84b-fbf4582ecab2",
   "metadata": {},
   "source": [
    "# Trie\n",
    "\n",
    "Generally used for string search problems"
   ]
  },
  {
   "cell_type": "code",
   "execution_count": 1,
   "id": "4882cad8-136b-44ca-aadf-9913515b7a97",
   "metadata": {},
   "outputs": [],
   "source": [
    "class Trie:\n",
    "    def __init__(self, character, is_terminal):\n",
    "        self.character = character\n",
    "        self.children = {}\n",
    "        self.is_terminal = is_terminal"
   ]
  },
  {
   "cell_type": "code",
   "execution_count": null,
   "id": "f162a7b0-2fab-4fb3-80ad-a7625f62303d",
   "metadata": {},
   "outputs": [],
   "source": []
  }
 ],
 "metadata": {
  "kernelspec": {
   "display_name": "Python 3 (ipykernel)",
   "language": "python",
   "name": "python3"
  },
  "language_info": {
   "codemirror_mode": {
    "name": "ipython",
    "version": 3
   },
   "file_extension": ".py",
   "mimetype": "text/x-python",
   "name": "python",
   "nbconvert_exporter": "python",
   "pygments_lexer": "ipython3",
   "version": "3.11.7"
  }
 },
 "nbformat": 4,
 "nbformat_minor": 5
}
