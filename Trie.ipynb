{
 "cells": [
  {
   "cell_type": "markdown",
   "id": "aa1cffcd-bca2-4318-a84b-fbf4582ecab2",
   "metadata": {},
   "source": [
    "# Trie\n",
    "\n",
    "Generally used for string search problems"
   ]
  },
  {
   "cell_type": "code",
   "execution_count": 1,
   "id": "4882cad8-136b-44ca-aadf-9913515b7a97",
   "metadata": {},
   "outputs": [],
   "source": [
    "class Trie:\n",
    "    def __init__(self, character, is_terminal):\n",
    "        self.character = character\n",
    "        self.children = {}\n",
    "        self.is_terminal = is_terminal"
   ]
  },
  {
   "cell_type": "markdown",
   "id": "1255b2df-aadc-4be7-9435-6ab155629640",
   "metadata": {},
   "source": [
    "# Implement trie prefix"
   ]
  },
  {
   "cell_type": "code",
   "execution_count": 1,
   "id": "9a6405f4-3652-42e2-ba1c-cf2b7828786d",
   "metadata": {},
   "outputs": [],
   "source": [
    "class TrieNode:\n",
    "    def __init__(self, value):\n",
    "        self.isLast = False\n",
    "        self.value = value\n",
    "        self.child = []\n",
    "\n",
    "class Trie:\n",
    "\n",
    "    def __init__(self):\n",
    "        self.rootNode = TrieNode(\"*\")\n",
    "\n",
    "    def insert(self, word: str) -> None:\n",
    "        tempNode = self.rootNode\n",
    "        tempWord = word\n",
    "        while(tempWord != \"\"):\n",
    "            c = tempWord[0]\n",
    "            matching_child = [x for x in tempNode.child if x.value == c]\n",
    "            if len(matching_child) == 0:\n",
    "                newNode = TrieNode(c)\n",
    "                if len(tempWord) == 1:\n",
    "                    # print(tempWord)\n",
    "                    newNode.isLast = True\n",
    "                tempNode.child.append(newNode)\n",
    "                tempNode = newNode\n",
    "            else:\n",
    "                if len(tempWord) == 1:\n",
    "                    print(tempWord)\n",
    "                    matching_child[0].isLast = True\n",
    "                tempNode = matching_child[0]\n",
    "            tempWord = tempWord[1:]\n",
    "\n",
    "    def search(self, word: str) -> bool:\n",
    "        tempNode = self.rootNode\n",
    "        tempWord = word\n",
    "        while(tempWord != \"\"):\n",
    "            c = tempWord[0]\n",
    "            matching_child = [x for x in tempNode.child if x.value == c]\n",
    "            if len(matching_child) == 0:\n",
    "               return False\n",
    "            if len(tempWord) == 1:\n",
    "                return matching_child[0].isLast\n",
    "            tempNode = matching_child[0]\n",
    "            tempWord = tempWord[1:]\n",
    "        return True\n",
    "\n",
    "    def startsWith(self, prefix: str) -> bool:\n",
    "        tempNode = self.rootNode\n",
    "        tempWord = prefix\n",
    "        while(tempWord != \"\"):\n",
    "            c = tempWord[0]\n",
    "            matching_child = [x for x in tempNode.child if x.value == c]\n",
    "            if len(matching_child) == 0:\n",
    "               return False\n",
    "            tempNode = matching_child[0]\n",
    "            tempWord = tempWord[1:]\n",
    "        return True\n",
    "\n",
    "\n",
    "# Your Trie object will be instantiated and called as such:\n",
    "# obj = Trie()\n",
    "# obj.insert(word)\n",
    "# param_2 = obj.search(word)\n",
    "# param_3 = obj.startsWith(prefix)"
   ]
  },
  {
   "cell_type": "code",
   "execution_count": null,
   "id": "614695e4-a91b-4198-84ed-97d367cdd274",
   "metadata": {},
   "outputs": [],
   "source": []
  }
 ],
 "metadata": {
  "kernelspec": {
   "display_name": "Python 3 (ipykernel)",
   "language": "python",
   "name": "python3"
  },
  "language_info": {
   "codemirror_mode": {
    "name": "ipython",
    "version": 3
   },
   "file_extension": ".py",
   "mimetype": "text/x-python",
   "name": "python",
   "nbconvert_exporter": "python",
   "pygments_lexer": "ipython3",
   "version": "3.11.8"
  }
 },
 "nbformat": 4,
 "nbformat_minor": 5
}
