{
 "cells": [
  {
   "cell_type": "markdown",
   "metadata": {},
   "source": [
    "<a id=\"0\"></a> <br>\n",
    "# Table of Contents  \n",
    "1. [121. Best Time to Buy and Sell Stock](#121)   \n",
    "1. [53. Maximum Subarray](#53)"
   ]
  },
  {
   "cell_type": "markdown",
   "metadata": {},
   "source": [
    "# 121. Best Time to Buy and Sell Stock"
   ]
  },
  {
   "cell_type": "code",
   "execution_count": null,
   "metadata": {},
   "outputs": [],
   "source": [
    "'''\n",
    "Best time to buy and sell stock. Given an array of numbers find the maximum profit. That means the difference between any two numbers should be maximum\n",
    "- such that a number earlier in the array is subtracted only by the number later in the array.\n",
    "- the numbers will always be positive\n",
    "- there will be atleast one element in the array\n",
    "\n",
    "Approach #1\n",
    "In the brute force way\n",
    "- for every number\n",
    "    - get the sum of this number from all numbers forward in the array. \n",
    "    - track the max difference\n",
    "O(n^2), O(1)\n",
    "\n",
    "Approach #2\n",
    "Utilizing cumulative sum and sliding window\n",
    "- Creative a cumulative sum array or prefix sum array\n",
    "[7,1,5,3,6,4] -> [7,8,13,16,22,26]\n",
    "- Create 2 pointers, start and end\n",
    "    - keep start = 0, end = 1\n",
    "    - get end - start, and update max\n",
    "    - move start\n",
    "!Does not work! Too complicated\n",
    "\n",
    "Approach #3 \n",
    "Using simple sliding window\n",
    "- keep track of min_till_now and diff_till_now\n",
    "- assign 0 as min_till_now idx and 0 as diff_till_now\n",
    "- go over all the elements, and compare the difference of this with min_till_now and update diff_till_now\n",
    "- edge case: for single element array, return 0\n",
    "O(n), O(1)\n",
    "'''\n",
    "\n",
    "def maxProfit(prices):\n",
    "    diff_till_now = 0\n",
    "    min_till_now = 0\n",
    "\n",
    "    for i in range(1, len(prices)):\n",
    "        if prices[i] > prices[min_till_now]:\n",
    "            diff_till_now = max(diff_till_now, prices[i] - prices[min_till_now])\n",
    "        min_till_now = i if prices[i] < prices[min_till_now] else min_till_now\n",
    "    \n",
    "    return diff_till_now\n"
   ]
  },
  {
   "cell_type": "markdown",
   "metadata": {},
   "source": [
    "<a id=\"53\"></ad>\n",
    "# 53. Maximum Subarray"
   ]
  },
  {
   "cell_type": "code",
   "execution_count": null,
   "metadata": {},
   "outputs": [],
   "source": [
    "'''\n",
    "subarray sum\n",
    "[-2,1,-3,4,-1,2,1,-5,4]\n",
    "- can contain negative numbers\n",
    "- there is atleast 1 number in the list \n",
    "\n",
    "Approach #1 naive \n",
    "- For each index\n",
    "    - for each window length\n",
    "        - sum the elements \n",
    "O(n^3), O(1)\n",
    "\n",
    "Approach #2\n",
    "optimize by removing extra sum step\n",
    "- for each index\n",
    "    - for each window length\n",
    "        - reuse the sum from last step, just subtract one element and add the new element\n",
    "O(n^2), O(1)\n",
    "\n",
    "'''\n",
    "\n",
    "def maxSubArray(nums):\n",
    "    max_sum = nums[0]\n",
    "\n",
    "    for i in range(len(nums)):\n",
    "        sum = 0\n",
    "        for len in range(len(nums) - i):\n",
    "            sum += nums[i + len]\n",
    "            max_sum = max(max_sum, sum)\n",
    "    return max_sum\n",
    "\n",
    "'''\n",
    "Approach #3\n",
    "Kadane's algorithm. One correct way to solve this problem is using kadane's algorithm which used a sliding window approach. \n",
    "- we maintain a current sum and max_sum\n",
    "- at each step calculate curr_sum as cumr_sum = curr_sum + curr_item\n",
    "- if the curr_sum is greater than max_sum. update max_sum (we need the max sum to be from within the array items hence the update before the last step which will reset the sum to 0 and 0 might not be a legit subaarray sum in the array)\n",
    "- if this curr_sum happen to be less than 0, make it to 0\n",
    "O(n), O(1)\n",
    "'''\n",
    "\n",
    "def maxSumArray(nums):\n",
    "    max_sum = nums[0]\n",
    "\n",
    "    curr_sum = 0\n",
    "    for i in range(len(nums)):\n",
    "        curr_sum += nums[i]\n",
    "\n",
    "        max_sum = max(max_sum, curr_sum)\n",
    "        curr_sum = curr_sum if curr_sum > 0 else 0  \n",
    "    return max_sum      \n"
   ]
  }
 ],
 "metadata": {
  "language_info": {
   "name": "python"
  }
 },
 "nbformat": 4,
 "nbformat_minor": 2
}
