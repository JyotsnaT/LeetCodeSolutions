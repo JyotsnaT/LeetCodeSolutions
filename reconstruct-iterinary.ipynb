{
 "cells": [
  {
   "cell_type": "markdown",
   "id": "699b75cb-b6eb-4402-a1c8-11daee24bf9c",
   "metadata": {},
   "source": [
    "# 332. Reconstruct Itinerary"
   ]
  },
  {
   "cell_type": "code",
   "execution_count": null,
   "id": "d4571cf0-5e2c-4ed8-b927-7b8bf8e96da9",
   "metadata": {},
   "outputs": [],
   "source": [
    "class Node:\n",
    "    def __init__(self, value):\n",
    "        val = value\n",
    "        next = []\n",
    "\n",
    "class Graph:\n",
    "    def __init__(self):\n",
    "        depart = Node(\"JFK\")\n",
    "\n",
    "    def createGraph(self, tickets):\n",
    "        alreadyCreatedNodes = [\"JFK\"]\n",
    "        for ticket in tickets:\n",
    "            start = ticket[0]\n",
    "            end = ticket[1]\n",
    "\n",
    "            if start not in alreadyCreatedNodes:\n",
    "                dest1 = Node(start)\n",
    "                alreadyCreatedNodes.append(start)\n",
    "            else:\n",
    "                dest1 = dfs(start, self.depart, {})\n",
    "            if end not in alreadyCreatedNodes:\n",
    "                dest2 = Node(end)\n",
    "                alreadyCreatedNodes.append(end)\n",
    "            else:\n",
    "                dest2 = dfs(start, self.depart, {})\n",
    "            dest1.next.append(dest2)\n",
    "\n",
    "    def dfs(self, val, root, visited):\n",
    "        if root.val == val:\n",
    "            return root\n",
    "        for dest in root.next:\n",
    "            if !visited[dest.val]:\n",
    "                visited[dest.val] = True\n",
    "                return dfs(val, dest.val)\n",
    "        return \n",
    "        \n",
    "\n",
    "class Solution:\n",
    "    def findItinerary(self, tickets):\n",
    "        graph = Graph()\n",
    "        graph.createGraph(tickets)\n",
    "        \n",
    "        return iterinary\n",
    "\n",
    "solObj = Solution()\n",
    "def evaluate(tickets):\n",
    "    solObj.findItinerary(tickets)"
   ]
  },
  {
   "cell_type": "markdown",
   "id": "1e93e2c7-2cc5-4c2b-9f61-07b68554182f",
   "metadata": {},
   "source": [
    "# Solution 2"
   ]
  },
  {
   "cell_type": "code",
   "execution_count": 1,
   "id": "4066eb47-861e-42d3-8862-db7f0eda8f6c",
   "metadata": {},
   "outputs": [
    {
     "ename": "IndentationError",
     "evalue": "expected an indented block after 'for' statement on line 4 (189155390.py, line 6)",
     "output_type": "error",
     "traceback": [
      "\u001b[1;36m  Cell \u001b[1;32mIn[1], line 6\u001b[1;36m\u001b[0m\n\u001b[1;33m    return iterinary\u001b[0m\n\u001b[1;37m    ^\u001b[0m\n\u001b[1;31mIndentationError\u001b[0m\u001b[1;31m:\u001b[0m expected an indented block after 'for' statement on line 4\n"
     ]
    }
   ],
   "source": [
    "class Solution:\n",
    "    def createIterinary(self, destinationsGraph):\n",
    "        startDest = \"JFK\"\n",
    "        iterinary = startDest\n",
    "        visited = [startDest]\n",
    "        stack = \n",
    "        for dest in sorted(destinationsGraph[startDest]):\n",
    "            \n",
    "        return iterinary\n",
    "        \n",
    "    def findItinerary(self, tickets):\n",
    "        destinationsGraph = {}\n",
    "        for ticket in tickets:\n",
    "            start = ticket[0]\n",
    "            end = ticket[1]\n",
    "\n",
    "            if start not in destinationsGraph.keys():\n",
    "                destinationsGraph[start] = [end]\n",
    "            else:\n",
    "                destinationsGraph[start].append(end)\n",
    "        return iterinary\n",
    "\n",
    "solObj = Solution()\n",
    "def evaluate(tickets):\n",
    "    solObj.findItinerary(tickets)"
   ]
  },
  {
   "cell_type": "code",
   "execution_count": null,
   "id": "2fc5cd7b-9895-4b1e-b241-e6f070753016",
   "metadata": {},
   "outputs": [],
   "source": []
  }
 ],
 "metadata": {
  "kernelspec": {
   "display_name": "Python 3 (ipykernel)",
   "language": "python",
   "name": "python3"
  },
  "language_info": {
   "codemirror_mode": {
    "name": "ipython",
    "version": 3
   },
   "file_extension": ".py",
   "mimetype": "text/x-python",
   "name": "python",
   "nbconvert_exporter": "python",
   "pygments_lexer": "ipython3",
   "version": "3.11.7"
  }
 },
 "nbformat": 4,
 "nbformat_minor": 5
}
