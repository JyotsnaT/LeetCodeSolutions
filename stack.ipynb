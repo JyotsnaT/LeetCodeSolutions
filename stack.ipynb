{
 "cells": [
  {
   "cell_type": "markdown",
   "id": "b3040469-5b52-4938-a63e-8d268023225e",
   "metadata": {},
   "source": [
    "# Stack"
   ]
  },
  {
   "cell_type": "markdown",
   "id": "58f4cf82",
   "metadata": {},
   "source": [
    "<a id=\"0\"></a> <br>\n",
    " # Table of Contents  \n",
    "1. [Daily Temperatures](#1)     \n",
    "1. [232. Implement Queue using Stacks](#232) \n",
    "\n"
   ]
  },
  {
   "cell_type": "markdown",
   "id": "8bc21ecb-5f0d-438b-94df-81b2c19c6684",
   "metadata": {},
   "source": [
    "# Daily temperatures"
   ]
  },
  {
   "cell_type": "code",
   "execution_count": 2,
   "id": "bcd9fbac-d415-44df-b750-ae14df8c026c",
   "metadata": {},
   "outputs": [],
   "source": [
    "class Solution:\n",
    "    def dailyTemperatures(temperatures):\n",
    "        N = len(temperatures)\n",
    "        answers = [0]*N\n",
    "        # Solution 1 : Brute force\n",
    "        # for i in range(N):\n",
    "        #     for j in range(i+1, N):\n",
    "        #         if temperatures[j] > temperatures[i]:\n",
    "        #             answers[i] = j-i\n",
    "        #             break\n",
    "\n",
    "        # Solution 2 : using stack\n",
    "\n",
    "        stack = []\n",
    "        stack.append(N-1)\n",
    "\n",
    "        for i in range(N-2, -1, -1):\n",
    "            while stack and temperatures[stack[-1]] <= temperatures[i]:\n",
    "                stack.pop()\n",
    "            if stack:\n",
    "                answers[i] = stack[-1]-i\n",
    "            stack.append(i)\n",
    "        \n",
    "        return answers"
   ]
  },
  {
   "cell_type": "code",
   "execution_count": null,
   "id": "cf7409fa-4d1d-4d86-8596-3afdc6caa724",
   "metadata": {},
   "outputs": [],
   "source": []
  },
  {
   "cell_type": "markdown",
   "id": "d0eeecfd-8a71-4712-8a2d-d67e0ae9ef63",
   "metadata": {},
   "source": [
    "# 1249. Minimum Remove to Make Valid Parentheses"
   ]
  },
  {
   "cell_type": "raw",
   "id": "3e673a0c-3c07-45a7-b063-5fcd2effa18a",
   "metadata": {},
   "source": [
    "am(azi)n(g)\n",
    "\"()()\"\n",
    "\n",
    "\"a)b(c)d\"\n",
    "\"a(b))d\"\n",
    "\n",
    "d)c(b)a   ab(c)    0\n",
    " a(b)d     1  \n"
   ]
  },
  {
   "cell_type": "code",
   "execution_count": 29,
   "id": "c1ae3390-ef52-49cd-bd7d-bdaa4c8e3f4d",
   "metadata": {},
   "outputs": [
    {
     "data": {
      "text/plain": [
       "'\\ns = \"lee(t(c)o)de)\"\\n\\nstack               p_count     s_new\\n           0            lee(t(c)o)de\\n\\n\\n\\n'"
      ]
     },
     "execution_count": 29,
     "metadata": {},
     "output_type": "execute_result"
    }
   ],
   "source": [
    "def minRemoveToMakeValid(s):\n",
    "    # Process the string to find paranthesis mismatch and assign to new string\n",
    "    s_new = \"\"\n",
    "    p_count = 0\n",
    "    for letter in s:\n",
    "        if letter not in ['(', ')']:\n",
    "            s_new += letter\n",
    "        else:\n",
    "            if letter == '(':\n",
    "                p_count += 1\n",
    "                s_new += letter\n",
    "            else:\n",
    "                if p_count > 0:\n",
    "                    p_count -= 1\n",
    "                    s_new += letter\n",
    "\n",
    "\n",
    "    #To handle excess opening brackets\n",
    "    if p_count > 0:\n",
    "        j = len(s_new)-1\n",
    "        while(p_count > 0 or j >= 0):\n",
    "            if s_new[j] == '(':\n",
    "                s_new = s_new[:j] + s_new[j+1:]\n",
    "                p_count -= 1\n",
    "            j -= 1\n",
    "                \n",
    "    return s_new\n",
    "\n",
    "'''\n",
    "s = \"lee(t(c)o)de)\"\n",
    "\n",
    "stack               p_count     s_new\n",
    "           0            lee(t(c)o)de\n",
    "\n",
    "\n",
    "\n",
    "'''"
   ]
  },
  {
   "cell_type": "code",
   "execution_count": 30,
   "id": "46a744b8-3ee2-437a-906b-53a45095acc1",
   "metadata": {},
   "outputs": [
    {
     "data": {
      "text/plain": [
       "'lee(t(c)o)de'"
      ]
     },
     "execution_count": 30,
     "metadata": {},
     "output_type": "execute_result"
    }
   ],
   "source": [
    "minRemoveToMakeValid(\"lee(t(c)o)de)\")"
   ]
  },
  {
   "cell_type": "code",
   "execution_count": 31,
   "id": "a7fa7453-8769-4864-8b23-ec4a673d458c",
   "metadata": {},
   "outputs": [
    {
     "data": {
      "text/plain": [
       "'abc)d)'"
      ]
     },
     "execution_count": 31,
     "metadata": {},
     "output_type": "execute_result"
    }
   ],
   "source": [
    "minRemoveToMakeValid(\"(a(b(c)d)\")"
   ]
  },
  {
   "cell_type": "raw",
   "id": "0be27ab4-9003-477e-b8bb-de4b3954aca5",
   "metadata": {},
   "source": [
    "The above solution was incomplete and was not covering all the test cases. The intuition to use a stack was right, but it wasn't used properly."
   ]
  },
  {
   "cell_type": "code",
   "execution_count": 9,
   "id": "e3ba5c12-cc94-4f6b-be35-e553e16db217",
   "metadata": {},
   "outputs": [],
   "source": [
    "def minRemoveToMakeValid(s):\n",
    "    index_stack = []\n",
    "    invalid_indices = []\n",
    "    for i in range(len(s)):\n",
    "        if s[i] == '(':\n",
    "            index_stack.append(i)\n",
    "        if s[i] == ')':\n",
    "            if len(index_stack) == 0:\n",
    "                invalid_indices.append(i)\n",
    "            else:\n",
    "                index_stack.pop()\n",
    "\n",
    "    invalid_indices = invalid_indices + index_stack\n",
    "\n",
    "    s_new = \"\"\n",
    "    for i in range(len(s)):\n",
    "        if i not in invalid_indices:\n",
    "            s_new += s[i]\n",
    "\n",
    "    return s_new"
   ]
  },
  {
   "cell_type": "code",
   "execution_count": 10,
   "id": "0b706c15-ebed-4d09-a3a8-d2aeea2f2c2b",
   "metadata": {},
   "outputs": [
    {
     "data": {
      "text/plain": [
       "'a(b(c)d)'"
      ]
     },
     "execution_count": 10,
     "metadata": {},
     "output_type": "execute_result"
    }
   ],
   "source": [
    "minRemoveToMakeValid(\"(a(b(c)d)\")"
   ]
  },
  {
   "cell_type": "code",
   "execution_count": null,
   "id": "5a4b3bb2-5f85-4c1f-a125-3c4ff055b7bd",
   "metadata": {},
   "outputs": [],
   "source": []
  },
  {
   "cell_type": "code",
   "execution_count": null,
   "id": "a51dcaed-da18-4b89-88f1-3fe79222c3fd",
   "metadata": {},
   "outputs": [],
   "source": []
  },
  {
   "cell_type": "code",
   "execution_count": 24,
   "id": "8ee9e22f-d99f-415d-99ba-ea72cfaaab7f",
   "metadata": {},
   "outputs": [],
   "source": [
    "string_validity = {}\n",
    "def isValid(s):     #O(n)\n",
    "    # nonlocal string_validity\n",
    "    if s not in string_validity:\n",
    "        valid = False\n",
    "        if s == \"\":\n",
    "            valid = True\n",
    "        elif s[0].isalpha() or s[-1].isalpha():\n",
    "            valid = False\n",
    "        else:\n",
    "            stack = []\n",
    "            for i in range(len(s)):\n",
    "                letter = s[i]\n",
    "                print(stack, letter, i)\n",
    "                if letter == \"(\":\n",
    "                    stack.append(letter)\n",
    "                elif letter == \")\":\n",
    "                    if len(stack)>0 and stack[-1] == \"(\":\n",
    "                        stack.pop()\n",
    "                    else:\n",
    "                        valid = False\n",
    "                        break\n",
    "            valid = False if len(stack)>0 or i!=len(s)-1 else True\n",
    "        string_validity[s] = valid\n",
    "    return string_validity[s]"
   ]
  },
  {
   "cell_type": "code",
   "execution_count": 70,
   "id": "0788cdbb-3171-4a8b-a9d5-6025230fb723",
   "metadata": {},
   "outputs": [
    {
     "data": {
      "text/plain": [
       "True"
      ]
     },
     "execution_count": 70,
     "metadata": {},
     "output_type": "execute_result"
    }
   ],
   "source": [
    "isValid(\"()())\")"
   ]
  },
  {
   "cell_type": "code",
   "execution_count": 69,
   "id": "897eb249-94ea-43df-85b4-7956f1629240",
   "metadata": {},
   "outputs": [
    {
     "data": {
      "text/plain": [
       "'\\ns                             stack             i                  curr_letter                  \\nTest #1   \\ns = \"\"\\n[]                              []\\nTest #2\\ns = \"()\"\\n                                []                2                   )\\nTest #3\\ns = \"())\"\\n                                [)]                2                    )\\n'"
      ]
     },
     "execution_count": 69,
     "metadata": {},
     "output_type": "execute_result"
    }
   ],
   "source": [
    "'''\n",
    "Unmemoized version of paranthesis match.\n",
    "- go through word one by one\n",
    "    - push every openeing bracket obeserved\n",
    "    - pop a opening bracket for every closing bracket.\n",
    "- return true of the stack was empty in the end\n",
    "- if anytime in between there was nothing to match the closing bracket with, break and return false\n",
    "'''\n",
    "\n",
    "def paranthesis_match(s):\n",
    "    string_validity = {}\n",
    "    if s not in string_validity:\n",
    "        stack = []\n",
    "        \n",
    "        for i in range(len(s)):\n",
    "            curr_letter = s[i]\n",
    "            if curr_letter == \"(\":\n",
    "                stack.append(curr_letter)\n",
    "            elif curr_letter == \")\":\n",
    "                if len(stack) > 0 and stack[-1] == '(':\n",
    "                        stack.pop()\n",
    "                else:\n",
    "                    stack.append(curr_letter)\n",
    "                    break \n",
    "        valid = False if len(stack)>0 else True\n",
    "        string_validity[s] = valid\n",
    "    return string_validity[s]\n",
    "\n",
    "'''\n",
    "s                             stack             i                  curr_letter                  \n",
    "Test #1   \n",
    "s = \"\"\n",
    "[]                              []\n",
    "Test #2\n",
    "s = \"()\"\n",
    "                                []                2                   )\n",
    "Test #3\n",
    "s = \"())\"\n",
    "                                [)]                2                    )\n",
    "'''"
   ]
  },
  {
   "cell_type": "code",
   "execution_count": 66,
   "id": "99ad5ec1-af02-4bae-aba7-0acf3aa52f37",
   "metadata": {},
   "outputs": [],
   "source": [
    "# test cases for paranthesis match\n",
    "\n",
    "string_dict = {'()())()': False, ')())()': False, '())()': False, '))()': False, ')()': False, '()': True, ')': True, '': True, '(': False, '))': False, ')(': False, ')))': False, '))(': False, '()()': True, '(()': False, '((': False, '())': True, '()(': False, '()))': False, '())(': False, ')))()': False, '))))': False, ')))(': False, ')()()': False, ')(()': False, ')((': False, ')())': False, ')()(': False, ')()))': False, ')())(': False, '(())()': True, '(()()': False, '((()': False, '(((': False, '(())': True, '(()(': False, '(()))': True, '(())(': False, '()))()': False, '())))': False, '()))(': False, '()()()': True, '()(()': False, '()((': False, '()())': True, '()()(': False, '()()))': False, '()())(': False}\n"
   ]
  },
  {
   "cell_type": "code",
   "execution_count": 67,
   "id": "1a71cdf5-5954-4f4a-969d-1b1260553860",
   "metadata": {},
   "outputs": [
    {
     "name": "stdout",
     "output_type": "stream",
     "text": [
      "()())() False\n",
      ")())() False\n",
      "())() False\n",
      "))() False\n",
      ")() False\n",
      "() True\n",
      ") False\n",
      " True\n",
      "( False\n",
      ")) False\n",
      ")( False\n",
      "))) False\n",
      "))( False\n",
      "()() True\n",
      "(() False\n",
      "(( False\n",
      "()) False\n",
      "()( False\n",
      "())) False\n",
      "())( False\n",
      ")))() False\n",
      ")))) False\n",
      ")))( False\n",
      ")()() False\n",
      ")(() False\n",
      ")(( False\n",
      ")()) False\n",
      ")()( False\n",
      ")())) False\n",
      ")())( False\n",
      "(())() True\n",
      "(()() False\n",
      "((() False\n",
      "((( False\n",
      "(()) True\n",
      "(()( False\n",
      "(())) False\n",
      "(())( False\n",
      "()))() False\n",
      "()))) False\n",
      "()))( False\n",
      "()()() True\n",
      "()(() False\n",
      "()(( False\n",
      "()()) False\n",
      "()()( False\n",
      "()())) False\n",
      "()())( False\n"
     ]
    }
   ],
   "source": [
    "for str in string_dict.keys():\n",
    "    print(str, paranthesis_match(str))"
   ]
  },
  {
   "cell_type": "code",
   "execution_count": 71,
   "id": "f6a8846b-bdd9-4ab0-a7fe-0b747e0283e0",
   "metadata": {},
   "outputs": [
    {
     "data": {
      "text/plain": [
       "False"
      ]
     },
     "execution_count": 71,
     "metadata": {},
     "output_type": "execute_result"
    }
   ],
   "source": [
    "paranthesis_match(\"()())\")"
   ]
  },
  {
   "cell_type": "code",
   "execution_count": null,
   "id": "7a9b4279-2954-4c22-acd8-36eb4fc21044",
   "metadata": {},
   "outputs": [],
   "source": [
    "\"((()((s((((()\""
   ]
  },
  {
   "cell_type": "code",
   "execution_count": null,
   "id": "0cf8bb25-3b25-4c30-b8a4-870163c021e8",
   "metadata": {},
   "outputs": [],
   "source": []
  },
  {
   "cell_type": "code",
   "execution_count": null,
   "id": "2ab6253a-a901-4c43-a2de-55793af8f668",
   "metadata": {},
   "outputs": [],
   "source": []
  },
  {
   "cell_type": "markdown",
   "id": "6b3dbc35-7b50-4485-98b9-ba6755ccea1e",
   "metadata": {},
   "source": [
    "# 71. Simplify Path"
   ]
  },
  {
   "cell_type": "code",
   "execution_count": 5,
   "id": "9f47247c-30af-4831-a244-b4762fbfbebd",
   "metadata": {},
   "outputs": [
    {
     "data": {
      "text/plain": [
       "'\\nTest #1\\n\\npath        input_list        item     output_list       simplified_path\\n\"/home/\"     [\"home\"]         \"home\"        [home]        /home \\n/../         [..]              ..       []                 /\\n/home//foo   [home, foo]      foo      [home, foo]          /home/foo \\n'"
      ]
     },
     "execution_count": 5,
     "metadata": {},
     "output_type": "execute_result"
    }
   ],
   "source": [
    "'''\n",
    "Absolute path - canonical path\n",
    "- // -> /\n",
    "- /../ -> /\n",
    "- ../ -> /\n",
    "- . -> /\n",
    "- /./ -> /\n",
    "- ../../.../colon/ -> /colon/\n",
    "- /a/./b/../../c/ -> /c\n",
    "\n",
    "- /word -> copy as it is \n",
    "- /.. -> remove last directory in output\n",
    "- /. -> ignore\n",
    "- //// -> /\n",
    "\n",
    "solution #1 O(n), O(n)\n",
    "1. split string on /\n",
    "    - list of either dots or words\n",
    "    - parse list one by one\n",
    "    - - word -> copy as it is \n",
    "      - .. -> pop last directory in output if not empty\n",
    "      - . -> ignore\n",
    "      - -> ignore\n",
    "    - join the list with '/'. Append a '/' at the beginning.\n",
    "'''\n",
    "\n",
    "def simplifyPath(path):\n",
    "      # split string\n",
    "      input_list = path.split('/')\n",
    "      print(input_list)\n",
    "\n",
    "      output_list = []\n",
    "      # traverse the input list\n",
    "      for item in input_list:\n",
    "          if item in ['.', '']:\n",
    "              continue\n",
    "          elif item == '..':\n",
    "              if len(input_list) > 0:\n",
    "                  output_list.pop()\n",
    "          else:\n",
    "              output_list.append(item)\n",
    "      \n",
    "      simplified_path = '/' + '/'.join(output_list)\n",
    "      return simplified_path\n",
    "\n",
    "'''\n",
    "Test #1\n",
    "\n",
    "path        input_list        item     output_list       simplified_path\n",
    "\"/home/\"     [\"home\"]         \"home\"        [home]        /home \n",
    "/../         [..]              ..       []                 /\n",
    "/home//foo   [home, foo]      foo      [home, foo]          /home/foo \n",
    "'''"
   ]
  },
  {
   "cell_type": "code",
   "execution_count": 6,
   "id": "fd69d70e-5e7b-4f48-a2a9-1b501df73825",
   "metadata": {},
   "outputs": [
    {
     "name": "stdout",
     "output_type": "stream",
     "text": [
      "['', 'home', '']\n"
     ]
    },
    {
     "data": {
      "text/plain": [
       "'/home'"
      ]
     },
     "execution_count": 6,
     "metadata": {},
     "output_type": "execute_result"
    }
   ],
   "source": [
    "simplifyPath(\"/home/\")"
   ]
  },
  {
   "cell_type": "code",
   "execution_count": null,
   "id": "eccc85ce-5e4a-41b8-9ccd-a4ba0b688802",
   "metadata": {},
   "outputs": [],
   "source": []
  },
  {
   "cell_type": "markdown",
   "id": "b142f003-e201-41dc-a079-47200e5be4be",
   "metadata": {},
   "source": [
    "# 735. Asteroid Collision"
   ]
  },
  {
   "cell_type": "code",
   "execution_count": 7,
   "id": "07d5bd29-9e2f-4db6-9f4d-d23204e22640",
   "metadata": {},
   "outputs": [
    {
     "ename": "NameError",
     "evalue": "name 'List' is not defined",
     "output_type": "error",
     "traceback": [
      "\u001b[1;31m---------------------------------------------------------------------------\u001b[0m",
      "\u001b[1;31mNameError\u001b[0m                                 Traceback (most recent call last)",
      "Cell \u001b[1;32mIn[7], line 7\u001b[0m\n\u001b[0;32m      1\u001b[0m \u001b[38;5;124;03m'''\u001b[39;00m\n\u001b[0;32m      2\u001b[0m \u001b[38;5;124;03mAuthor : Jyotsna\u001b[39;00m\n\u001b[0;32m      3\u001b[0m \n\u001b[0;32m      4\u001b[0m \u001b[38;5;124;03mThis function finds out the state of sequence of asteroids represented by their size and direction after their collision\u001b[39;00m\n\u001b[0;32m      5\u001b[0m \u001b[38;5;124;03m'''\u001b[39;00m\n\u001b[1;32m----> 7\u001b[0m \u001b[38;5;28;43;01mclass\u001b[39;49;00m\u001b[43m \u001b[49m\u001b[38;5;21;43;01mSolution\u001b[39;49;00m\u001b[43m:\u001b[49m\n\u001b[0;32m      8\u001b[0m \u001b[43m    \u001b[49m\u001b[38;5;28;43;01mdef\u001b[39;49;00m\u001b[43m \u001b[49m\u001b[38;5;21;43masteroidCollision\u001b[39;49m\u001b[43m(\u001b[49m\u001b[38;5;28;43mself\u001b[39;49m\u001b[43m,\u001b[49m\u001b[43m \u001b[49m\u001b[43masteroids\u001b[49m\u001b[43m:\u001b[49m\u001b[43m \u001b[49m\u001b[43mList\u001b[49m\u001b[43m[\u001b[49m\u001b[38;5;28;43mint\u001b[39;49m\u001b[43m]\u001b[49m\u001b[43m)\u001b[49m\u001b[43m \u001b[49m\u001b[38;5;241;43m-\u001b[39;49m\u001b[38;5;241;43m>\u001b[39;49m\u001b[43m \u001b[49m\u001b[43mList\u001b[49m\u001b[43m[\u001b[49m\u001b[38;5;28;43mint\u001b[39;49m\u001b[43m]\u001b[49m\u001b[43m:\u001b[49m\n\u001b[0;32m      9\u001b[0m \u001b[43m        \u001b[49m\u001b[43mstack\u001b[49m\u001b[43m \u001b[49m\u001b[38;5;241;43m=\u001b[39;49m\u001b[43m \u001b[49m\u001b[43m[\u001b[49m\u001b[43m]\u001b[49m\n",
      "Cell \u001b[1;32mIn[7], line 8\u001b[0m, in \u001b[0;36mSolution\u001b[1;34m()\u001b[0m\n\u001b[0;32m      7\u001b[0m \u001b[38;5;28;01mclass\u001b[39;00m \u001b[38;5;21;01mSolution\u001b[39;00m:\n\u001b[1;32m----> 8\u001b[0m     \u001b[38;5;28;01mdef\u001b[39;00m \u001b[38;5;21masteroidCollision\u001b[39m(\u001b[38;5;28mself\u001b[39m, asteroids: \u001b[43mList\u001b[49m[\u001b[38;5;28mint\u001b[39m]) \u001b[38;5;241m-\u001b[39m\u001b[38;5;241m>\u001b[39m List[\u001b[38;5;28mint\u001b[39m]:\n\u001b[0;32m      9\u001b[0m         stack \u001b[38;5;241m=\u001b[39m []\n\u001b[0;32m     11\u001b[0m         \u001b[38;5;28;01mfor\u001b[39;00m aster \u001b[38;5;129;01min\u001b[39;00m asteroids:\n",
      "\u001b[1;31mNameError\u001b[0m: name 'List' is not defined"
     ]
    }
   ],
   "source": [
    "'''\n",
    "Author : Jyotsna\n",
    "\n",
    "This function finds out the state of sequence of asteroids represented by their size and direction after their collision\n",
    "'''\n",
    "\n",
    "class Solution:\n",
    "    def asteroidCollision(self, asteroids: List[int]) -> List[int]:\n",
    "        stack = []\n",
    "\n",
    "        for aster in asteroids:\n",
    "            if not stack or stack[-1]*aster > 0 or stack[-1] * -1 >0:\n",
    "                stack.append(aster)\n",
    "            else:\n",
    "                while stack and stack[-1]*aster < 0 and abs(stack[-1]) < abs(aster):\n",
    "                    stack.pop()\n",
    "                if not stack or stack[-1]*aster > 0:\n",
    "                    stack.append(aster)\n",
    "                elif abs(stack[-1]) == abs(aster):\n",
    "                    stack.pop()\n",
    "                else:\n",
    "                    continue\n",
    "        \n",
    "        return stack"
   ]
  },
  {
   "cell_type": "code",
   "execution_count": null,
   "id": "b467c16f-86c4-4766-a31d-636daf257cd0",
   "metadata": {},
   "outputs": [],
   "source": []
  },
  {
   "cell_type": "code",
   "execution_count": 8,
   "id": "c2e0c82b-ea1d-4927-8f78-dbe7a33eb6eb",
   "metadata": {},
   "outputs": [
    {
     "data": {
      "text/plain": [
       "'\\nTest #1\\ns = \")(\"\\nclose_counter         stack       par\\n      1               [(]          (    2\\n\\n'"
      ]
     },
     "execution_count": 8,
     "metadata": {},
     "output_type": "execute_result"
    }
   ],
   "source": [
    "'''\n",
    "s = \"(()\" -> \"(())\"\n",
    "s = \"()()()((((((\" -> \"()()()(((((())))))\"\n",
    "s = \")(\" -> \"()()\"\n",
    "paranthesis string\n",
    "output - 1, 6, 2\n",
    "\n",
    "Aprroach\n",
    "#1\n",
    "- If there is an unmatched paranthesis, closing it would it valid\n",
    "- Count number of unmatched paranthesis\n",
    "- validate paranthesis\n",
    "    - stack to keep track of matched paranthesis\n",
    "    - if there is an opening para, then push to the stack\n",
    "    - if there is a closing para, then pop to the stack\n",
    "    - in the end the stack should be empty\n",
    "\n",
    "\"(()\"\n",
    "\n",
    "s = [(,] - 1\n",
    "\n",
    "\"()()()((((((\"\n",
    "s = [((((((] - 1\n",
    " \n",
    "\"()))()\"\n",
    "s = []\n",
    "\n",
    "\")(\"\n",
    "s = [(] count = 1, 2\n",
    "\n",
    "O(N), O(N)\n",
    "'''\n",
    "\n",
    "def minAddToMakeValid(s):\n",
    "    close_counter = 0\n",
    "    stack = []\n",
    "    for par in s:\n",
    "        if par == '(':\n",
    "            stack.append(par)\n",
    "        else:\n",
    "            if len(stack) == 0:\n",
    "                close_counter += 1\n",
    "            else:\n",
    "                stack.pop()\n",
    "    \n",
    "    return len(stack) + close_counter\n",
    "\n",
    "\n",
    "'''\n",
    "Test #1\n",
    "s = \")(\"\n",
    "close_counter         stack       par\n",
    "      1               [(]          (    2\n",
    "\n",
    "'''\n",
    "\n",
    "\n"
   ]
  },
  {
   "cell_type": "markdown",
   "id": "1d7ca74f",
   "metadata": {},
   "source": [
    "# 20. Valid Parentheses"
   ]
  },
  {
   "cell_type": "code",
   "execution_count": null,
   "id": "d845a7e5-b54e-4285-9aba-dfaaaa3a0c50",
   "metadata": {},
   "outputs": [],
   "source": [
    "'''\n",
    "validate if paranthesis are opened and closed properly\n",
    "{}, {()}, {[()]}\n",
    "{], {(})\n",
    "\n",
    "Approach #1\n",
    "- use stack to push an open bracket and pop when opening bracket is encountered.\n",
    "- whenever the closing does not match with open, it is invalid\n",
    "- if closing bracket is trying to pop on an empty stack it is invalid\n",
    "- if the stack is not empty by the end of it, it is invalid\n",
    "O(n). O(n)\n",
    "'''\n",
    "def isValid(s):\n",
    "    S = []\n",
    "\n",
    "    opening_brackets = {'}': '{', ')' : '(', ']' : '['}\n",
    "    for brack in s:\n",
    "        if brack in opening_brackets.values():\n",
    "            S.append(brack)\n",
    "        else:\n",
    "            if len(S) == 0 :\n",
    "                return False\n",
    "            elif S[-1] != opening_brackets[brack]:\n",
    "                return False\n",
    "            else:\n",
    "                S.pop()\n",
    "    if len(S) > 0:\n",
    "        return False\n",
    "    return True\n",
    "            \n"
   ]
  },
  {
   "cell_type": "markdown",
   "id": "e876a015",
   "metadata": {},
   "source": [
    "<a id='232'></a>\n",
    "# 232. Implement Queue using Stacks"
   ]
  },
  {
   "cell_type": "code",
   "execution_count": null,
   "id": "5efe07e9",
   "metadata": {},
   "outputs": [],
   "source": [
    "'''\n",
    "queue implementation using stack for following functions using two stacks\n",
    "push, pop, peek, empty\n",
    "\n",
    "Appraoch #1\n",
    "- maintain 2 stacks - 'back' and 'front'\n",
    "- maintain a 'top' variable pointing to the bottom of the stack\n",
    "push\n",
    "    - for every new element append to the 'back' stack\n",
    "    - if the length of back stack is 1, update the 'top' variable\n",
    "    O(1)\n",
    "pop \n",
    "    - empty all the contents of the 'back' stack to the 'front' stack\n",
    "    - pop the top element\n",
    "    - update the 'top' variable\n",
    "    - push all the contents back to the 'back' stack\n",
    "    O(n)\n",
    "peek\n",
    "    - return the contents of 'top' variable\n",
    "    O(1)\n",
    "empty  \n",
    "    - return  if length of 'back' stack is 0\n",
    "    O(1)\n",
    "'''\n",
    "\n",
    "class MyQueue:\n",
    "    def __init__(self):\n",
    "        self.top = -1\n",
    "        self.back = []\n",
    "        self.front = []\n",
    "    \n",
    "    def push(self, x):\n",
    "        self.back.append(x)\n",
    "        if len(self.back) == 1:\n",
    "            self.top = x\n",
    "        return\n",
    "\n",
    "    def pop(self):\n",
    "        if len(self.back) > 0:\n",
    "            while(len(self.back)>0):\n",
    "                self.front.append(self.back[0])\n",
    "                self.back.pop()\n",
    "\n",
    "            popped_element = self.front.pop()\n",
    "\n",
    "            self.top = self.front[0] if len(self.front) > 0 else -1\n",
    " \n",
    "            while(len(self.front)>0):\n",
    "                self.back.append(self.front[0])\n",
    "                self.front.pop()\n",
    "\n",
    "            return popped_element\n",
    "        else:\n",
    "            return -1\n",
    "\n",
    "    def peek(self):\n",
    "        return self.top\n",
    "\n",
    "    def empty(self):\n",
    "        return len(self.back) == 0\n",
    "\n",
    "\n"
   ]
  },
  {
   "cell_type": "code",
   "execution_count": null,
   "id": "1009883c",
   "metadata": {},
   "outputs": [],
   "source": [
    "'''\n",
    "To make the pop operation amortized O(1), we can do following modifications to pop functions - \n",
    "\n",
    "pop \n",
    "    - empty all the contents of the 'back' stack to the 'front' stack only when 'front' stack  is empty\n",
    "    - pop the top element\n",
    "    - update the 'top' variable\n",
    "    - do dnot push all the contents back to the 'back' stack\n",
    "    O(1) - amortized. Since the number of pops will be limited by the number of appends, you have to do data transfer from back to front only once for all n times. Rest of the times you just pop with O(1) time from 'front' stack\n",
    "'''\n",
    "class MyQueue:\n",
    "\n",
    "    def __init__(self):\n",
    "        self.top = -1\n",
    "        self.back = []\n",
    "        self.front = []\n",
    "    \n",
    "    def push(self, x):\n",
    "        self.back.append(x)\n",
    "        if len(self.back) == 1:\n",
    "            self.top = x\n",
    "        return\n",
    "\n",
    "    def pop(self):\n",
    "        if not self.empty():\n",
    "            if len(self.front) == 0:\n",
    "                while(len(self.back)>0):\n",
    "                    self.front.append(self.back.pop())\n",
    "            return self.front.pop()\n",
    "        else:\n",
    "            return -1\n",
    "\n",
    "    def peek(self):\n",
    "        if len(self.front) != 0:\n",
    "            return self.front[-1]\n",
    "        return self.top\n",
    "\n",
    "    def empty(self):\n",
    "        return len(self.back) == 0 and len(self.front) == 0\n"
   ]
  }
 ],
 "metadata": {
  "kernelspec": {
   "display_name": "Python 3 (ipykernel)",
   "language": "python",
   "name": "python3"
  },
  "language_info": {
   "codemirror_mode": {
    "name": "ipython",
    "version": 3
   },
   "file_extension": ".py",
   "mimetype": "text/x-python",
   "name": "python",
   "nbconvert_exporter": "python",
   "pygments_lexer": "ipython3",
   "version": "3.11.8"
  }
 },
 "nbformat": 4,
 "nbformat_minor": 5
}
