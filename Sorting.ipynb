{
 "cells": [
  {
   "cell_type": "markdown",
   "id": "29ff5a71-8138-4933-931a-34ffa44d43ab",
   "metadata": {},
   "source": [
    "# Bubble sort"
   ]
  },
  {
   "cell_type": "code",
   "execution_count": 3,
   "id": "dc901fa8-27a3-4a61-946b-7c49197c1c38",
   "metadata": {},
   "outputs": [],
   "source": [
    "def bubble_sort():\n",
    "    return"
   ]
  },
  {
   "cell_type": "code",
   "execution_count": null,
   "id": "ca0888cb-2a2b-42e5-a0a7-e4c93e57ff5e",
   "metadata": {},
   "outputs": [],
   "source": []
  },
  {
   "cell_type": "code",
   "execution_count": null,
   "id": "f78daf2c-3d00-47c0-bc7e-b29f86197b76",
   "metadata": {},
   "outputs": [],
   "source": []
  },
  {
   "cell_type": "code",
   "execution_count": null,
   "id": "c6302538-51a1-4f72-9583-0a45dce063c4",
   "metadata": {},
   "outputs": [],
   "source": []
  },
  {
   "cell_type": "markdown",
   "id": "4e131025-49b6-4fd9-b2f4-7b3ad586cbb9",
   "metadata": {},
   "source": [
    "# Merge Sort"
   ]
  },
  {
   "cell_type": "code",
   "execution_count": 4,
   "id": "86326cbc-68d4-48ae-a41a-f1601b7a26a5",
   "metadata": {},
   "outputs": [],
   "source": [
    "def copyback(array, helper, offset):\n",
    "    for i in range(len(array)):\n",
    "        array[offset+1] = helper[i]\n",
    "        \n",
    "\n",
    "def merge_back(array, left_start, right_start, right_end):\n",
    "    helper = [1] * right_end - left_start + 1\n",
    "\n",
    "    left_idx = left_start\n",
    "    right_idx = right_start\n",
    "    for i in range(len(helper)):\n",
    "        # Give me left if approporiate\n",
    "        if right_index > right_end and left_index < right_index and arr[left_idx] < arr[right_idx]:\n",
    "            helper[i] = arr[left_idx]\n",
    "            left_index += 1\n",
    "        # else give me right\n",
    "        else:\n",
    "            helper[i] = arr[right_idx]\n",
    "            right_index += 1    \n",
    "\n",
    "def merge_sort_helper(arr, left, right):\n",
    "    if start == end:\n",
    "        return\n",
    "\n",
    "    mid = math.floor(left + (right-left)/2)\n",
    "    merge_sort_helper(left, mid)\n",
    "    merge_sort_helper(mid+1, right)\n",
    "    helper = merge_back(array, left, mid+1, right)\n",
    "    copyback(array, helper, left)\n",
    "\n",
    "def merge_sort(arr):\n",
    "    N = len(arr)\n",
    "    merge_sort_helper(arr, 0, len(arr)-1)\n",
    "    "
   ]
  },
  {
   "cell_type": "code",
   "execution_count": 9,
   "id": "dff9a9a8-07ff-469d-8b14-3b57d04f2632",
   "metadata": {},
   "outputs": [
    {
     "ename": "TypeError",
     "evalue": "'module' object is not callable",
     "output_type": "error",
     "traceback": [
      "\u001b[1;31m---------------------------------------------------------------------------\u001b[0m",
      "\u001b[1;31mTypeError\u001b[0m                                 Traceback (most recent call last)",
      "Cell \u001b[1;32mIn[9], line 2\u001b[0m\n\u001b[0;32m      1\u001b[0m \u001b[38;5;28;01mimport\u001b[39;00m \u001b[38;5;21;01mnumpy\u001b[39;00m \u001b[38;5;28;01mas\u001b[39;00m \u001b[38;5;21;01mnp\u001b[39;00m\n\u001b[1;32m----> 2\u001b[0m array \u001b[38;5;241m=\u001b[39m \u001b[43mnp\u001b[49m\u001b[38;5;241;43m.\u001b[39;49m\u001b[43mrandom\u001b[49m\u001b[43m(\u001b[49m\u001b[38;5;241;43m1\u001b[39;49m\u001b[43m,\u001b[49m\u001b[43m \u001b[49m\u001b[38;5;241;43m100\u001b[39;49m\u001b[43m)\u001b[49m\n\u001b[0;32m      3\u001b[0m array\n",
      "\u001b[1;31mTypeError\u001b[0m: 'module' object is not callable"
     ]
    }
   ],
   "source": [
    "import numpy as np\n",
    "array = np.random.arnd(1, 100)\n",
    "array"
   ]
  },
  {
   "cell_type": "code",
   "execution_count": null,
   "id": "ce05d9e2-8d55-4d3a-b0e1-bd2ff5b21469",
   "metadata": {},
   "outputs": [],
   "source": []
  }
 ],
 "metadata": {
  "kernelspec": {
   "display_name": "Python 3 (ipykernel)",
   "language": "python",
   "name": "python3"
  },
  "language_info": {
   "codemirror_mode": {
    "name": "ipython",
    "version": 3
   },
   "file_extension": ".py",
   "mimetype": "text/x-python",
   "name": "python",
   "nbconvert_exporter": "python",
   "pygments_lexer": "ipython3",
   "version": "3.11.7"
  }
 },
 "nbformat": 4,
 "nbformat_minor": 5
}
