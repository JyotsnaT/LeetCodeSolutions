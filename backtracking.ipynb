{
 "cells": [
  {
   "cell_type": "markdown",
   "id": "47473994-7630-41d1-a11c-2ab33f3c5e44",
   "metadata": {},
   "source": [
    "# Backtracking"
   ]
  },
  {
   "cell_type": "markdown",
   "id": "54fc9dc2-1259-41ba-b638-06c8e35cba93",
   "metadata": {},
   "source": [
    "## Combination sum"
   ]
  },
  {
   "cell_type": "code",
   "execution_count": 1,
   "id": "455b5e1a-3d3a-415b-a74e-d614a6a4f0b0",
   "metadata": {},
   "outputs": [],
   "source": [
    "'''\n",
    "Author : Jyotsna\n",
    "Here we implement solution to the combination sum I problem from leetcode. \n",
    "Following are the three different DP implementation to the problem.\n",
    "\n",
    "Input: candidates = [2,3,6,7], target = 7\n",
    "Output: [[2,2,3],[7]]\n",
    "\n",
    "     7      [2,3,6,7]\n",
    "         2/       3/     6\\     7\\ \n",
    "    [2,3,6,7]   [6,7]\n",
    "   2/      3\\      \n",
    "  [2,3,6,7]  [6,7]\n",
    "  2/      3\\\n",
    "[2,3,6,7]\n",
    "\n",
    "Backtracking solution\n",
    "- create an exploration tree of all posible options\n",
    "- return leaves wherever the final condition is satisfied.\n",
    "Exploration tree can be created by - \n",
    "    - starting with empty array\n",
    "    - in one step add all possible next steps\n",
    "    - recurse\n",
    "\n",
    "'''\n",
    "def combinationSum(candidates, target):\n",
    "    results = []\n",
    "    def exploration_tree(remaning, current_set, i):\n",
    "        nonlocal results, candidates\n",
    "        if remaning == 0:\n",
    "            results.append(current_set)\n",
    "            return \n",
    "        elif remaning < 0:\n",
    "            return \n",
    "\n",
    "        for j in range(i, len(candidates)):\n",
    "            exploration_tree(remaning-candidates[j], current_set+[candidates[j]], j)\n",
    "        return \n",
    "\n",
    "    exploration_tree(target, [], 0)\n",
    "    return results"
   ]
  },
  {
   "cell_type": "markdown",
   "id": "863fb761-722e-43aa-955d-35ea2d5d05f8",
   "metadata": {},
   "source": [
    "# Subsets"
   ]
  },
  {
   "cell_type": "code",
   "execution_count": null,
   "id": "ff72c336-ba8c-4013-a269-e13efb9dde0c",
   "metadata": {},
   "outputs": [],
   "source": [
    "'''\n",
    "Power set, unique, no order\n",
    "\n",
    "e.g. [1,2,3]\n",
    "\n",
    "[1], [2], [3], [1, 2], [1, 3], [2, 3], [1, 2, 3]\n",
    "\n",
    "O(2^n), O(n)\n",
    "'''\n",
    "\n",
    "def subsets(nums):\n",
    "    power_set = []\n",
    "    def explore(curr_set, i):\n",
    "        nonlocal power_set\n",
    "\n",
    "        for j in range(i+1,len(nums)):\n",
    "            new_set = curr_set + [nums[j]]\n",
    "            power_set.append(num_set)\n",
    "            explore(new_set, j)\n",
    "\n",
    "    explore([], -1)\n",
    "    return power_set\n",
    "\n",
    "'''\n",
    "Test #1\n",
    "nums = [1, 2, 3]\n",
    "power_set = [[1], [1, 2], [1,2,3], [1, 3], [2] ]\n",
    "\n",
    "curr_set    i          j     new_set\n",
    "[]           -1        0       [1]\n",
    "                       1       [2] \n",
    "                       2\n",
    "   \n",
    "                       \n",
    "'''"
   ]
  },
  {
   "cell_type": "markdown",
   "id": "c782a881-e1b9-4852-a43d-deb0b5c158ad",
   "metadata": {},
   "source": [
    "# Letter Combinations of a Phone Number\n",
    "Given a string containing digits from 2-9 inclusive, return all possible letter combinations that the number could represent. Return the answer in any order.\n",
    "\n",
    "A mapping of digits to letters (just like on the telephone buttons) is given below. Note that 1 does not map to any letters.\n",
    "\n"
   ]
  },
  {
   "cell_type": "code",
   "execution_count": null,
   "id": "1c02c469-1523-442d-a89b-b400aafd12a7",
   "metadata": {},
   "outputs": [],
   "source": [
    "## Solution 1\n",
    "\n",
    "class Solution:\n",
    "def letterCombinations(self, digits: str) -> List[str]:\n",
    "    digit_to_char = {'2' : [\"a\",'b','c'],\n",
    "    '3' : [\"d\",'e','f'],\n",
    "    '4' : [\"g\",'h','i'],\n",
    "    '5' : [\"j\",'k','l'],\n",
    "    '6' : [\"m\",'n','o'],\n",
    "    '7' : [\"p\",'q','r', 's'],\n",
    "    '8' : [\"t\",'u','v'],\n",
    "    '9' : [\"w\",'x','y', 'z']}\n",
    "\n",
    "\n",
    "    def perms(str1):\n",
    "        nonlocal digit_to_char\n",
    "        output_perms = []\n",
    "\n",
    "        if str1 != \"\":\n",
    "            last_element = str1[-1]\n",
    "            prefix_perms = perms(str1[:-1])\n",
    "            for char in digit_to_char[last_element]:\n",
    "                for perm in prefix_perms:\n",
    "                    output_perms.append(perm+char)\n",
    "        if len(str1) == 1:\n",
    "            output_perms = digit_to_char[str1]\n",
    "        return output_perms\n",
    "    \n",
    "    return perms(digits)\n",
    "\n",
    "'''\n",
    "- Runtime : 47sec Beats 29.07%of users with Python3\n",
    "- Memory : 16.38mb Beats 53.03%of users with Python3\n",
    "'''"
   ]
  }
 ],
 "metadata": {
  "kernelspec": {
   "display_name": "Python 3 (ipykernel)",
   "language": "python",
   "name": "python3"
  },
  "language_info": {
   "codemirror_mode": {
    "name": "ipython",
    "version": 3
   },
   "file_extension": ".py",
   "mimetype": "text/x-python",
   "name": "python",
   "nbconvert_exporter": "python",
   "pygments_lexer": "ipython3",
   "version": "3.11.8"
  }
 },
 "nbformat": 4,
 "nbformat_minor": 5
}
