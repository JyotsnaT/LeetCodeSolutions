{
 "cells": [
  {
   "cell_type": "markdown",
   "id": "47473994-7630-41d1-a11c-2ab33f3c5e44",
   "metadata": {},
   "source": [
    "# Backtracking"
   ]
  },
  {
   "cell_type": "markdown",
   "id": "54fc9dc2-1259-41ba-b638-06c8e35cba93",
   "metadata": {},
   "source": [
    "## Combination sum"
   ]
  },
  {
   "cell_type": "code",
   "execution_count": 1,
   "id": "455b5e1a-3d3a-415b-a74e-d614a6a4f0b0",
   "metadata": {},
   "outputs": [],
   "source": [
    "'''\n",
    "Author : Jyotsna\n",
    "Here we implement solution to the combination sum I problem from leetcode. \n",
    "Following are the three different DP implementation to the problem.\n",
    "\n",
    "Input: candidates = [2,3,6,7], target = 7\n",
    "Output: [[2,2,3],[7]]\n",
    "\n",
    "     7      [2,3,6,7]\n",
    "         2/       3/     6\\     7\\ \n",
    "    [2,3,6,7]   [6,7]\n",
    "   2/      3\\      \n",
    "  [2,3,6,7]  [6,7]\n",
    "  2/      3\\\n",
    "[2,3,6,7]\n",
    "\n",
    "Backtracking solution\n",
    "- create an exploration tree of all posible options\n",
    "- return leaves wherever the final condition is satisfied.\n",
    "Exploration tree can be created by - \n",
    "    - starting with empty array\n",
    "    - in one step add all possible next steps\n",
    "    - recurse\n",
    "\n",
    "'''\n",
    "def combinationSum(candidates, target):\n",
    "    results = []\n",
    "    def exploration_tree(remaning, current_set, i):\n",
    "        nonlocal results, candidates\n",
    "        if remaning == 0:\n",
    "            results.append(current_set)\n",
    "            return \n",
    "        elif remaning < 0:\n",
    "            return \n",
    "\n",
    "        for j in range(i, len(candidates)):\n",
    "            exploration_tree(remaning-candidates[j], current_set+[candidates[j]], j)\n",
    "        return \n",
    "\n",
    "    exploration_tree(target, [], 0)\n",
    "    return results"
   ]
  },
  {
   "cell_type": "markdown",
   "id": "863fb761-722e-43aa-955d-35ea2d5d05f8",
   "metadata": {},
   "source": []
  }
 ],
 "metadata": {
  "kernelspec": {
   "display_name": "Python 3 (ipykernel)",
   "language": "python",
   "name": "python3"
  },
  "language_info": {
   "codemirror_mode": {
    "name": "ipython",
    "version": 3
   },
   "file_extension": ".py",
   "mimetype": "text/x-python",
   "name": "python",
   "nbconvert_exporter": "python",
   "pygments_lexer": "ipython3",
   "version": "3.11.8"
  }
 },
 "nbformat": 4,
 "nbformat_minor": 5
}
