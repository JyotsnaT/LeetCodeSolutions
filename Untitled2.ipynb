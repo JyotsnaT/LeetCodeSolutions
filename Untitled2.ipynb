{
 "cells": [
  {
   "cell_type": "code",
   "execution_count": null,
   "id": "b00cdcb1-299b-4667-b071-0f8123f2b12e",
   "metadata": {},
   "outputs": [],
   "source": []
  },
  {
   "cell_type": "code",
   "execution_count": null,
   "id": "1cc06059-588e-4b8d-9be4-d27aeb92b2b5",
   "metadata": {},
   "outputs": [],
   "source": []
  },
  {
   "cell_type": "code",
   "execution_count": 11,
   "id": "1856d912-bc1c-4cf0-ab64-38eb491a9aea",
   "metadata": {},
   "outputs": [],
   "source": [
    "class Solution:\n",
    "    def combinationFunc(self, nums, target, start):\n",
    "        results = []\n",
    "        if start < len(nums):\n",
    "            for i in range(start, len(nums)):\n",
    "                num = nums[i]\n",
    "                result1 = [num] + self.combinationFunc(nums, target-num, start)\n",
    "                result2 = self.combinationFunc(nums, target, start+1)\n",
    "                results = [result1, results2]\n",
    "        print(results)\n",
    "        return results\n",
    "            \n",
    "    def combinationSum4(self, nums, target):\n",
    "        return self.combinationFunc(nums, target, 0)\n",
    "\n",
    "solObj = Solution()\n",
    "def evaluate(testCase, target):\n",
    "    print(solObj.combinationSum4(testCase, target))"
   ]
  },
  {
   "cell_type": "code",
   "execution_count": 12,
   "id": "d8395425-8160-49ef-8363-d131d530e441",
   "metadata": {},
   "outputs": [
    {
     "ename": "RecursionError",
     "evalue": "maximum recursion depth exceeded in comparison",
     "output_type": "error",
     "traceback": [
      "\u001b[1;31m---------------------------------------------------------------------------\u001b[0m",
      "\u001b[1;31mRecursionError\u001b[0m                            Traceback (most recent call last)",
      "Cell \u001b[1;32mIn[12], line 1\u001b[0m\n\u001b[1;32m----> 1\u001b[0m \u001b[43mevaluate\u001b[49m\u001b[43m(\u001b[49m\u001b[43m[\u001b[49m\u001b[38;5;241;43m1\u001b[39;49m\u001b[43m,\u001b[49m\u001b[38;5;241;43m2\u001b[39;49m\u001b[43m,\u001b[49m\u001b[38;5;241;43m3\u001b[39;49m\u001b[43m]\u001b[49m\u001b[43m,\u001b[49m\u001b[43m \u001b[49m\u001b[38;5;241;43m4\u001b[39;49m\u001b[43m)\u001b[49m\n",
      "Cell \u001b[1;32mIn[11], line 18\u001b[0m, in \u001b[0;36mevaluate\u001b[1;34m(testCase, target)\u001b[0m\n\u001b[0;32m     17\u001b[0m \u001b[38;5;28;01mdef\u001b[39;00m \u001b[38;5;21mevaluate\u001b[39m(testCase, target):\n\u001b[1;32m---> 18\u001b[0m     \u001b[38;5;28mprint\u001b[39m(\u001b[43msolObj\u001b[49m\u001b[38;5;241;43m.\u001b[39;49m\u001b[43mcombinationSum4\u001b[49m\u001b[43m(\u001b[49m\u001b[43mtestCase\u001b[49m\u001b[43m,\u001b[49m\u001b[43m \u001b[49m\u001b[43mtarget\u001b[49m\u001b[43m)\u001b[49m)\n",
      "Cell \u001b[1;32mIn[11], line 14\u001b[0m, in \u001b[0;36mSolution.combinationSum4\u001b[1;34m(self, nums, target)\u001b[0m\n\u001b[0;32m     13\u001b[0m \u001b[38;5;28;01mdef\u001b[39;00m \u001b[38;5;21mcombinationSum4\u001b[39m(\u001b[38;5;28mself\u001b[39m, nums, target):\n\u001b[1;32m---> 14\u001b[0m     \u001b[38;5;28;01mreturn\u001b[39;00m \u001b[38;5;28;43mself\u001b[39;49m\u001b[38;5;241;43m.\u001b[39;49m\u001b[43mcombinationFunc\u001b[49m\u001b[43m(\u001b[49m\u001b[43mnums\u001b[49m\u001b[43m,\u001b[49m\u001b[43m \u001b[49m\u001b[43mtarget\u001b[49m\u001b[43m,\u001b[49m\u001b[43m \u001b[49m\u001b[38;5;241;43m0\u001b[39;49m\u001b[43m)\u001b[49m\n",
      "Cell \u001b[1;32mIn[11], line 7\u001b[0m, in \u001b[0;36mSolution.combinationFunc\u001b[1;34m(self, nums, target, start)\u001b[0m\n\u001b[0;32m      5\u001b[0m \u001b[38;5;28;01mfor\u001b[39;00m i \u001b[38;5;129;01min\u001b[39;00m \u001b[38;5;28mrange\u001b[39m(start, \u001b[38;5;28mlen\u001b[39m(nums)):\n\u001b[0;32m      6\u001b[0m     num \u001b[38;5;241m=\u001b[39m nums[i]\n\u001b[1;32m----> 7\u001b[0m     result1 \u001b[38;5;241m=\u001b[39m [num] \u001b[38;5;241m+\u001b[39m \u001b[38;5;28;43mself\u001b[39;49m\u001b[38;5;241;43m.\u001b[39;49m\u001b[43mcombinationFunc\u001b[49m\u001b[43m(\u001b[49m\u001b[43mnums\u001b[49m\u001b[43m,\u001b[49m\u001b[43m \u001b[49m\u001b[43mtarget\u001b[49m\u001b[38;5;241;43m-\u001b[39;49m\u001b[43mnum\u001b[49m\u001b[43m,\u001b[49m\u001b[43m \u001b[49m\u001b[43mstart\u001b[49m\u001b[43m)\u001b[49m\n\u001b[0;32m      8\u001b[0m     result2 \u001b[38;5;241m=\u001b[39m \u001b[38;5;28mself\u001b[39m\u001b[38;5;241m.\u001b[39mcombinationFunc(nums, target, start\u001b[38;5;241m+\u001b[39m\u001b[38;5;241m1\u001b[39m)\n\u001b[0;32m      9\u001b[0m     results \u001b[38;5;241m=\u001b[39m [result1, results2]\n",
      "Cell \u001b[1;32mIn[11], line 7\u001b[0m, in \u001b[0;36mSolution.combinationFunc\u001b[1;34m(self, nums, target, start)\u001b[0m\n\u001b[0;32m      5\u001b[0m \u001b[38;5;28;01mfor\u001b[39;00m i \u001b[38;5;129;01min\u001b[39;00m \u001b[38;5;28mrange\u001b[39m(start, \u001b[38;5;28mlen\u001b[39m(nums)):\n\u001b[0;32m      6\u001b[0m     num \u001b[38;5;241m=\u001b[39m nums[i]\n\u001b[1;32m----> 7\u001b[0m     result1 \u001b[38;5;241m=\u001b[39m [num] \u001b[38;5;241m+\u001b[39m \u001b[38;5;28;43mself\u001b[39;49m\u001b[38;5;241;43m.\u001b[39;49m\u001b[43mcombinationFunc\u001b[49m\u001b[43m(\u001b[49m\u001b[43mnums\u001b[49m\u001b[43m,\u001b[49m\u001b[43m \u001b[49m\u001b[43mtarget\u001b[49m\u001b[38;5;241;43m-\u001b[39;49m\u001b[43mnum\u001b[49m\u001b[43m,\u001b[49m\u001b[43m \u001b[49m\u001b[43mstart\u001b[49m\u001b[43m)\u001b[49m\n\u001b[0;32m      8\u001b[0m     result2 \u001b[38;5;241m=\u001b[39m \u001b[38;5;28mself\u001b[39m\u001b[38;5;241m.\u001b[39mcombinationFunc(nums, target, start\u001b[38;5;241m+\u001b[39m\u001b[38;5;241m1\u001b[39m)\n\u001b[0;32m      9\u001b[0m     results \u001b[38;5;241m=\u001b[39m [result1, results2]\n",
      "    \u001b[1;31m[... skipping similar frames: Solution.combinationFunc at line 7 (2968 times)]\u001b[0m\n",
      "Cell \u001b[1;32mIn[11], line 7\u001b[0m, in \u001b[0;36mSolution.combinationFunc\u001b[1;34m(self, nums, target, start)\u001b[0m\n\u001b[0;32m      5\u001b[0m \u001b[38;5;28;01mfor\u001b[39;00m i \u001b[38;5;129;01min\u001b[39;00m \u001b[38;5;28mrange\u001b[39m(start, \u001b[38;5;28mlen\u001b[39m(nums)):\n\u001b[0;32m      6\u001b[0m     num \u001b[38;5;241m=\u001b[39m nums[i]\n\u001b[1;32m----> 7\u001b[0m     result1 \u001b[38;5;241m=\u001b[39m [num] \u001b[38;5;241m+\u001b[39m \u001b[38;5;28;43mself\u001b[39;49m\u001b[38;5;241;43m.\u001b[39;49m\u001b[43mcombinationFunc\u001b[49m\u001b[43m(\u001b[49m\u001b[43mnums\u001b[49m\u001b[43m,\u001b[49m\u001b[43m \u001b[49m\u001b[43mtarget\u001b[49m\u001b[38;5;241;43m-\u001b[39;49m\u001b[43mnum\u001b[49m\u001b[43m,\u001b[49m\u001b[43m \u001b[49m\u001b[43mstart\u001b[49m\u001b[43m)\u001b[49m\n\u001b[0;32m      8\u001b[0m     result2 \u001b[38;5;241m=\u001b[39m \u001b[38;5;28mself\u001b[39m\u001b[38;5;241m.\u001b[39mcombinationFunc(nums, target, start\u001b[38;5;241m+\u001b[39m\u001b[38;5;241m1\u001b[39m)\n\u001b[0;32m      9\u001b[0m     results \u001b[38;5;241m=\u001b[39m [result1, results2]\n",
      "Cell \u001b[1;32mIn[11], line 5\u001b[0m, in \u001b[0;36mSolution.combinationFunc\u001b[1;34m(self, nums, target, start)\u001b[0m\n\u001b[0;32m      3\u001b[0m results \u001b[38;5;241m=\u001b[39m []\n\u001b[0;32m      4\u001b[0m \u001b[38;5;28;01mif\u001b[39;00m start \u001b[38;5;241m<\u001b[39m \u001b[38;5;28mlen\u001b[39m(nums):\n\u001b[1;32m----> 5\u001b[0m     \u001b[38;5;28;01mfor\u001b[39;00m i \u001b[38;5;129;01min\u001b[39;00m \u001b[38;5;28mrange\u001b[39m(start, \u001b[38;5;28mlen\u001b[39m(nums)):\n\u001b[0;32m      6\u001b[0m         num \u001b[38;5;241m=\u001b[39m nums[i]\n\u001b[0;32m      7\u001b[0m         result1 \u001b[38;5;241m=\u001b[39m [num] \u001b[38;5;241m+\u001b[39m \u001b[38;5;28mself\u001b[39m\u001b[38;5;241m.\u001b[39mcombinationFunc(nums, target\u001b[38;5;241m-\u001b[39mnum, start)\n",
      "\u001b[1;31mRecursionError\u001b[0m: maximum recursion depth exceeded in comparison"
     ]
    }
   ],
   "source": [
    "evaluate([1,2,3], 4)"
   ]
  },
  {
   "cell_type": "code",
   "execution_count": 26,
   "id": "3935db39-b96c-4199-ba69-e7061e8412f1",
   "metadata": {},
   "outputs": [],
   "source": [
    "import random\n",
    "def simulator(n_boxes, n_balls):\n",
    "    total_cnt0 = 0\n",
    "    n_iter = 1000000\n",
    "    for i in range(n_iter):\n",
    "        boxes = [0] * n_boxes\n",
    "        for ball in range(n_balls):\n",
    "            box_idx = random.randint(0,n_boxes-1)\n",
    "            boxes[box_idx] += 1\n",
    "        cnt0 = 0\n",
    "        for box in boxes:\n",
    "            if box == 0:\n",
    "                cnt0 += 1\n",
    "        # print(cnt0)\n",
    "        if cnt0 == 10:\n",
    "            total_cnt0 += 1\n",
    "    print(total_cnt0)\n",
    "    return total_cnt0/n_iter"
   ]
  },
  {
   "cell_type": "code",
   "execution_count": 27,
   "id": "0400b547-5844-476a-bd68-4ef89817ee98",
   "metadata": {},
   "outputs": [
    {
     "name": "stdout",
     "output_type": "stream",
     "text": [
      "0\n"
     ]
    },
    {
     "data": {
      "text/plain": [
       "0.0"
      ]
     },
     "execution_count": 27,
     "metadata": {},
     "output_type": "execute_result"
    }
   ],
   "source": [
    "simulator(12, 10)"
   ]
  },
  {
   "cell_type": "code",
   "execution_count": 35,
   "id": "d5c9226a-d138-4215-8396-ae7d56668e56",
   "metadata": {},
   "outputs": [],
   "source": [
    "def search(arr, item):\n",
    "    n = len(arr)\n",
    "    if n == 0:\n",
    "        return -1\n",
    "    start = 0\n",
    "    end = n-1\n",
    "    \n",
    "    foundIdx = -1\n",
    "    while(start <= end):\n",
    "        mid = start + (end-start)//2\n",
    "        if arr[mid] == item:\n",
    "            if (mid >0 and  arr[mid-1]<item) or mid == 0:\t\n",
    "                foundIdx = mid\n",
    "                break\n",
    "            else:\n",
    "                end = mid-1\n",
    "        elif item>arr[mid]:\n",
    "            start = mid+1\n",
    "        else:\n",
    "            end = mid-1\n",
    "    return foundIdx"
   ]
  },
  {
   "cell_type": "code",
   "execution_count": 36,
   "id": "ef3e7e1c-0578-4b9d-a4de-936c01c869b2",
   "metadata": {},
   "outputs": [
    {
     "data": {
      "text/plain": [
       "1"
      ]
     },
     "execution_count": 36,
     "metadata": {},
     "output_type": "execute_result"
    }
   ],
   "source": [
    "search([2,4,4,5,6], 4)"
   ]
  },
  {
   "cell_type": "code",
   "execution_count": 38,
   "id": "b43bfbd7-0a3e-406e-8d68-454b0a29c2b8",
   "metadata": {},
   "outputs": [
    {
     "data": {
      "text/plain": [
       "3"
      ]
     },
     "execution_count": 38,
     "metadata": {},
     "output_type": "execute_result"
    }
   ],
   "source": [
    "search([4,4,4,5,6], 5)"
   ]
  },
  {
   "cell_type": "code",
   "execution_count": null,
   "id": "d22dd2f9-0c2a-42d4-ad64-a0e857bbaa82",
   "metadata": {},
   "outputs": [],
   "source": []
  }
 ],
 "metadata": {
  "kernelspec": {
   "display_name": "Python 3 (ipykernel)",
   "language": "python",
   "name": "python3"
  },
  "language_info": {
   "codemirror_mode": {
    "name": "ipython",
    "version": 3
   },
   "file_extension": ".py",
   "mimetype": "text/x-python",
   "name": "python",
   "nbconvert_exporter": "python",
   "pygments_lexer": "ipython3",
   "version": "3.11.7"
  }
 },
 "nbformat": 4,
 "nbformat_minor": 5
}
