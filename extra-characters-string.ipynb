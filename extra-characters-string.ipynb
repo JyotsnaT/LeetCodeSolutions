{
 "cells": [
  {
   "cell_type": "markdown",
   "id": "0e26b6f1-ec31-4fb8-9a5a-f4d9d5bf67e0",
   "metadata": {},
   "source": [
    "# 2707. Extra Characters in a String\n"
   ]
  },
  {
   "cell_type": "markdown",
   "id": "fc82c8e6-599c-412b-b3f9-69154ee7c1eb",
   "metadata": {},
   "source": [
    "## First approach\n",
    "\n",
    "Greedy solution. \n",
    "-  sort the dictionary by decreasing order of length.\n",
    "-  search of word in the string and remove from the string"
   ]
  },
  {
   "cell_type": "code",
   "execution_count": 58,
   "id": "a9d4ec80-700c-49a6-88ab-0d232658dbec",
   "metadata": {},
   "outputs": [],
   "source": [
    "from typing import List\n",
    "\n",
    "class Solution:\n",
    "    def minExtraChar(self, s: str, dictionary: List[str]) -> int:\n",
    "        tempStr = s\n",
    "        sorted_dictionary = sorted(dictionary, key=lambda x: len(x), reverse=True)\n",
    "        print(sorted_dictionary)\n",
    "        print(s)\n",
    "        for word in sorted_dictionary:\n",
    "            findInd = tempStr.find(word)\n",
    "            while findInd > -1:\n",
    "                tempStr = tempStr[:findInd] + \"_\"*len(word) + tempStr[findInd+len(word):]\n",
    "                print(word, tempStr)\n",
    "                findInd = tempStr.find(word)\n",
    "        lenStr = sum([1 for i in tempStr if i != '_'])\n",
    "        return lenStr"
   ]
  },
  {
   "cell_type": "code",
   "execution_count": 59,
   "id": "cdee7e12-90d9-419b-b434-8f1bc272292f",
   "metadata": {},
   "outputs": [
    {
     "name": "stdout",
     "output_type": "stream",
     "text": [
      "['hello', 'world']\n",
      "sayhelloworld\n",
      "hello say_____world\n",
      "world say__________\n",
      "3\n",
      "['leetcode', 'leet', 'code']\n",
      "leetscode\n",
      "leet ____scode\n",
      "code ____s____\n",
      "1\n",
      "['txhe', 'cehy', 'tskz', 'kzbu', 'diz', 'ksv', 'nuq', 'wmo', 'ox', 'lb', 'gu', 'ds', 'v', 'o', 'r', 'e']\n",
      "dwmodizxvvbosxxw\n",
      "diz dwmo___xvvbosxxw\n",
      "wmo d______xvvbosxxw\n",
      "v d______x_vbosxxw\n",
      "v d______x__bosxxw\n",
      "o d______x__b_sxxw\n",
      "7\n",
      "['rs', 'fy', 'fc', 'zf', 'gl', 'qr', 'qj', 'cm', 'pe', 'ei', 'wg', 'll', 'lb', 'kc', 'gs', 'ga', 'pq', 'wq', 'mp', 'ms', 'vp', 'kg', 'cu', 'j', 'h', 'g', 'l', 's', 'i', 'k', 'x', 'b', 'm', 'y', 'e', 'c', 'u', 'r', 'p', 'o']\n",
      "eglglxa\n",
      "gl e__glxa\n",
      "gl e____xa\n",
      "x e_____a\n",
      "e ______a\n",
      "1\n",
      "['grtjba', 'yswmjn', 'pcmatm', 'wobow', 'qnfac', 'xowio', 'maqnv', 'kecv', 'edd', 'zul', 'yeb', 'azv', 'na', 'or', 'jj', 'vk', 'xi', 'i', 'b', 'n', 'u']\n",
      "azvzulhlwxwobowijiyebeaskecvtjqwkmaqnvnaomaqnvf\n",
      "wobow azvzulhlwx_____ijiyebeaskecvtjqwkmaqnvnaomaqnvf\n",
      "maqnv azvzulhlwx_____ijiyebeaskecvtjqwk_____naomaqnvf\n",
      "maqnv azvzulhlwx_____ijiyebeaskecvtjqwk_____nao_____f\n",
      "kecv azvzulhlwx_____ijiyebeas____tjqwk_____nao_____f\n",
      "zul azv___hlwx_____ijiyebeas____tjqwk_____nao_____f\n",
      "yeb azv___hlwx_____iji___eas____tjqwk_____nao_____f\n",
      "azv ______hlwx_____iji___eas____tjqwk_____nao_____f\n",
      "na ______hlwx_____iji___eas____tjqwk_______o_____f\n",
      "i ______hlwx______ji___eas____tjqwk_______o_____f\n",
      "i ______hlwx______j____eas____tjqwk_______o_____f\n",
      "15\n",
      "['cfybt', 'lwoim', 'hdzeg', 'rkmsi', 'tofxe', 'ofeyx', 'demij', 'jgodm', 'akjtl', 'lyso', 'ymdt', 'etjx', 'llqs', 'cpir', 'eqru', 'tjky', 'ernt', 'jfns', 'lxoi', 'afy', 'uqm', 'ncz', 'th', 'tp', 'jx', 'wt', 'tk', 'zg', 'kt', 'd', 'e', 'r', 'p', 'l', 'y']\n",
      "rkmsilizktprllwoimafyuqmeqrujxdzgp\n",
      "lwoim rkmsilizktprl_____afyuqmeqrujxdzgp\n",
      "rkmsi _____lizktprl_____afyuqmeqrujxdzgp\n",
      "eqru _____lizktprl_____afyuqm____jxdzgp\n",
      "afy _____lizktprl________uqm____jxdzgp\n",
      "uqm _____lizktprl_______________jxdzgp\n",
      "tp _____lizk__rl_______________jxdzgp\n",
      "jx _____lizk__rl_________________dzgp\n",
      "zg _____lizk__rl_________________d__p\n",
      "d _____lizk__rl____________________p\n",
      "r _____lizk___l____________________p\n",
      "p _____lizk___l_____________________\n",
      "l ______izk___l_____________________\n",
      "l ______izk_________________________\n",
      "3\n"
     ]
    }
   ],
   "source": [
    "solObj = Solution()\n",
    "print(solObj.minExtraChar(s = \"sayhelloworld\", dictionary = [\"hello\",\"world\"]))\n",
    "print(solObj.minExtraChar(s = \"leetscode\", dictionary = [\"leet\",\"code\",\"leetcode\"]))\n",
    "print(solObj.minExtraChar(s = \"dwmodizxvvbosxxw\", dictionary = [\"ox\",\"lb\",\"diz\",\"gu\",\"v\",\"ksv\",\"o\",\"nuq\",\"r\",\"txhe\",\"e\",\"wmo\",\"cehy\",\"tskz\",\"ds\",\"kzbu\"]))\n",
    "print(solObj.minExtraChar(s = \"eglglxa\", dictionary = [\"rs\",\"j\",\"h\",\"g\",\"fy\",\"l\",\"fc\",\"s\",\"zf\",\"i\",\"k\",\"x\",\"gl\",\"qr\",\"qj\",\"b\",\"m\",\"cm\",\"pe\",\"y\",\"ei\",\"wg\",\"e\",\"c\",\"ll\",\"u\",\"lb\",\"kc\",\"r\",\"gs\",\"p\",\"ga\",\"pq\",\"o\",\"wq\",\"mp\",\"ms\",\"vp\",\"kg\",\"cu\"]))\n",
    "print(solObj.minExtraChar(s = \"azvzulhlwxwobowijiyebeaskecvtjqwkmaqnvnaomaqnvf\", dictionary = [\"na\",\"i\",\"edd\",\"wobow\",\"kecv\",\"b\",\"n\",\"or\",\"jj\",\"zul\",\"vk\",\"yeb\",\"qnfac\",\"azv\",\"grtjba\",\"yswmjn\",\"xowio\",\"u\",\"xi\",\"pcmatm\",\"maqnv\"]))\n",
    "print(solObj.minExtraChar(s = \"rkmsilizktprllwoimafyuqmeqrujxdzgp\", dictionary = [\"afy\",\"lyso\",\"ymdt\",\"uqm\",\"cfybt\",\"lwoim\",\"hdzeg\",\"th\",\"rkmsi\",\"d\",\"e\",\"tp\",\"r\",\"jx\",\"tofxe\",\"etjx\",\"llqs\",\"cpir\",\"p\",\"ncz\",\"ofeyx\",\"eqru\",\"l\",\"demij\",\"tjky\",\"jgodm\",\"y\",\"ernt\",\"jfns\",\"akjtl\",\"wt\",\"tk\",\"zg\",\"lxoi\",\"kt\"]))"
   ]
  },
  {
   "cell_type": "code",
   "execution_count": null,
   "id": "e09e1ac1-48e5-411d-beee-861783b7499a",
   "metadata": {},
   "outputs": [],
   "source": [
    "azv zul \n",
    "azvzulhlwxwobowijiyebeaskecvtjqwkmaqnvnaomaqnvf\n",
    "azv zul hlwx wobow iji yeb eas kecv tjqwk maqnv na o maqnv f"
   ]
  },
  {
   "cell_type": "markdown",
   "id": "8fffda56-e923-4a8b-b3b3-427a587624ee",
   "metadata": {},
   "source": [
    "## Greedy solution could not cover all the cases"
   ]
  },
  {
   "cell_type": "code",
   "execution_count": null,
   "id": "14e23682-8118-433a-9ecc-4ac795c66051",
   "metadata": {},
   "outputs": [],
   "source": []
  }
 ],
 "metadata": {
  "kernelspec": {
   "display_name": "Python 3 (ipykernel)",
   "language": "python",
   "name": "python3"
  },
  "language_info": {
   "codemirror_mode": {
    "name": "ipython",
    "version": 3
   },
   "file_extension": ".py",
   "mimetype": "text/x-python",
   "name": "python",
   "nbconvert_exporter": "python",
   "pygments_lexer": "ipython3",
   "version": "3.11.5"
  }
 },
 "nbformat": 4,
 "nbformat_minor": 5
}
