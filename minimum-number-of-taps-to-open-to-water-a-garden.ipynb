{
 "cells": [
  {
   "cell_type": "markdown",
   "id": "7a586537-a03b-4e2b-8a60-232401116d0f",
   "metadata": {},
   "source": [
    "# [Unsolved]1326. Minimum Number of Taps to Open to Water a Garden\n"
   ]
  },
  {
   "cell_type": "code",
   "execution_count": 4,
   "id": "3cfbd901-ea41-410a-826a-b6f8adc30007",
   "metadata": {},
   "outputs": [],
   "source": [
    "from typing import List"
   ]
  },
  {
   "cell_type": "code",
   "execution_count": 164,
   "id": "b567f24f-fd27-4c1e-9e6b-696300c65988",
   "metadata": {},
   "outputs": [],
   "source": [
    "class solution:\n",
    "    def isCovered(self, interA, interB):\n",
    "        return interA[0] <= interB[0] and interA[1] >= interB[1]\n",
    "\n",
    "    def areaCovered(self, inter, lastInter):\n",
    "        if lastInter:\n",
    "            return inter[1]-min(inter[1], lastInter[0])\n",
    "        else:\n",
    "            return inter[1]-inter[0]\n",
    "        \n",
    "    def minTaps(self, n : int, ranges: List[int]) -> int:\n",
    "        intervals = []\n",
    "        i = 0\n",
    "        for rnge in ranges:\n",
    "            a = max(i-rnge,0)\n",
    "            b = min(i+rnge,n)\n",
    "            intervals.append([a, b, self.areaCovered([a, b], [])])\n",
    "            i += 1\n",
    "        sorted_intervals = sorted(intervals, key=lambda x: x[2], reverse=True)\n",
    "        # print(sorted_intervals)\n",
    "        final_intervals = []\n",
    "        for interval in sorted_intervals:\n",
    "            # print(interval)\n",
    "            if len(final_intervals)>0 and self.isCovered(final_intervals[-1], interval):\n",
    "                last_interval = final_intervals[-1]\n",
    "                final_intervals.pop()\n",
    "                a = min(last_interval[0], interval[0])\n",
    "                b = max(last_interval[1], interval[1])\n",
    "                final_intervals.append([a, b])\n",
    "            else:\n",
    "                final_intervals.append(interval)\n",
    "        \n",
    "        last_interval = final_intervals[0]\n",
    "        total_area_covered = self.areaCovered(last_interval, [])\n",
    "        for i in range(1, len(final_intervals)):\n",
    "            area_now = self.areaCovered(last_interval, final_intervals[i])\n",
    "            print(total_area_covered)\n",
    "            total_area_covered += area_now\n",
    "            last_interval = final_intervals[i]\n",
    "        print(final_intervals, total_area_covered)\n",
    "        return len(final_intervals) if total_area_covered>0 else -1"
   ]
  },
  {
   "cell_type": "code",
   "execution_count": 165,
   "id": "7d508397-18bb-4346-99c0-ec580b580662",
   "metadata": {},
   "outputs": [],
   "source": [
    "solObj = solution()"
   ]
  },
  {
   "cell_type": "code",
   "execution_count": 166,
   "id": "a39754b0-4149-4e4c-b4b8-5e29c6d467e5",
   "metadata": {
    "scrolled": true
   },
   "outputs": [
    {
     "name": "stdout",
     "output_type": "stream",
     "text": [
      "[[0, 5]] 5\n",
      "1\n"
     ]
    }
   ],
   "source": [
    "print(solObj.minTaps(n = 5, ranges=[3,4,1,1,0,0]))"
   ]
  },
  {
   "cell_type": "code",
   "execution_count": 167,
   "id": "e570ce26-e7b1-41aa-a93e-d1ba3fd9c7a8",
   "metadata": {},
   "outputs": [
    {
     "name": "stdout",
     "output_type": "stream",
     "text": [
      "0\n",
      "0\n",
      "0\n",
      "[[0, 0, 0], [1, 1, 0], [2, 2, 0], [3, 3, 0]] 0\n",
      "-1\n"
     ]
    }
   ],
   "source": [
    "print(solObj.minTaps(n = 3, ranges = [0,0,0,0]))"
   ]
  },
  {
   "cell_type": "code",
   "execution_count": 168,
   "id": "047e3cb7-ffaa-42ab-93a3-bb644ed21fe2",
   "metadata": {},
   "outputs": [
    {
     "name": "stdout",
     "output_type": "stream",
     "text": [
      "4\n",
      "10\n",
      "10\n",
      "16\n",
      "16\n",
      "20\n",
      "[[2, 6, 4], [0, 3], [4, 6, 2], [0, 1, 1], [6, 7, 1], [3, 3, 0], [6, 6, 0]] 20\n",
      "7\n"
     ]
    }
   ],
   "source": [
    "print(solObj.minTaps(n = 7, ranges = [1,2,1,0,2,1,0,1]))"
   ]
  },
  {
   "cell_type": "code",
   "execution_count": 169,
   "id": "c594a192-f493-4608-a67f-ac0b60169ce1",
   "metadata": {},
   "outputs": [
    {
     "name": "stdout",
     "output_type": "stream",
     "text": [
      "[[0, 8]] 8\n",
      "1\n"
     ]
    }
   ],
   "source": [
    "print(solObj.minTaps(n = 8, ranges = [4,0,0,0,4,0,0,0,4]))"
   ]
  },
  {
   "cell_type": "code",
   "execution_count": 170,
   "id": "33d0d4aa-42fe-4b5c-8ff7-dbbdb08b5c9f",
   "metadata": {},
   "outputs": [
    {
     "name": "stdout",
     "output_type": "stream",
     "text": [
      "6\n",
      "11\n",
      "16\n",
      "21\n",
      "30\n",
      "30\n",
      "[[0, 6], [1, 7, 6], [2, 8, 6], [3, 9], [0, 0, 0], [2, 2, 0], [8, 8, 0]] 30\n",
      "7\n"
     ]
    }
   ],
   "source": [
    "print(solObj.minTaps(n = 9, ranges = [0,5,0,3,3,3,1,4,0,4]))"
   ]
  },
  {
   "cell_type": "code",
   "execution_count": null,
   "id": "b8425b9d-1cb1-4beb-bdf3-62ec7b1b4669",
   "metadata": {},
   "outputs": [],
   "source": []
  }
 ],
 "metadata": {
  "kernelspec": {
   "display_name": "Python 3 (ipykernel)",
   "language": "python",
   "name": "python3"
  },
  "language_info": {
   "codemirror_mode": {
    "name": "ipython",
    "version": 3
   },
   "file_extension": ".py",
   "mimetype": "text/x-python",
   "name": "python",
   "nbconvert_exporter": "python",
   "pygments_lexer": "ipython3",
   "version": "3.11.5"
  }
 },
 "nbformat": 4,
 "nbformat_minor": 5
}
