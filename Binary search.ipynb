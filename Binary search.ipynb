{
 "cells": [
  {
   "cell_type": "markdown",
   "id": "8291eb95-1549-4875-82bf-630d14e8afac",
   "metadata": {},
   "source": [
    "# Binary Search"
   ]
  },
  {
   "cell_type": "markdown",
   "id": "92c2defd-73a7-4569-a7bf-d4bcaf2777cd",
   "metadata": {
    "jp-MarkdownHeadingCollapsed": true
   },
   "source": [
    "### Vanilla Binary Search algorithm"
   ]
  },
  {
   "cell_type": "code",
   "execution_count": 7,
   "id": "51ae6488-73db-4a8d-84eb-67ce172129c3",
   "metadata": {},
   "outputs": [],
   "source": [
    "def bin_search(arr, item):\n",
    "    N = len(arr)\n",
    "\n",
    "    left = 0\n",
    "    right = N-1\n",
    "\n",
    "    while(left <= right):\n",
    "        mid = int(left + (right-left)/2)\n",
    "        if arr[mid] == item:\n",
    "            print(f\"Found item at index ${mid}\")\n",
    "            break\n",
    "        elif item < arr[mid]:\n",
    "            right = mid-1\n",
    "        else:\n",
    "            left = mid + 1\n",
    "            "
   ]
  },
  {
   "cell_type": "code",
   "execution_count": 11,
   "id": "4ebb7db9-07fc-4972-b896-2d3dfbee618c",
   "metadata": {},
   "outputs": [
    {
     "data": {
      "text/plain": [
       "[2,\n",
       " 2,\n",
       " 3,\n",
       " 6,\n",
       " 7,\n",
       " 9,\n",
       " 9,\n",
       " 10,\n",
       " 20,\n",
       " 34,\n",
       " 45,\n",
       " 45,\n",
       " 49,\n",
       " 56,\n",
       " 72,\n",
       " 78,\n",
       " 84,\n",
       " 94,\n",
       " 338,\n",
       " 376,\n",
       " 567,\n",
       " 999,\n",
       " 2948,\n",
       " 37645,\n",
       " 647487]"
      ]
     },
     "execution_count": 11,
     "metadata": {},
     "output_type": "execute_result"
    }
   ],
   "source": [
    "arr_list = [10,20, 49,45, 72, 9, 376, 45, 2, 84, 94, 7, 3, 6, 2, 78, 34, 999, 37645, 56, 2948, 567, 338, 9, 647487]\n",
    "item = 9\n",
    "\n",
    "sorted_array = sorted(arr_list)\n",
    "sorted_array"
   ]
  },
  {
   "cell_type": "code",
   "execution_count": 12,
   "id": "e9c90edd-a75e-4101-8362-91360f595e01",
   "metadata": {},
   "outputs": [
    {
     "name": "stdout",
     "output_type": "stream",
     "text": [
      "Found item at index $5\n",
      "CPU times: total: 0 ns\n",
      "Wall time: 0 ns\n"
     ]
    }
   ],
   "source": [
    "%%time\n",
    "\n",
    "bin_search(sorted_array, item)"
   ]
  },
  {
   "cell_type": "code",
   "execution_count": 13,
   "id": "97a4f5a2-867d-4019-96ac-5699c256bf71",
   "metadata": {},
   "outputs": [
    {
     "name": "stdout",
     "output_type": "stream",
     "text": [
      "CPU times: total: 0 ns\n",
      "Wall time: 0 ns\n"
     ]
    },
    {
     "data": {
      "text/plain": [
       "5"
      ]
     },
     "execution_count": 13,
     "metadata": {},
     "output_type": "execute_result"
    }
   ],
   "source": [
    "%%time\n",
    "\n",
    "arr_list.index(item)"
   ]
  },
  {
   "cell_type": "markdown",
   "id": "712b9e07-27b2-4b97-8cac-69014baf1d18",
   "metadata": {
    "jp-MarkdownHeadingCollapsed": true
   },
   "source": [
    "# 50. Pow(x,n)"
   ]
  },
  {
   "cell_type": "code",
   "execution_count": null,
   "id": "147684b0-5b74-4ba6-b9c1-25df126937e4",
   "metadata": {},
   "outputs": [],
   "source": [
    "'''\n",
    "pow(x,n)\n",
    "Appraoch #1\n",
    "- loop through 1 to n\n",
    "- multiply x at each step with itself\n",
    "\n",
    "O(n), O(1)\n",
    "Challenges\n",
    "- overflow \n",
    "100.0 * 2^31\n",
    "\n",
    "Optimization\n",
    "- x^n  =x^n/2*x*n/2\n",
    "- pow(x,n) = pow(x,n/2)*pow(x,n/2)\n",
    "  - n is odd\n",
    "    pow(x,n-1/2)*pow(x,n-1/2)*x\n",
    "  - n is 1\n",
    "    x\n",
    "\n",
    "O(logn), O(logn)\n",
    "'''\n",
    "\n",
    "def myPow(x,n):\n",
    "  if n == 0:\n",
    "    return 1\n",
    "  if n == 1:\n",
    "    return x\n",
    "  if n == -1:\n",
    "    return 1/x\n",
    "  if n % 2 == 0:\n",
    "    half_power = myPow(x, n/2)\n",
    "    return half_power * half_power\n",
    "  else:\n",
    "    half_power = myPow(x, (n-1)/2)\n",
    "    return half_power*half_power*x\n",
    "\n",
    "'''\n",
    "Test #1\n",
    "x = 2.00000, n = 10\n",
    "                      half_power\n",
    "myPow(2.0000, 10)       32.0000           1024.0000\n",
    "myPow(2.0000, 5)        4.0000\n",
    "myPow(2.0000, 2)        2.0000\n",
    "myPow(2.0000, 1)      \n",
    "\n",
    "I did not consider the case of negative power first, added it later after a test case failed.\n",
    "\n",
    "Further optimization\n",
    "- use iterative rather than recursive approach\n",
    "  - start from base case and build to n\n",
    "  - if n is positive, base case is 1\n",
    "  - if n is negative, base case is -1\n",
    "n = 7\n",
    "1 2 4 \n",
    "'''\n",
    "\n"
   ]
  },
  {
   "cell_type": "markdown",
   "id": "43298590-501a-4b81-ab06-7e4e91733d57",
   "metadata": {},
   "source": [
    "# 162. Find Peak Element"
   ]
  },
  {
   "cell_type": "code",
   "execution_count": null,
   "id": "74f1937f-0bc5-461a-b805-87e2c4962155",
   "metadata": {},
   "outputs": [],
   "source": [
    "'''\n",
    "peak element in the array\n",
    "- no consecutive duplicates\n",
    "- edges need to compare only with one neighbor\n",
    "\n",
    "nums = [1,2,1,3,5,6,4]\n",
    "\n",
    "Approach #1\n",
    "- loop through first to last in array\n",
    "  - for each element check both it's neigh\n",
    "O(n), O(1)\n",
    "\n",
    "Optimization\n",
    "- Split the array into two halves and investigate the middle inclination\n",
    "- move to the side where there is upward inclination\n",
    "- stop when the middle element is greater than both the sides\n",
    "\n",
    "O(logn), O(1)\n",
    "'''\n",
    "\n",
    "def findPeakElement(nums):\n",
    "  N = len(nums)\n",
    "  if N == 1:\n",
    "    return 0\n",
    "\n",
    "  left = 0, right = N-1\n",
    "  while(left <= right):\n",
    "    mid = left + (right - left)//2\n",
    "\n",
    "    if mid == 0:\n",
    "      if nums[mid] > nums[mid+1]:\n",
    "        return mid\n",
    "      else:\n",
    "        left = mid + 1\n",
    "    elif mid == N-1:\n",
    "      if nums[mid] > nums[mid-1]:\n",
    "        return mid\n",
    "      else:\n",
    "        right = mid-1\n",
    "    else: \n",
    "      if nums[mid] > nums[mid-1] and nums[mid] > nums[mid+1]:\n",
    "        return mid\n",
    "      elif nums[mid] > nums[mid-1] and nums[mid] < nums[mid+1]:\n",
    "        left = mid+1\n",
    "      else:\n",
    "        right = mid-1\n",
    "  \n",
    "'''\n",
    "Test #1\n",
    "nums = [1,2,3,1]\n",
    "N   left    right     mid   \n",
    "4   2         2       2       2\n",
    "\n",
    "\n",
    "'''"
   ]
  }
 ],
 "metadata": {
  "kernelspec": {
   "display_name": "Python 3 (ipykernel)",
   "language": "python",
   "name": "python3"
  },
  "language_info": {
   "codemirror_mode": {
    "name": "ipython",
    "version": 3
   },
   "file_extension": ".py",
   "mimetype": "text/x-python",
   "name": "python",
   "nbconvert_exporter": "python",
   "pygments_lexer": "ipython3",
   "version": "3.11.8"
  }
 },
 "nbformat": 4,
 "nbformat_minor": 5
}
