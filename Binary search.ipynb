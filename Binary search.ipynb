{
 "cells": [
  {
   "cell_type": "markdown",
   "id": "8291eb95-1549-4875-82bf-630d14e8afac",
   "metadata": {},
   "source": [
    "# Binary Search"
   ]
  },
  {
   "cell_type": "markdown",
   "id": "92c2defd-73a7-4569-a7bf-d4bcaf2777cd",
   "metadata": {},
   "source": [
    "### Vanilla Binary Search algorithm"
   ]
  },
  {
   "cell_type": "code",
   "execution_count": 7,
   "id": "51ae6488-73db-4a8d-84eb-67ce172129c3",
   "metadata": {},
   "outputs": [],
   "source": [
    "def bin_search(arr, item):\n",
    "    N = len(arr)\n",
    "\n",
    "    left = 0\n",
    "    right = N-1\n",
    "\n",
    "    while(left <= right):\n",
    "        mid = int(left + (right-left)/2)\n",
    "        if arr[mid] == item:\n",
    "            print(f\"Found item at index ${mid}\")\n",
    "            break\n",
    "        elif item < arr[mid]:\n",
    "            right = mid-1\n",
    "        else:\n",
    "            left = mid + 1\n",
    "            "
   ]
  },
  {
   "cell_type": "code",
   "execution_count": 11,
   "id": "4ebb7db9-07fc-4972-b896-2d3dfbee618c",
   "metadata": {},
   "outputs": [
    {
     "data": {
      "text/plain": [
       "[2,\n",
       " 2,\n",
       " 3,\n",
       " 6,\n",
       " 7,\n",
       " 9,\n",
       " 9,\n",
       " 10,\n",
       " 20,\n",
       " 34,\n",
       " 45,\n",
       " 45,\n",
       " 49,\n",
       " 56,\n",
       " 72,\n",
       " 78,\n",
       " 84,\n",
       " 94,\n",
       " 338,\n",
       " 376,\n",
       " 567,\n",
       " 999,\n",
       " 2948,\n",
       " 37645,\n",
       " 647487]"
      ]
     },
     "execution_count": 11,
     "metadata": {},
     "output_type": "execute_result"
    }
   ],
   "source": [
    "arr_list = [10,20, 49,45, 72, 9, 376, 45, 2, 84, 94, 7, 3, 6, 2, 78, 34, 999, 37645, 56, 2948, 567, 338, 9, 647487]\n",
    "item = 9\n",
    "\n",
    "sorted_array = sorted(arr_list)\n",
    "sorted_array"
   ]
  },
  {
   "cell_type": "code",
   "execution_count": 12,
   "id": "e9c90edd-a75e-4101-8362-91360f595e01",
   "metadata": {},
   "outputs": [
    {
     "name": "stdout",
     "output_type": "stream",
     "text": [
      "Found item at index $5\n",
      "CPU times: total: 0 ns\n",
      "Wall time: 0 ns\n"
     ]
    }
   ],
   "source": [
    "%%time\n",
    "\n",
    "bin_search(sorted_array, item)"
   ]
  },
  {
   "cell_type": "code",
   "execution_count": 13,
   "id": "97a4f5a2-867d-4019-96ac-5699c256bf71",
   "metadata": {},
   "outputs": [
    {
     "name": "stdout",
     "output_type": "stream",
     "text": [
      "CPU times: total: 0 ns\n",
      "Wall time: 0 ns\n"
     ]
    },
    {
     "data": {
      "text/plain": [
       "5"
      ]
     },
     "execution_count": 13,
     "metadata": {},
     "output_type": "execute_result"
    }
   ],
   "source": [
    "%%time\n",
    "\n",
    "arr_list.index(item)"
   ]
  },
  {
   "cell_type": "code",
   "execution_count": null,
   "id": "fb5b1b1f-2f84-4086-8b3c-fcfee62e6d51",
   "metadata": {},
   "outputs": [],
   "source": []
  }
 ],
 "metadata": {
  "kernelspec": {
   "display_name": "Python 3 (ipykernel)",
   "language": "python",
   "name": "python3"
  },
  "language_info": {
   "codemirror_mode": {
    "name": "ipython",
    "version": 3
   },
   "file_extension": ".py",
   "mimetype": "text/x-python",
   "name": "python",
   "nbconvert_exporter": "python",
   "pygments_lexer": "ipython3",
   "version": "3.11.7"
  }
 },
 "nbformat": 4,
 "nbformat_minor": 5
}
