{
 "cells": [
  {
   "cell_type": "markdown",
   "id": "4aa270e2",
   "metadata": {},
   "source": [
    "<a id=\"0\"></a> <br>\n",
    " # Table of Contents  \n",
    "1. [Binary Search](#1)     \n",
    "1. [708. Binary Search in sorted array](#704) \n",
    "1. [278. First Bad Version](#278)"
   ]
  },
  {
   "cell_type": "markdown",
   "id": "8291eb95-1549-4875-82bf-630d14e8afac",
   "metadata": {},
   "source": [
    "<a id=\"1\"></a> \n",
    "# Binary Search"
   ]
  },
  {
   "cell_type": "markdown",
   "id": "92c2defd-73a7-4569-a7bf-d4bcaf2777cd",
   "metadata": {
    "jp-MarkdownHeadingCollapsed": true
   },
   "source": [
    "### Vanilla Binary Search algorithm"
   ]
  },
  {
   "cell_type": "code",
   "execution_count": 7,
   "id": "51ae6488-73db-4a8d-84eb-67ce172129c3",
   "metadata": {},
   "outputs": [],
   "source": [
    "def bin_search(arr, item):\n",
    "    N = len(arr)\n",
    "\n",
    "    left = 0\n",
    "    right = N-1\n",
    "\n",
    "    while(left <= right):\n",
    "        mid = int(left + (right-left)/2)\n",
    "        if arr[mid] == item:\n",
    "            print(f\"Found item at index ${mid}\")\n",
    "            break\n",
    "        elif item < arr[mid]:\n",
    "            right = mid-1\n",
    "        else:\n",
    "            left = mid + 1\n",
    "            "
   ]
  },
  {
   "cell_type": "code",
   "execution_count": 11,
   "id": "4ebb7db9-07fc-4972-b896-2d3dfbee618c",
   "metadata": {},
   "outputs": [
    {
     "data": {
      "text/plain": [
       "[2,\n",
       " 2,\n",
       " 3,\n",
       " 6,\n",
       " 7,\n",
       " 9,\n",
       " 9,\n",
       " 10,\n",
       " 20,\n",
       " 34,\n",
       " 45,\n",
       " 45,\n",
       " 49,\n",
       " 56,\n",
       " 72,\n",
       " 78,\n",
       " 84,\n",
       " 94,\n",
       " 338,\n",
       " 376,\n",
       " 567,\n",
       " 999,\n",
       " 2948,\n",
       " 37645,\n",
       " 647487]"
      ]
     },
     "execution_count": 11,
     "metadata": {},
     "output_type": "execute_result"
    }
   ],
   "source": [
    "arr_list = [10,20, 49,45, 72, 9, 376, 45, 2, 84, 94, 7, 3, 6, 2, 78, 34, 999, 37645, 56, 2948, 567, 338, 9, 647487]\n",
    "item = 9\n",
    "\n",
    "sorted_array = sorted(arr_list)\n",
    "sorted_array"
   ]
  },
  {
   "cell_type": "code",
   "execution_count": 12,
   "id": "e9c90edd-a75e-4101-8362-91360f595e01",
   "metadata": {},
   "outputs": [
    {
     "name": "stdout",
     "output_type": "stream",
     "text": [
      "Found item at index $5\n",
      "CPU times: total: 0 ns\n",
      "Wall time: 0 ns\n"
     ]
    }
   ],
   "source": [
    "%%time\n",
    "\n",
    "bin_search(sorted_array, item)"
   ]
  },
  {
   "cell_type": "code",
   "execution_count": 13,
   "id": "97a4f5a2-867d-4019-96ac-5699c256bf71",
   "metadata": {},
   "outputs": [
    {
     "name": "stdout",
     "output_type": "stream",
     "text": [
      "CPU times: total: 0 ns\n",
      "Wall time: 0 ns\n"
     ]
    },
    {
     "data": {
      "text/plain": [
       "5"
      ]
     },
     "execution_count": 13,
     "metadata": {},
     "output_type": "execute_result"
    }
   ],
   "source": [
    "%%time\n",
    "\n",
    "arr_list.index(item)"
   ]
  },
  {
   "cell_type": "markdown",
   "id": "50f575c0",
   "metadata": {},
   "source": [
    "<a id=\"704\"></a> \n",
    "# 704. Binary Search"
   ]
  },
  {
   "cell_type": "code",
   "execution_count": null,
   "id": "b136bc9e",
   "metadata": {},
   "outputs": [],
   "source": [
    "'''\n",
    "Binary search in a sorted array\n",
    "    - arrray  length is atleast 1\n",
    "O(logn), O(1)\n",
    "'''\n",
    "\n",
    "\n",
    "def search(nums, target):\n",
    "    left = 0\n",
    "    right = len(nums)-1\n",
    "\n",
    "    found = -1\n",
    "    while(left <= right):\n",
    "        mid =  left + (right - left)//2\n",
    "        if target > nums[mid]:\n",
    "            left += 1\n",
    "        elif target < nums[mid]:\n",
    "            right -= 1\n",
    "        else:\n",
    "            found = mid\n",
    "            break\n",
    "    return found\n"
   ]
  },
  {
   "cell_type": "markdown",
   "id": "712b9e07-27b2-4b97-8cac-69014baf1d18",
   "metadata": {
    "jp-MarkdownHeadingCollapsed": true
   },
   "source": [
    "# 50. Pow(x,n)"
   ]
  },
  {
   "cell_type": "code",
   "execution_count": null,
   "id": "147684b0-5b74-4ba6-b9c1-25df126937e4",
   "metadata": {},
   "outputs": [],
   "source": [
    "'''\n",
    "pow(x,n)\n",
    "Appraoch #1\n",
    "- loop through 1 to n\n",
    "- multiply x at each step with itself\n",
    "\n",
    "O(n), O(1)\n",
    "Challenges\n",
    "- overflow \n",
    "100.0 * 2^31\n",
    "\n",
    "Optimization\n",
    "- x^n  =x^n/2*x*n/2\n",
    "- pow(x,n) = pow(x,n/2)*pow(x,n/2)\n",
    "  - n is odd\n",
    "    pow(x,n-1/2)*pow(x,n-1/2)*x\n",
    "  - n is 1\n",
    "    x\n",
    "\n",
    "O(logn), O(logn)\n",
    "'''\n",
    "\n",
    "def myPow(x,n):\n",
    "  if n == 0:\n",
    "    return 1\n",
    "  if n == 1:\n",
    "    return x\n",
    "  if n == -1:\n",
    "    return 1/x\n",
    "  if n % 2 == 0:\n",
    "    half_power = myPow(x, n/2)\n",
    "    return half_power * half_power\n",
    "  else:\n",
    "    half_power = myPow(x, (n-1)/2)\n",
    "    return half_power*half_power*x\n",
    "\n",
    "'''\n",
    "Test #1\n",
    "x = 2.00000, n = 10\n",
    "                      half_power\n",
    "myPow(2.0000, 10)       32.0000           1024.0000\n",
    "myPow(2.0000, 5)        4.0000\n",
    "myPow(2.0000, 2)        2.0000\n",
    "myPow(2.0000, 1)      \n",
    "\n",
    "I did not consider the case of negative power first, added it later after a test case failed.\n",
    "\n",
    "Further optimization\n",
    "- use iterative rather than recursive approach\n",
    "  - start from base case and build to n\n",
    "  - if n is positive, base case is 1\n",
    "  - if n is negative, base case is -1\n",
    "n = 7\n",
    "1 2 4 \n",
    "'''\n",
    "\n"
   ]
  },
  {
   "cell_type": "markdown",
   "id": "43298590-501a-4b81-ab06-7e4e91733d57",
   "metadata": {},
   "source": [
    "# 162. Find Peak Element"
   ]
  },
  {
   "cell_type": "code",
   "execution_count": null,
   "id": "74f1937f-0bc5-461a-b805-87e2c4962155",
   "metadata": {},
   "outputs": [],
   "source": [
    "'''\n",
    "peak element in the array\n",
    "- no consecutive duplicates\n",
    "- edges need to compare only with one neighbor\n",
    "\n",
    "nums = [1,2,1,3,5,6,4]\n",
    "\n",
    "Approach #1\n",
    "- loop through first to last in array\n",
    "  - for each element check both it's neigh\n",
    "O(n), O(1)\n",
    "\n",
    "Optimization\n",
    "- Split the array into two halves and investigate the middle inclination\n",
    "- move to the side where there is upward inclination\n",
    "- stop when the middle element is greater than both the sides\n",
    "\n",
    "O(logn), O(1)\n",
    "'''\n",
    "\n",
    "def findPeakElement(nums):\n",
    "  N = len(nums)\n",
    "  if N == 1:\n",
    "    return 0\n",
    "\n",
    "  left = 0, right = N-1\n",
    "  while(left <= right):\n",
    "    mid = left + (right - left)//2\n",
    "\n",
    "    if mid == 0:\n",
    "      if nums[mid] > nums[mid+1]:\n",
    "        return mid\n",
    "      else:\n",
    "        left = mid + 1\n",
    "    elif mid == N-1:\n",
    "      if nums[mid] > nums[mid-1]:\n",
    "        return mid\n",
    "      else:\n",
    "        right = mid-1\n",
    "    else: \n",
    "      if nums[mid] > nums[mid-1] and nums[mid] > nums[mid+1]:\n",
    "        return mid\n",
    "      elif nums[mid] > nums[mid-1] and nums[mid] < nums[mid+1]:\n",
    "        left = mid+1\n",
    "      else:\n",
    "        right = mid-1\n",
    "  \n",
    "'''\n",
    "Test #1\n",
    "nums = [1,2,3,1]\n",
    "N   left    right     mid   \n",
    "4   2         2       2       2\n",
    "\n",
    "\n",
    "'''"
   ]
  },
  {
   "cell_type": "markdown",
   "id": "e62f41a7",
   "metadata": {},
   "source": [
    "<a id=\"278\"></a>\n",
    "# 278. First Bad Version"
   ]
  },
  {
   "cell_type": "code",
   "execution_count": null,
   "id": "297ac000",
   "metadata": {},
   "outputs": [],
   "source": [
    "'''\n",
    "There is a given api isBadVersion. We can query it for any number from 1 till n to find out first bad version. Get the first bad version with minimum calls.\n",
    "\n",
    "Approach #1\n",
    "Linear search\n",
    "- Query for each number and keep track of max of the number where it is positive\n",
    "- break where it goes bad\n",
    "- return the max good version\n",
    "o(n)\n",
    "\n",
    "Approach #2\n",
    "Binary search for query\n",
    "- consider bounds start = 1, end = n\n",
    "- Query for n/2\n",
    "- if the result is neg, \n",
    "    - if the prevision version is not bad\n",
    "        - break and return the current version\n",
    "    - else \n",
    "        - decrease the end by n/2\n",
    "- if the result in pos, increase the start by n/2\n",
    "O(logn)\n",
    "'''\n",
    "\n",
    "def firstBadVersion(n):\n",
    "    first_bad_version = 0\n",
    "    for i in range(1, n+1):\n",
    "        if isBadVersion(i):\n",
    "            first_bad_version = i\n",
    "            break\n",
    "    return first_bad_version\n",
    "\n",
    "def firstBadVersion(n):\n",
    "    start = 1\n",
    "    end = n\n",
    "\n",
    "    first_bad_version = 0\n",
    "    while(start <= end):\n",
    "        mid = start + (end - start) // 2\n",
    "\n",
    "        if isBadVersion(mid):\n",
    "            if mid > 1 and isBadVersion(mid-1):\n",
    "                end = mid - 1\n",
    "            else:\n",
    "                first_bad_version = mid\n",
    "                break\n",
    "        else:\n",
    "            start = mid + 1\n",
    "    \n",
    "    return first_bad_version\n",
    "\n"
   ]
  },
  {
   "cell_type": "code",
   "execution_count": null,
   "id": "534cfde0",
   "metadata": {},
   "outputs": [],
   "source": [
    "'''\n",
    "More optimized version by removing the second call at each comparision\n",
    "- keep the bounds comparison till start < end. That way it will stop when the start becomes = end and we do not  have to do that call\n",
    "- instead of decreasing the start to mid - 1, decrease it to mid since we already know this is bad and do not want to get it checked in further checks\n",
    "- return the start\n",
    "'''\n",
    "\n",
    "def firstBadVersion(n):\n",
    "    start = 1\n",
    "    end = n\n",
    "\n",
    "    while(start <= end):\n",
    "        mid = start + (end - start) // 2\n",
    "\n",
    "        if isBadVersion(mid):\n",
    "            end = mid\n",
    "        else:\n",
    "            start = mid + 1\n",
    "    \n",
    "    return start"
   ]
  }
 ],
 "metadata": {
  "kernelspec": {
   "display_name": "Python 3 (ipykernel)",
   "language": "python",
   "name": "python3"
  },
  "language_info": {
   "codemirror_mode": {
    "name": "ipython",
    "version": 3
   },
   "file_extension": ".py",
   "mimetype": "text/x-python",
   "name": "python",
   "nbconvert_exporter": "python",
   "pygments_lexer": "ipython3",
   "version": "3.11.8"
  }
 },
 "nbformat": 4,
 "nbformat_minor": 5
}
