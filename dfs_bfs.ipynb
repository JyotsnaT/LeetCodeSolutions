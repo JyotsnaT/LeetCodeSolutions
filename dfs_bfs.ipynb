{
 "cells": [
  {
   "cell_type": "markdown",
   "metadata": {},
   "source": [
    "# nearest exit maze"
   ]
  },
  {
   "cell_type": "code",
   "execution_count": null,
   "metadata": {},
   "outputs": [],
   "source": [
    "'''\n",
    "Author : Jyotsna\n",
    "This function implements solution for reordering a list into odd nodes followed by even nodes\n",
    "'''\n",
    "\n",
    "# Definition for singly-linked list.\n",
    "# class ListNode:\n",
    "#     def __init__(self, val=0, next=None):\n",
    "#         self.val = val\n",
    "#         self.next = next\n",
    "class Solution:\n",
    "    def oddEvenList(self, head: Optional[ListNode]) -> Optional[ListNode]:\n",
    "        if not head or head.next is None:\n",
    "            return head\n",
    "\n",
    "        oddHead = head\n",
    "        evenHead = head.next\n",
    "\n",
    "        tempOdd = oddHead\n",
    "        tempEven = evenHead\n",
    "\n",
    "        while(tempOdd.next and tempEven.next):\n",
    "            # print(\"odd node\", tempOdd)\n",
    "            # print(\"even node\", tempEven)\n",
    "            tempOdd.next = tempEven.next\n",
    "            tempOdd = tempOdd.next\n",
    "            \n",
    "            if tempOdd.next:\n",
    "                tempEven.next = tempOdd.next\n",
    "                tempEven = tempEven.next\n",
    "        \n",
    "        # print(evenHead)\n",
    "        # print(oddHead)\n",
    "        # print(tempOdd)\n",
    "        tempEven.next = None\n",
    "        tempOdd.next = evenHead\n",
    "        # print(tempOdd)\n",
    "        # print(oddHead)\n",
    "        return oddHead \n"
   ]
  },
  {
   "cell_type": "markdown",
   "metadata": {},
   "source": [
    "# Keys and rooms"
   ]
  },
  {
   "cell_type": "code",
   "execution_count": null,
   "metadata": {},
   "outputs": [],
   "source": [
    "class Solution:\n",
    "    def canVisitAllRooms(self, rooms: List[List[int]]) -> bool:\n",
    "        n = len(rooms)\n",
    "        visited = [False]*n\n",
    "        visited[0] = True\n",
    "\n",
    "        def dfs(room):\n",
    "            nonlocal visited\n",
    "            if visited[room]:\n",
    "                keys = rooms[room]\n",
    "                for key in keys:\n",
    "                    if not visited[key]:\n",
    "                        visited[key] = True\n",
    "                        dfs(key)\n",
    "            return\n",
    "\n",
    "        dfs(0)\n",
    "        return reduce(lambda x, y: x and y, visited)"
   ]
  }
 ],
 "metadata": {
  "language_info": {
   "name": "python"
  }
 },
 "nbformat": 4,
 "nbformat_minor": 2
}
