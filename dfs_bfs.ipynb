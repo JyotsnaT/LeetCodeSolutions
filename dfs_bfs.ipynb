{
 "cells": [
  {
   "cell_type": "markdown",
   "metadata": {},
   "source": [
    "<a id=\"0\"></a> <br>\n",
    " # Table of Contents  \n",
    "1. [Flood Fill](#733)     \n",
    "1. [Nearest Exit Maze](#704) "
   ]
  },
  {
   "cell_type": "markdown",
   "metadata": {},
   "source": [
    "<a id=\"733\"></a>\n",
    "# 733. Flood Fill"
   ]
  },
  {
   "cell_type": "code",
   "execution_count": null,
   "metadata": {},
   "outputs": [],
   "source": [
    "'''\n",
    "Given coordinates of the pixel in an image, replace the value of current pixel and all neighboring pixels with the given value.\n",
    "- pixels are conected if all they have same value\n",
    "- there is atleast one pixel\n",
    "\n",
    "Approach #1\n",
    "DFS in graph\n",
    "- Given the pixel coordinate, push the coordinate in a stack\n",
    "- pop a pixel coordinate and replace it with current color\n",
    "- for each neighbour which has same color push them in stack as well\n",
    "- stop when stack is empty\n",
    "\n",
    "O(n), O(n)\n",
    "'''\n",
    "\n",
    "\n",
    "def floodFill(image, sr, sc, color):\n",
    "    n = len(image)\n",
    "    m = len(image[0])\n",
    "\n",
    "    neighbors = [(0, 1), (1, 0), (0, -1), (-1, 0)]\n",
    "\n",
    "    S = []\n",
    "    visited = {(sr, sc) : True}\n",
    "    S.append((sr, sc))\n",
    "    while(len(S) > 0):\n",
    "        top = S.pop()\n",
    "        x = top[0]\n",
    "        y = top[1]\n",
    "\n",
    "        for neigh in neighbors:\n",
    "            x_neigh = x + neigh[0]\n",
    "            y_neigh = y + neigh[1]\n",
    "\n",
    "            if 0 <= x_neigh < n and 0 <= y_neigh < m and (x_neigh, y_neigh) not in visited and image[x_neigh][y_neigh] == image[x][y]:\n",
    "                S.append((x_neigh, y_neigh))\n",
    "                visited[(x_neigh, y_neigh)] = True\n",
    "            \n",
    "        image[x][y] = color\n",
    "        \n",
    "    return image\n",
    "        "
   ]
  },
  {
   "cell_type": "markdown",
   "metadata": {},
   "source": [
    "# nearest exit maze"
   ]
  },
  {
   "cell_type": "code",
   "execution_count": null,
   "metadata": {},
   "outputs": [],
   "source": [
    "'''\n",
    "Author : Jyotsna\n",
    "This function implements solution for reordering a list into odd nodes followed by even nodes\n",
    "'''\n",
    "\n",
    "# Definition for singly-linked list.\n",
    "# class ListNode:\n",
    "#     def __init__(self, val=0, next=None):\n",
    "#         self.val = val\n",
    "#         self.next = next\n",
    "class Solution:\n",
    "    def oddEvenList(self, head: Optional[ListNode]) -> Optional[ListNode]:\n",
    "        if not head or head.next is None:\n",
    "            return head\n",
    "\n",
    "        oddHead = head\n",
    "        evenHead = head.next\n",
    "\n",
    "        tempOdd = oddHead\n",
    "        tempEven = evenHead\n",
    "\n",
    "        while(tempOdd.next and tempEven.next):\n",
    "            # print(\"odd node\", tempOdd)\n",
    "            # print(\"even node\", tempEven)\n",
    "            tempOdd.next = tempEven.next\n",
    "            tempOdd = tempOdd.next\n",
    "            \n",
    "            if tempOdd.next:\n",
    "                tempEven.next = tempOdd.next\n",
    "                tempEven = tempEven.next\n",
    "        \n",
    "        # print(evenHead)\n",
    "        # print(oddHead)\n",
    "        # print(tempOdd)\n",
    "        tempEven.next = None\n",
    "        tempOdd.next = evenHead\n",
    "        # print(tempOdd)\n",
    "        # print(oddHead)\n",
    "        return oddHead \n"
   ]
  },
  {
   "cell_type": "markdown",
   "metadata": {},
   "source": [
    "# Keys and rooms"
   ]
  },
  {
   "cell_type": "code",
   "execution_count": null,
   "metadata": {},
   "outputs": [],
   "source": [
    "class Solution:\n",
    "    def canVisitAllRooms(self, rooms: List[List[int]]) -> bool:\n",
    "        n = len(rooms)\n",
    "        visited = [False]*n\n",
    "        visited[0] = True\n",
    "\n",
    "        def dfs(room):\n",
    "            nonlocal visited\n",
    "            if visited[room]:\n",
    "                keys = rooms[room]\n",
    "                for key in keys:\n",
    "                    if not visited[key]:\n",
    "                        visited[key] = True\n",
    "                        dfs(key)\n",
    "            return\n",
    "\n",
    "        dfs(0)\n",
    "        return reduce(lambda x, y: x and y, visited)"
   ]
  }
 ],
 "metadata": {
  "language_info": {
   "name": "python"
  }
 },
 "nbformat": 4,
 "nbformat_minor": 2
}
