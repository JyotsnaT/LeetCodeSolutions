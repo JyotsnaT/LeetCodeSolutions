{
 "cells": [
  {
   "cell_type": "markdown",
   "id": "8e4b10ad-9c6b-4473-803b-9c01ee490c55",
   "metadata": {},
   "source": [
    "# 338. Counting Bits\n",
    "-   Runtime \r\n",
    "8s s\r\n",
    "Beats 66.36%of users with Pyth\n",
    "-   n3\r\n",
    "Me\n",
    "-   ails\r\n",
    "2 .97MB\r\n",
    "Beats 94.90%of users with Python3\n"
   ]
  },
  {
   "cell_type": "code",
   "execution_count": 10,
   "id": "fcfd8d03-0761-48ef-8cfa-631e744dea27",
   "metadata": {},
   "outputs": [],
   "source": [
    "import math\n",
    "class solution:\n",
    "    def countbits(self, n):\n",
    "        bitCounter = [0]\n",
    "        prevPointer = 0\n",
    "        k = 0\n",
    "        for i in range(1, n+1):\n",
    "            if i == math.pow(2,k):\n",
    "                prevPointer = 0\n",
    "                k += 1\n",
    "            bitCounter.append(bitCounter[prevPointer]+1)\n",
    "            prevPointer += 1\n",
    "        return bitCounter\n"
   ]
  },
  {
   "cell_type": "code",
   "execution_count": 11,
   "id": "2fb08781-05fa-4471-be2d-d986425603e0",
   "metadata": {},
   "outputs": [
    {
     "name": "stdout",
     "output_type": "stream",
     "text": [
      "[0, 1, 1, 2, 1, 2]\n",
      "[0]\n"
     ]
    }
   ],
   "source": [
    "solObject = solution()\n",
    "\n",
    "print(solObject.countbits(5))\n",
    "print(solObject.countbits(0))"
   ]
  },
  {
   "cell_type": "code",
   "execution_count": null,
   "id": "e4b73db6-0850-4fc0-89db-c3d8a6202c52",
   "metadata": {},
   "outputs": [],
   "source": []
  }
 ],
 "metadata": {
  "kernelspec": {
   "display_name": "Python 3 (ipykernel)",
   "language": "python",
   "name": "python3"
  },
  "language_info": {
   "codemirror_mode": {
    "name": "ipython",
    "version": 3
   },
   "file_extension": ".py",
   "mimetype": "text/x-python",
   "name": "python",
   "nbconvert_exporter": "python",
   "pygments_lexer": "ipython3",
   "version": "3.11.5"
  }
 },
 "nbformat": 4,
 "nbformat_minor": 5
}
