{
 "cells": [
  {
   "cell_type": "code",
   "execution_count": null,
   "id": "cd431d62-cf79-4c12-aa27-eb8392cd2b94",
   "metadata": {},
   "outputs": [],
   "source": []
  },
  {
   "cell_type": "markdown",
   "id": "1fe69a51-2000-4c95-a4b3-e86d0fdd82d4",
   "metadata": {},
   "source": [
    "# 1143. Longest Common Subsequence\r\n"
   ]
  },
  {
   "cell_type": "code",
   "execution_count": 23,
   "id": "7c11dbf1-cb9d-4f04-9780-e1467413348d",
   "metadata": {},
   "outputs": [],
   "source": [
    "class Solution:\n",
    "    def LCS(self, text1, text2):\n",
    "        n = len(text1)\n",
    "        m = len(text2)\n",
    "        lcs_arr = [[0]*(n+1) for i in range(m+1)]\n",
    "\n",
    "        for i in range(1, m+1):\n",
    "            for j in range(1, n+1):\n",
    "                lcs_arr[i][j] = max(lcs_arr[i-1][j], lcs_arr[i][j-1]) if text2[i-1] != text1[j-1] else lcs_arr[i-1][j-1] + 1\n",
    "                # print(lcs_arr[i][j], int(text2[i-1] == text1[j-1]))\n",
    "        for row in lcs_arr:\n",
    "            print(row)\n",
    "        return lcs_arr[m][n]\n",
    "\n",
    "solObj = Solution()\n",
    "def evaluate(str1, str2):\n",
    "    print(solObj.LCS(str1, str2))"
   ]
  },
  {
   "cell_type": "code",
   "execution_count": 24,
   "id": "1d60af99-d68f-4dba-8961-ee41dce061dd",
   "metadata": {},
   "outputs": [
    {
     "name": "stdout",
     "output_type": "stream",
     "text": [
      "[0, 0, 0, 0]\n",
      "[0, 0, 1, 1]\n",
      "[0, 0, 1, 2]\n",
      "2\n"
     ]
    }
   ],
   "source": [
    "evaluate(\"abc\", \"bc\")"
   ]
  },
  {
   "cell_type": "code",
   "execution_count": 25,
   "id": "b4111257-2c47-45a0-8399-04d4031f6914",
   "metadata": {},
   "outputs": [
    {
     "name": "stdout",
     "output_type": "stream",
     "text": [
      "[0, 0, 0, 0, 0, 0, 0, 0, 0]\n",
      "[0, 0, 0, 0, 0, 0, 0, 0, 0]\n",
      "[0, 0, 0, 0, 0, 0, 0, 0, 1]\n",
      "[0, 0, 0, 0, 0, 0, 0, 0, 1]\n",
      "[0, 0, 0, 0, 0, 0, 0, 0, 1]\n",
      "[0, 1, 1, 1, 1, 1, 1, 1, 1]\n",
      "[0, 1, 1, 1, 1, 1, 1, 1, 1]\n",
      "[0, 1, 1, 1, 1, 1, 1, 1, 1]\n",
      "[0, 1, 1, 1, 1, 1, 1, 1, 1]\n",
      "[0, 1, 1, 1, 1, 1, 1, 1, 1]\n",
      "1\n"
     ]
    }
   ],
   "source": [
    "evaluate(\"bsbininm\", \"jmjkbkjkv\")"
   ]
  },
  {
   "cell_type": "code",
   "execution_count": null,
   "id": "0cdba22a-62ea-41f1-99c3-e145b5ee4f76",
   "metadata": {},
   "outputs": [],
   "source": []
  }
 ],
 "metadata": {
  "kernelspec": {
   "display_name": "Python 3 (ipykernel)",
   "language": "python",
   "name": "python3"
  },
  "language_info": {
   "codemirror_mode": {
    "name": "ipython",
    "version": 3
   },
   "file_extension": ".py",
   "mimetype": "text/x-python",
   "name": "python",
   "nbconvert_exporter": "python",
   "pygments_lexer": "ipython3",
   "version": "3.11.5"
  }
 },
 "nbformat": 4,
 "nbformat_minor": 5
}
