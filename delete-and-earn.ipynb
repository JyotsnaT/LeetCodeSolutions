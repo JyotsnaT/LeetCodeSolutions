{
 "cells": [
  {
   "cell_type": "markdown",
   "id": "80f0de4a-1e82-4dc1-a6cc-e9d56f31db30",
   "metadata": {},
   "source": [
    "# 740. Delete and Earn\r\n",
    "You are given an integer array nums. You want to maximize the number of points you get by performing the following operation any number of times:\r\n",
    "\r\n",
    "Pick any nums[i] and delete it to earn nums[i] points. Afterwards, you must delete every element equal to nums[i] - 1 and every element equal to nums[i] + 1.\r\n",
    "Return the maximum number of points you can earn by applying the above operation some number of times.\n"
   ]
  },
  {
   "cell_type": "markdown",
   "id": "0d0cddd9-a209-43b0-bbab-3f6360475cbd",
   "metadata": {},
   "source": [
    "# Solution 1\n",
    "In the first solution we will first sort the given nums array which will give us a sorted count dictionary. This count dictionary will consists of frequency of items from min value in the array till max value in the array even if it is not present in the array. A DP solution can now be applicable to this problem to fin max possible value."
   ]
  },
  {
   "cell_type": "code",
   "execution_count": 108,
   "id": "639dd8bf-f17f-4b6f-ba64-3a94dc76cf78",
   "metadata": {},
   "outputs": [],
   "source": [
    "from collections import Counter\n",
    "class Solution:\n",
    "    def maxPoints(self, nums):\n",
    "        sorted_nums = sorted(nums) \n",
    "        countDict=Counter(sorted_nums)\n",
    "        if len(countDict) == 1:\n",
    "            return list(countDict.values())[0]*list(countDict.keys())[0]\n",
    "        minNum = min(sorted_nums)\n",
    "        maxNum = max(sorted_nums)\n",
    "        print(minNum, maxNum)\n",
    "        \n",
    "        maxCount = [0]*(maxNum-minNum+1)\n",
    "        maxCount[0] = countDict[minNum] * minNum\n",
    "        maxCount[1] = max(maxCount[0], countDict[minNum+1] * (minNum+1))\n",
    "        print(maxCount)\n",
    "\n",
    "        for i in range(2, maxNum-minNum+1):\n",
    "            maxCount[i] = max(maxCount[i-1], maxCount[i-2]+(countDict[minNum+i]*(minNum+i)))\n",
    "            print(maxCount)\n",
    "            \n",
    "        return maxCount[maxNum-minNum]\n",
    "        \n",
    "\n",
    "solObj = Solution()\n",
    "def evaluate(inp):\n",
    "    print(solObj.maxPoints(inp))"
   ]
  },
  {
   "cell_type": "code",
   "execution_count": 71,
   "id": "68be02fb-f348-40b5-b19a-9a8cad4501c4",
   "metadata": {},
   "outputs": [
    {
     "name": "stdout",
     "output_type": "stream",
     "text": [
      "6\n"
     ]
    }
   ],
   "source": [
    "evaluate([3,4,2])"
   ]
  },
  {
   "cell_type": "code",
   "execution_count": 72,
   "id": "c88b3039-fad9-45aa-a624-e6c56b00890d",
   "metadata": {},
   "outputs": [
    {
     "name": "stdout",
     "output_type": "stream",
     "text": [
      "9\n"
     ]
    }
   ],
   "source": [
    "evaluate([2,2,3,3,3,4])"
   ]
  },
  {
   "cell_type": "code",
   "execution_count": 74,
   "id": "8931befc-38f6-486a-b661-6898cc78be93",
   "metadata": {},
   "outputs": [
    {
     "name": "stdout",
     "output_type": "stream",
     "text": [
      "1008\n"
     ]
    }
   ],
   "source": [
    "evaluate([2,3,5,1000])"
   ]
  },
  {
   "cell_type": "code",
   "execution_count": 110,
   "id": "9da37b5d-d40d-4c0e-83a0-1312643bea3c",
   "metadata": {},
   "outputs": [
    {
     "name": "stdout",
     "output_type": "stream",
     "text": [
      "1 10\n",
      "[1, 1, 0, 0, 0, 0, 0, 0, 0, 0]\n",
      "[1, 1, 1, 0, 0, 0, 0, 0, 0, 0]\n",
      "[1, 1, 1, 9, 0, 0, 0, 0, 0, 0]\n",
      "[1, 1, 1, 9, 9, 0, 0, 0, 0, 0]\n",
      "[1, 1, 1, 9, 9, 15, 0, 0, 0, 0]\n",
      "[1, 1, 1, 9, 9, 15, 16, 0, 0, 0]\n",
      "[1, 1, 1, 9, 9, 15, 16, 23, 0, 0]\n",
      "[1, 1, 1, 9, 9, 15, 16, 23, 25, 0]\n",
      "[1, 1, 1, 9, 9, 15, 16, 23, 25, 53]\n",
      "53\n"
     ]
    }
   ],
   "source": [
    "evaluate([4,10,10,8,1,4,10,9,7,6])"
   ]
  },
  {
   "cell_type": "code",
   "execution_count": 109,
   "id": "de03aab3-e77f-46c8-bfc1-68148eadae8c",
   "metadata": {},
   "outputs": [
    {
     "name": "stdout",
     "output_type": "stream",
     "text": [
      "1000\n"
     ]
    }
   ],
   "source": [
    "evaluate([1000])"
   ]
  },
  {
   "cell_type": "markdown",
   "id": "29e05fca-a84a-45f7-bd2c-4463f4dd0965",
   "metadata": {},
   "source": [
    "n = size of nums array\n",
    "k = largest element in nums array\n",
    "\n",
    "Total runtime of this solution is O(nlogn) + O(n) + O(k)\n",
    "~O(nlogn + k)"
   ]
  },
  {
   "cell_type": "markdown",
   "id": "72baedbb-26b0-4f4b-a083-5f54859bbdb2",
   "metadata": {},
   "source": [
    "# Solution 2"
   ]
  },
  {
   "cell_type": "markdown",
   "id": "b9ba6a05-afd0-43ab-b56b-63ede33bbfc9",
   "metadata": {},
   "source": [
    "We can improve the above solution by removing the sorting step, since it is not adding any extra value to the solution efficiency"
   ]
  },
  {
   "cell_type": "code",
   "execution_count": 115,
   "id": "82a51936-33a5-48ed-90e3-208a5d110e70",
   "metadata": {},
   "outputs": [],
   "source": [
    "from collections import Counter\n",
    "class Solution2:\n",
    "    def maxPoints(self, nums):\n",
    "        countDict=Counter(nums)\n",
    "        if len(countDict) == 1:\n",
    "            return list(countDict.values())[0]*list(countDict.keys())[0]\n",
    "        minNum = min(nums)\n",
    "        maxNum = max(nums)\n",
    "        # print(minNum, maxNum)\n",
    "        \n",
    "        maxCount = [0]*(maxNum-minNum+1)\n",
    "        maxCount[0] = countDict[minNum] * minNum\n",
    "        maxCount[1] = max(maxCount[0], countDict[minNum+1] * (minNum+1))\n",
    "        # print(maxCount)\n",
    "\n",
    "        for i in range(2, maxNum-minNum+1):\n",
    "            maxCount[i] = max(maxCount[i-1], maxCount[i-2]+(countDict[minNum+i]*(minNum+i)))\n",
    "            # print(maxCount)\n",
    "            \n",
    "        return maxCount[maxNum-minNum]\n",
    "        \n",
    "\n",
    "solObj2 = Solution2()\n",
    "def evaluate2(inp):\n",
    "    print(solObj2.maxPoints(inp))"
   ]
  },
  {
   "cell_type": "code",
   "execution_count": 116,
   "id": "3c2e5e57-74b8-4fe9-9930-1379ade5e971",
   "metadata": {},
   "outputs": [
    {
     "name": "stdout",
     "output_type": "stream",
     "text": [
      "6\n",
      "9\n",
      "1008\n",
      "53\n",
      "1000\n",
      "3\n"
     ]
    }
   ],
   "source": [
    "evaluate2([3,4,2])\n",
    "evaluate([2,2,3,3,3,4])\n",
    "evaluate([2,3,5,1000])\n",
    "evaluate([4,10,10,8,1,4,10,9,7,6])\n",
    "evaluate([1000])\n",
    "evaluate([1, 1, 1])"
   ]
  },
  {
   "cell_type": "markdown",
   "id": "1217c5dc-6bd5-4655-a82c-22ebbbafa3f7",
   "metadata": {},
   "source": [
    "The runtime of this solution comes out to be O(n+k). This solution can be further improved by removing the maxCount array, since at every stage only 2 variables are needed."
   ]
  },
  {
   "cell_type": "code",
   "execution_count": null,
   "id": "562d597b-414e-4c39-b94f-77a4d147ba16",
   "metadata": {},
   "outputs": [],
   "source": []
  }
 ],
 "metadata": {
  "kernelspec": {
   "display_name": "Python 3 (ipykernel)",
   "language": "python",
   "name": "python3"
  },
  "language_info": {
   "codemirror_mode": {
    "name": "ipython",
    "version": 3
   },
   "file_extension": ".py",
   "mimetype": "text/x-python",
   "name": "python",
   "nbconvert_exporter": "python",
   "pygments_lexer": "ipython3",
   "version": "3.11.5"
  }
 },
 "nbformat": 4,
 "nbformat_minor": 5
}
