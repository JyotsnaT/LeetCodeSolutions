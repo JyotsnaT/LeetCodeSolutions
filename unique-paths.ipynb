{
 "cells": [
  {
   "cell_type": "markdown",
   "id": "39e5fdae-2881-411b-931a-ce1a35ac44fe",
   "metadata": {},
   "source": [
    "# 62. Unique Paths\n"
   ]
  },
  {
   "cell_type": "code",
   "execution_count": 6,
   "id": "86493182-2937-42d8-a02a-26ca4d6cf0bb",
   "metadata": {},
   "outputs": [],
   "source": [
    "class Solution:\n",
    "    def uniquePaths(self, m: int, n:int) -> int:\n",
    "        grid = [[1 for j in range(n)] for i in range(m)]\n",
    "\n",
    "        for i in range(1, m):\n",
    "            for j in range(1, n):\n",
    "                grid[i][j] = grid[i][j-1] + grid[i-1][j]\n",
    "\n",
    "        return grid[m-1][n-1]"
   ]
  },
  {
   "cell_type": "code",
   "execution_count": 7,
   "id": "07d19911-ad6a-4e61-a681-fc8022376d20",
   "metadata": {},
   "outputs": [
    {
     "name": "stdout",
     "output_type": "stream",
     "text": [
      "3\n"
     ]
    }
   ],
   "source": [
    "upObj = Solution()\n",
    "print(upObj.uniquePaths(m=2, n=3))"
   ]
  },
  {
   "cell_type": "code",
   "execution_count": null,
   "id": "f3ce1b34-a685-4467-9d97-f81970d122c1",
   "metadata": {},
   "outputs": [],
   "source": []
  }
 ],
 "metadata": {
  "kernelspec": {
   "display_name": "Python 3 (ipykernel)",
   "language": "python",
   "name": "python3"
  },
  "language_info": {
   "codemirror_mode": {
    "name": "ipython",
    "version": 3
   },
   "file_extension": ".py",
   "mimetype": "text/x-python",
   "name": "python",
   "nbconvert_exporter": "python",
   "pygments_lexer": "ipython3",
   "version": "3.11.5"
  }
 },
 "nbformat": 4,
 "nbformat_minor": 5
}
