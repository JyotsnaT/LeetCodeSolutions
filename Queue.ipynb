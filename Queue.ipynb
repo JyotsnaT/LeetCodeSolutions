{
 "cells": [
  {
   "cell_type": "markdown",
   "id": "8bc21526-2592-4c5c-b553-8aa60039fdd7",
   "metadata": {},
   "source": [
    "# Queue"
   ]
  },
  {
   "cell_type": "markdown",
   "id": "42715527-bbcc-487d-a825-8bcee0fd80a5",
   "metadata": {},
   "source": [
    "# Design hit counter"
   ]
  },
  {
   "cell_type": "code",
   "execution_count": 1,
   "id": "11ba1b32-3bde-4f42-924e-18420c100724",
   "metadata": {},
   "outputs": [],
   "source": [
    "'''\n",
    "Author : Jyotsna\n",
    "This function implements solution for designing a hit counter that returns the number of hits in last 5 minutes\n",
    "'''\n",
    "\n",
    "from collections import deque\n",
    "\n",
    "class HitCounter:\n",
    "    def __init__(self):\n",
    "        self.hitCounter = deque()\n",
    "\n",
    "    def hit(self, timestamp: int) -> None:\n",
    "        if self.hitCounter:\n",
    "            while self.hitCounter and timestamp - self.hitCounter[0] >= 300:\n",
    "                # print(self.hitCounter[0])\n",
    "                self.hitCounter.popleft()\n",
    "        self.hitCounter.append(timestamp)\n",
    "        return \n",
    "\n",
    "    def getHits(self, timestamp: int) -> int:\n",
    "        if self.hitCounter:\n",
    "            while self.hitCounter and timestamp - self.hitCounter[0] >= 300:\n",
    "                # print(self.hitCounter[0])\n",
    "                self.hitCounter.popleft()\n",
    "        \n",
    "        return len(self.hitCounter)\n",
    "        \n",
    "\n",
    "\n",
    "# Your HitCounter object will be instantiated and called as such:\n",
    "# obj = HitCounter()\n",
    "# obj.hit(timestamp)\n",
    "# param_2 = obj.getHits(timestamp)"
   ]
  },
  {
   "cell_type": "code",
   "execution_count": null,
   "id": "bd65605b-ed7a-4c87-a451-75a116600ba8",
   "metadata": {},
   "outputs": [],
   "source": []
  }
 ],
 "metadata": {
  "kernelspec": {
   "display_name": "Python 3 (ipykernel)",
   "language": "python",
   "name": "python3"
  },
  "language_info": {
   "codemirror_mode": {
    "name": "ipython",
    "version": 3
   },
   "file_extension": ".py",
   "mimetype": "text/x-python",
   "name": "python",
   "nbconvert_exporter": "python",
   "pygments_lexer": "ipython3",
   "version": "3.11.8"
  }
 },
 "nbformat": 4,
 "nbformat_minor": 5
}
