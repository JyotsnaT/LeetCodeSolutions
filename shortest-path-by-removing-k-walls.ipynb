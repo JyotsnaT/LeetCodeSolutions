{
 "cells": [
  {
   "cell_type": "markdown",
   "id": "16b75129-10c1-492d-ae64-8c0d96f80693",
   "metadata": {},
   "source": [
    "# Shortest path by removing K walls"
   ]
  },
  {
   "cell_type": "raw",
   "id": "502a7797-c58e-4e55-862c-6ac737ea9dcb",
   "metadata": {},
   "source": [
    "Input: N = 3, M = 3, K = 1\n",
    "mat = {{0, 0, 0}, {0, 0, 1}, {0, 1, 0}}\n",
    "Output: 4\n"
   ]
  },
  {
   "cell_type": "code",
   "execution_count": 5,
   "id": "6b504a38-6b1e-4fda-99ac-4cef14b4f19b",
   "metadata": {},
   "outputs": [],
   "source": [
    "str2 = \",\".join(map(str, [0,0,0]))"
   ]
  },
  {
   "cell_type": "code",
   "execution_count": 6,
   "id": "977ff736-505a-4f5b-a5b0-3c9abbff797d",
   "metadata": {},
   "outputs": [
    {
     "data": {
      "text/plain": [
       "{'0,0,0': True}"
      ]
     },
     "execution_count": 6,
     "metadata": {},
     "output_type": "execute_result"
    }
   ],
   "source": [
    "{str2: True}"
   ]
  },
  {
   "cell_type": "code",
   "execution_count": 35,
   "id": "37ba3b12-7f9d-4b77-aef6-f5c35af68023",
   "metadata": {},
   "outputs": [],
   "source": [
    "from collections import deque\n",
    "\n",
    "def getKey(arr):\n",
    "    return \",\".join(map(str, arr))\n",
    "    \n",
    "def shortestPath(grid, k):\n",
    "    m = len(grid)\n",
    "    n = len(grid[0])\n",
    "    \n",
    "    visited = {}\n",
    "\n",
    "    startNode = getKey([0,0,k])\n",
    "    Q = deque() \n",
    "    Q.append([0, startNode])\n",
    "    visited[startNode] = True\n",
    "\n",
    "    while(len(Q) > 0):\n",
    "        # print(Q)\n",
    "        steps, currNode = Q.popleft()\n",
    "        # print(steps, currNode)\n",
    "        i,j,l = map(int, currNode.split(\",\"))\n",
    "        if i == m-1 and j == n-1:\n",
    "            return steps\n",
    "        for a,b in [(i+1,j), (i,j+1), (i-1,j), (i,j-1)]:\n",
    "            if (a >= 0 and a < m) and (b >= 0 and b < n):\n",
    "                c = l\n",
    "                if grid[a][b]:\n",
    "                    c = c-1\n",
    "                if c >= 0:\n",
    "                    moveKey = getKey([a,b,c])\n",
    "                    # print(i,j,moveKey)\n",
    "                    if moveKey not in visited or not visited[moveKey]:\n",
    "                        Q.append([steps+1, moveKey])\n",
    "                        visited[moveKey] = True\n",
    "    return -1\n",
    "        "
   ]
  },
  {
   "cell_type": "code",
   "execution_count": 32,
   "id": "e063d355-270e-44a5-abd5-36e94fd3832e",
   "metadata": {},
   "outputs": [
    {
     "name": "stdout",
     "output_type": "stream",
     "text": [
      "0 0,0,1\n",
      "1 1,0,1\n",
      "1 0,1,1\n",
      "2 2,0,1\n",
      "2 1,1,1\n",
      "2 0,2,1\n",
      "3 2,1,0\n",
      "3 1,2,0\n",
      "4 2,2,0\n"
     ]
    },
    {
     "data": {
      "text/plain": [
       "4"
      ]
     },
     "execution_count": 32,
     "metadata": {},
     "output_type": "execute_result"
    }
   ],
   "source": [
    "shortestPath([[0, 0, 0], [0, 0, 1], [0, 1, 0]], 1)"
   ]
  },
  {
   "cell_type": "code",
   "execution_count": 33,
   "id": "959c3d23-0a87-4213-8dac-3c41077515b3",
   "metadata": {},
   "outputs": [
    {
     "name": "stdout",
     "output_type": "stream",
     "text": [
      "0 0,0,1\n",
      "1 1,0,0\n",
      "1 0,1,1\n",
      "2 2,0,0\n",
      "2 0,0,0\n",
      "2 1,1,0\n",
      "2 0,2,1\n",
      "3 3,0,0\n",
      "3 2,1,0\n",
      "3 0,1,0\n",
      "3 1,2,0\n",
      "3 1,2,1\n",
      "4 4,0,0\n",
      "4 2,2,0\n",
      "4 0,2,0\n",
      "4 2,2,1\n",
      "5 4,1,0\n",
      "5 3,2,0\n",
      "5 2,1,1\n",
      "6 4,2,0\n"
     ]
    },
    {
     "data": {
      "text/plain": [
       "6"
      ]
     },
     "execution_count": 33,
     "metadata": {},
     "output_type": "execute_result"
    }
   ],
   "source": [
    "shortestPath(grid = [[0,0,0],[1,1,0],[0,0,0],[0,1,1],[0,0,0]], k = 1)\n"
   ]
  },
  {
   "cell_type": "code",
   "execution_count": 34,
   "id": "c858dae7-4e68-4f42-87b6-25cc22760d3c",
   "metadata": {},
   "outputs": [
    {
     "name": "stdout",
     "output_type": "stream",
     "text": [
      "0 0,0,1\n",
      "1 1,0,0\n",
      "1 0,1,0\n",
      "2 0,0,0\n"
     ]
    },
    {
     "data": {
      "text/plain": [
       "-1"
      ]
     },
     "execution_count": 34,
     "metadata": {},
     "output_type": "execute_result"
    }
   ],
   "source": [
    "shortestPath([[0,1,1],[1,1,1],[1,0,0]], k = 1)"
   ]
  },
  {
   "cell_type": "code",
   "execution_count": null,
   "id": "4a0f8204-b494-44fd-a8f8-41f5010203c7",
   "metadata": {},
   "outputs": [],
   "source": []
  }
 ],
 "metadata": {
  "kernelspec": {
   "display_name": "Python 3 (ipykernel)",
   "language": "python",
   "name": "python3"
  },
  "language_info": {
   "codemirror_mode": {
    "name": "ipython",
    "version": 3
   },
   "file_extension": ".py",
   "mimetype": "text/x-python",
   "name": "python",
   "nbconvert_exporter": "python",
   "pygments_lexer": "ipython3",
   "version": "3.11.5"
  }
 },
 "nbformat": 4,
 "nbformat_minor": 5
}
