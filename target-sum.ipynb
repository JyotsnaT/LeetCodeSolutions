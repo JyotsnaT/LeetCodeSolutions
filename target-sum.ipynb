{
 "cells": [
  {
   "cell_type": "markdown",
   "id": "62bb2d2a-af03-414c-8366-60bb4600922d",
   "metadata": {},
   "source": [
    "## Recursive solution"
   ]
  },
  {
   "cell_type": "code",
   "execution_count": 244,
   "id": "df013c96-3427-4bc9-95c6-720c811f0ead",
   "metadata": {},
   "outputs": [],
   "source": [
    "def numExp(seq, target):\n",
    "    if len(seq) == 0:\n",
    "        if target == 0:\n",
    "            return 1\n",
    "        else:\n",
    "            return 0\n",
    "    return numExp(seq[1:], target-seq[0]) + numExp(seq[1:], target+seq[0])"
   ]
  },
  {
   "cell_type": "markdown",
   "id": "f9d072ae-3d1e-4d14-b70a-088ac00aee44",
   "metadata": {},
   "source": [
    "## Recursion 2"
   ]
  },
  {
   "cell_type": "code",
   "execution_count": 245,
   "id": "3b55a4c8-8534-4812-b59b-073405c9ccce",
   "metadata": {},
   "outputs": [
    {
     "data": {
      "text/plain": [
       "1"
      ]
     },
     "execution_count": 245,
     "metadata": {},
     "output_type": "execute_result"
    }
   ],
   "source": [
    "def numExpRecursive(seq, i, target):\n",
    "    if i >= len(seq):\n",
    "        if target == 0:\n",
    "            return 1\n",
    "        else:\n",
    "            return 0\n",
    "    return numExpRecursive(seq, i+1, target-seq[i]) + numExpRecursive(seq, i+1, target+seq[i])\n",
    "\n",
    "def numExp(nums, target):\n",
    "    return numExpRecursive(nums, 0, target)\n",
    "\n",
    "numExp([2,1], 3)"
   ]
  },
  {
   "cell_type": "code",
   "execution_count": 243,
   "id": "dab99f18-3e86-4195-b5c2-e6aa3fea439f",
   "metadata": {},
   "outputs": [
    {
     "data": {
      "text/plain": [
       "5"
      ]
     },
     "execution_count": 243,
     "metadata": {},
     "output_type": "execute_result"
    }
   ],
   "source": [
    "numExp([1,1,1,1,1], 3)"
   ]
  },
  {
   "cell_type": "markdown",
   "id": "23bbd2f0-a3f4-40f0-906f-e22485015897",
   "metadata": {},
   "source": [
    "# Memoized Recursion"
   ]
  },
  {
   "cell_type": "code",
   "execution_count": 272,
   "id": "575c3414-6067-4f40-adba-b9e9af68e471",
   "metadata": {},
   "outputs": [
    {
     "name": "stdout",
     "output_type": "stream",
     "text": [
      "3\n"
     ]
    },
    {
     "data": {
      "text/plain": [
       "0"
      ]
     },
     "execution_count": 272,
     "metadata": {},
     "output_type": "execute_result"
    }
   ],
   "source": [
    "import sys\n",
    "def numExpRecursive(seq, i, target, memo, idxMap, min_size):\n",
    "    if i >= len(seq):\n",
    "        if target == 0:\n",
    "            return 1\n",
    "        else:\n",
    "            return 0\n",
    "    if memo[i][idxMap[target]] != min_size:\n",
    "        return memo[i][idxMap[target]]\n",
    "    memo[i][idxMap[target]] = numExpRecursive(seq, i+1, target-seq[i], memo, idxMap, min_size) + numExpRecursive(seq, i+1, target+seq[i], memo, idxMap, min_size)\n",
    "    return memo[i][idxMap[target]]\n",
    "\n",
    "def numExp(nums, target):\n",
    "    min_size = -sys.maxsize - 1\n",
    "    memo = [[min_size]*(2*sum(nums)+1) for i in range(len(nums))]\n",
    "    idxMap = {}\n",
    "    k = 0\n",
    "    for i in range(target-sum(nums), target+sum(nums)+1):\n",
    "        idxMap[i] = k\n",
    "        k+=1\n",
    "    print(len(idxMap))\n",
    "    # print(memo)\n",
    "    offset = sum(nums)\n",
    "    return numExpRecursive(nums, 0, target, memo, idxMap, min_size)\n",
    "\n",
    "numExp([1], 2)"
   ]
  },
  {
   "cell_type": "code",
   "execution_count": 274,
   "id": "c4c7ab2c-fd47-4f4d-8d24-c9ca25ec88cd",
   "metadata": {},
   "outputs": [
    {
     "name": "stdout",
     "output_type": "stream",
     "text": [
      "7\n"
     ]
    },
    {
     "data": {
      "text/plain": [
       "1"
      ]
     },
     "execution_count": 274,
     "metadata": {},
     "output_type": "execute_result"
    }
   ],
   "source": [
    "numExp([2,1], 3)"
   ]
  },
  {
   "cell_type": "code",
   "execution_count": 275,
   "id": "25706ec7-f8ea-4ffe-bbe5-2edd39871731",
   "metadata": {},
   "outputs": [
    {
     "name": "stdout",
     "output_type": "stream",
     "text": [
      "1197\n"
     ]
    },
    {
     "data": {
      "text/plain": [
       "5382"
      ]
     },
     "execution_count": 275,
     "metadata": {},
     "output_type": "execute_result"
    }
   ],
   "source": [
    "numExp([47,23,35,27,30,42,26,42,30,6,8,48,44,38,41,50,18,19,19,5], 40)"
   ]
  },
  {
   "cell_type": "code",
   "execution_count": 276,
   "id": "bd102be1-4d7f-44c2-97a0-76176a08b789",
   "metadata": {},
   "outputs": [
    {
     "name": "stdout",
     "output_type": "stream",
     "text": [
      "11\n"
     ]
    },
    {
     "data": {
      "text/plain": [
       "5"
      ]
     },
     "execution_count": 276,
     "metadata": {},
     "output_type": "execute_result"
    }
   ],
   "source": [
    "numExp([1,1,1,1,1], 3)"
   ]
  },
  {
   "cell_type": "code",
   "execution_count": 273,
   "id": "4fa3ed04-c1df-42c6-84d9-58f9c5ece85d",
   "metadata": {
    "scrolled": true
   },
   "outputs": [
    {
     "name": "stdout",
     "output_type": "stream",
     "text": [
      "3\n"
     ]
    },
    {
     "data": {
      "text/plain": [
       "2"
      ]
     },
     "execution_count": 273,
     "metadata": {},
     "output_type": "execute_result"
    }
   ],
   "source": [
    "numExp([1,0], 1)"
   ]
  },
  {
   "cell_type": "code",
   "execution_count": null,
   "id": "a8d63c95-8f6c-4196-9945-38d7da941848",
   "metadata": {},
   "outputs": [],
   "source": [
    "def numExpr(nums, i, target):\n",
    "    if i == n:\n",
    "        if target == 0:\n",
    "            return 1\n",
    "        else:\n",
    "            return 0\n",
    "    return numExpr(nums, i+1, target-nums[i]) + numExpr(nums, i+1, target+nums[i])"
   ]
  },
  {
   "cell_type": "markdown",
   "id": "30584ad5-273f-4a05-b979-eee6d5206f21",
   "metadata": {},
   "source": [
    "# DP solution"
   ]
  },
  {
   "cell_type": "code",
   "execution_count": 286,
   "id": "792a045f-4c12-4c48-a04d-9ed0e3644765",
   "metadata": {},
   "outputs": [
    {
     "name": "stdout",
     "output_type": "stream",
     "text": [
      "[[0, 0, 0, 0, 0, 0, 0], [0, 0, 0, 0, 0, 0, 0], [0, 0, 0, 0, 0, 0, 0]]\n",
      "{0: 0, 1: 1, 2: 2, 3: 3, 4: 4, 5: 5, 6: 6}\n",
      "1 2 4\n",
      "1 1 3\n",
      "1 0 2\n",
      "1 -1 1\n"
     ]
    },
    {
     "ename": "KeyError",
     "evalue": "-1",
     "output_type": "error",
     "traceback": [
      "\u001b[1;31m---------------------------------------------------------------------------\u001b[0m",
      "\u001b[1;31mKeyError\u001b[0m                                  Traceback (most recent call last)",
      "Cell \u001b[1;32mIn[286], line 23\u001b[0m\n\u001b[0;32m     20\u001b[0m             arr[i][idxMap[j]] \u001b[38;5;241m=\u001b[39m arr[i\u001b[38;5;241m+\u001b[39m\u001b[38;5;241m1\u001b[39m][idxMap[j\u001b[38;5;241m-\u001b[39mnums[i]]] \u001b[38;5;241m+\u001b[39m arr[i\u001b[38;5;241m+\u001b[39m\u001b[38;5;241m1\u001b[39m][idxMap[j\u001b[38;5;241m+\u001b[39mnums[i]]]\n\u001b[0;32m     21\u001b[0m     \u001b[38;5;28mprint\u001b[39m(arr[i])\n\u001b[1;32m---> 23\u001b[0m \u001b[43mnumExp\u001b[49m\u001b[43m(\u001b[49m\u001b[43m[\u001b[49m\u001b[38;5;241;43m2\u001b[39;49m\u001b[43m,\u001b[49m\u001b[38;5;241;43m1\u001b[39;49m\u001b[43m]\u001b[49m\u001b[43m,\u001b[49m\u001b[43m \u001b[49m\u001b[38;5;241;43m3\u001b[39;49m\u001b[43m)\u001b[49m\n",
      "Cell \u001b[1;32mIn[286], line 20\u001b[0m, in \u001b[0;36mnumExp\u001b[1;34m(nums, target)\u001b[0m\n\u001b[0;32m     18\u001b[0m     \u001b[38;5;28;01mfor\u001b[39;00m j \u001b[38;5;129;01min\u001b[39;00m \u001b[38;5;28mrange\u001b[39m(target, \u001b[38;5;241m-\u001b[39m\u001b[38;5;241m1\u001b[39m, \u001b[38;5;241m-\u001b[39m\u001b[38;5;241m1\u001b[39m):\n\u001b[0;32m     19\u001b[0m         \u001b[38;5;28mprint\u001b[39m(i, j\u001b[38;5;241m-\u001b[39mnums[i], j\u001b[38;5;241m+\u001b[39mnums[i])\n\u001b[1;32m---> 20\u001b[0m         arr[i][idxMap[j]] \u001b[38;5;241m=\u001b[39m arr[i\u001b[38;5;241m+\u001b[39m\u001b[38;5;241m1\u001b[39m][\u001b[43midxMap\u001b[49m\u001b[43m[\u001b[49m\u001b[43mj\u001b[49m\u001b[38;5;241;43m-\u001b[39;49m\u001b[43mnums\u001b[49m\u001b[43m[\u001b[49m\u001b[43mi\u001b[49m\u001b[43m]\u001b[49m\u001b[43m]\u001b[49m] \u001b[38;5;241m+\u001b[39m arr[i\u001b[38;5;241m+\u001b[39m\u001b[38;5;241m1\u001b[39m][idxMap[j\u001b[38;5;241m+\u001b[39mnums[i]]]\n\u001b[0;32m     21\u001b[0m \u001b[38;5;28mprint\u001b[39m(arr[i])\n",
      "\u001b[1;31mKeyError\u001b[0m: -1"
     ]
    }
   ],
   "source": [
    "import sys\n",
    "\n",
    "def numExp(nums, target):\n",
    "    sumN = sum(nums)\n",
    "    n = len(nums)\n",
    "    min_num = -sys.maxsize-1\n",
    "    arr = [[0]*(2*sumN+1) for i in range(n+1)]\n",
    "    print(arr)\n",
    "\n",
    "    idxMap = {}\n",
    "    k = 0\n",
    "    for i in range(target-sumN,target+sumN+1):\n",
    "        idxMap[i] = k\n",
    "        k += 1\n",
    "    print(idxMap)\n",
    "    arr[n][idxMap[0]] = 1\n",
    "    for i in range(n-1, -1, -1):\n",
    "        for j in range(target, -1, -1):\n",
    "            print(i, j-nums[i], j+nums[i])\n",
    "            arr[i][idxMap[j]] = arr[i+1][idxMap[j-nums[i]]] + arr[i+1][idxMap[j+nums[i]]]\n",
    "    print(arr[i])\n",
    "\n",
    "numExp([2,1], 3)"
   ]
  },
  {
   "cell_type": "code",
   "execution_count": null,
   "id": "3169ddef-8556-4b8b-b082-4bec1cdf0aeb",
   "metadata": {},
   "outputs": [],
   "source": []
  }
 ],
 "metadata": {
  "kernelspec": {
   "display_name": "Python 3 (ipykernel)",
   "language": "python",
   "name": "python3"
  },
  "language_info": {
   "codemirror_mode": {
    "name": "ipython",
    "version": 3
   },
   "file_extension": ".py",
   "mimetype": "text/x-python",
   "name": "python",
   "nbconvert_exporter": "python",
   "pygments_lexer": "ipython3",
   "version": "3.11.5"
  }
 },
 "nbformat": 4,
 "nbformat_minor": 5
}
