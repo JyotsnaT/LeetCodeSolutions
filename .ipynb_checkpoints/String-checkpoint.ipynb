{
 "cells": [
  {
   "cell_type": "code",
   "execution_count": null,
   "id": "a6879ff4-5471-43b7-949f-fa722ab9d74c",
   "metadata": {},
   "outputs": [],
   "source": []
  },
  {
   "cell_type": "code",
   "execution_count": null,
   "id": "66a31235-c602-473c-a060-0d4d06cea4a2",
   "metadata": {},
   "outputs": [],
   "source": []
  },
  {
   "cell_type": "code",
   "execution_count": null,
   "id": "0b0dad46-a9eb-4c5d-abe5-5764d74f080a",
   "metadata": {},
   "outputs": [],
   "source": []
  },
  {
   "cell_type": "raw",
   "id": "20a3125f-0da6-4230-b4e3-fd6c4c101878",
   "metadata": {},
   "source": [
    "Rotational Cipher\r",
    " One simple way to encrypt a string is to \"rotate\" every alphanumeric character by a certain amount. Rotating a character means replacing it with another character that is a certain number of steps away in normal alphabetic or numerical order.\r\n",
    "For example, if the string \"Zebra-493?\" is rotated 3 places, the resulting string is \"Cheud-726?\". Every alphabetic character is replaced with the character 3 letters higher (wrapping around from Z to A), and every numeric character replaced with the character 3 digits higher (wrapping around from 9 to 0). Note that the non-alphanumeric characters remain unchanged.\r\n",
    "Given a string and a rotation factor, return an encrypted string.\r\n",
    "Signature\r\n",
    "string rotationalCipher(string input, int rotationFactor)\r\n",
    "Input\r\n",
    "1 <= |input| <= 1,000,000\r\n",
    "0 <= rotationFacto'''r <= 1,\n",
    "000,000\r\n",
    "Output\r\n",
    "Return the result of rotating input a number of times equal to rotati\n",
    "onFactor.\r\n",
    "Example 1\r\n",
    "input = Zebra-493?\r\n",
    "rotationFactor = 3\r\n",
    "output\n",
    " = Cheud-726?\r\n",
    "Example 2\r\n",
    "input = abcdefghijklmNOPQRSTUVWXYZ0123456789\r\n",
    "rotationFactor = 39\r\n",
    "output = nopqrstuvwxyzABCDEFGHIJKLM9012345678"
   ]
  },
  {
   "cell_type": "code",
   "execution_count": null,
   "id": "2c18c1ba-3634-44f8-ae53-d2f1248b3e33",
   "metadata": {},
   "outputs": [],
   "source": [
    "import math\n",
    "# Add any extra import statements you may need here\n",
    "\n",
    "\n",
    "# Add any helper functions you may need here\n",
    "\n",
    "def check_and_rotate(char, min_val, max_val, rotation_factor):\n",
    "  if char >= min_val and char <= max_val:\n",
    "    rel_pos = char - min_val\n",
    "    range = max_val - min_val + 1\n",
    "\n",
    "    rot_rel_pos = rel_pos + rotation_factor\n",
    "    if rot_rel_pos < 0:\n",
    "      rot_rel_pos += range-1\n",
    "    elif rot_rel_pos >= range:\n",
    "      rot_rel_pos = rot_rel_pos % range\n",
    "    rot_char = rot_rel_pos + min_val\n",
    "  else:\n",
    "    return char\n",
    "  return rot_char\n",
    "\n",
    "def rotationalCipher(input_str, rotation_factor):\n",
    "  # Write your code here\n",
    "  new_str = \"\"\n",
    "  for char in input_str:\n",
    "    char_num = ord(char)\n",
    "    rot_char = check_and_rotate(char_num, ord('0'), ord('9'), rotation_factor)\n",
    "    rot_char = check_and_rotate(rot_char, ord('A'), ord('Z'), rotation_factor)\n",
    "    rot_char = check_and_rotate(rot_char, ord('a'), ord('z'), rotation_factor)\n",
    "    new_str += chr(rot_char)\n",
    "\n",
    "  return new_str\n",
    "\n",
    "# test case\n",
    "# input_str = \"abc\", rota = 2\n",
    "# new_str = \"cde\"\n",
    "#a -> char_num = 97\n",
    "    # rot_char = 99\n",
    "#b -> char_num = 98\n",
    " #    rot_char = 100\n",
    "#c -> char_num = 99\n",
    " #    rot_char = 101\n",
    "\n",
    "# These are the tests we use to determine if the solution is correct.\n",
    "# You can add your own at the bottom.\n",
    "\n",
    "def printString(string):\n",
    "  print('[\\\"', string, '\\\"]', sep='', end='')\n",
    "\n",
    "test_case_number = 1\n",
    "\n",
    "def check(expected, output):\n",
    "  global test_case_number\n",
    "  result = False\n",
    "  if expected == output:\n",
    "    result = True\n",
    "  rightTick = '\\u2713'\n",
    "  wrongTick = '\\u2717'\n",
    "  if result:\n",
    "    print(rightTick, 'Test #', test_case_number, sep='')\n",
    "  else:\n",
    "    print(wrongTick, 'Test #', test_case_number, ': Expected ', sep='', end='')\n",
    "    printString(expected)\n",
    "    print(' Your output: ', end='')\n",
    "    printString(output)\n",
    "    print()\n",
    "  test_case_number += 1\n",
    "\n",
    "if __name__ == \"__main__\":\n",
    "  input_1 = \"All-convoYs-9-be:Alert1.\"\n",
    "  rotation_factor_1 = 4\n",
    "  expected_1 = \"Epp-gsrzsCw-3-fi:Epivx5.\"\n",
    "  output_1 = rotationalCipher(input_1, rotation_factor_1)\n",
    "  check(expected_1, output_1)\n",
    "\n",
    "  input_2 = \"abcdZXYzxy-999.@\"\n",
    "  rotation_factor_2 = 200\n",
    "  expected_2 = \"stuvRPQrpq-999.@\"\n",
    "  output_2 = rotationalCipher(input_2, rotation_factor_2)\n",
    "  check(expected_2, output_2)\n",
    "\n",
    "  # Add your own test cases here\n",
    "  "
   ]
  },
  {
   "cell_type": "markdown",
   "id": "59f9ceb8-c2df-48b4-8b4e-d1ecd655fafd",
   "metadata": {},
   "source": [
    "Common mistakes - \n",
    "\n",
    "1. Did not account for different range of sets while calculating the modulo\n",
    "2. Did not carefully run the test case on the complicated cases\n",
    "3. Did not convert the input to first ascii character then final output to the char string."
   ]
  },
  {
   "cell_type": "raw",
   "id": "49295d97-3c75-45f1-b43a-da11d39c09e5",
   "metadata": {},
   "source": [
    "Matching Pairs\n",
    "Given two strings s and t of length N, find the maximum number of possible matching pairs in strings s and t after swapping exactly two characters within s.\n",
    "A swap is switching s[i] and s[j], where s[i] and s[j] denotes the character that is present at the ith and jth index of s, respectively. The matching pairs of the two strings are defined as the number of indices for which s[i] and t[i] are equal.\n",
    "Note: This means you must swap two characters at different indices.\n",
    "Signature\n",
    "int matchingPairs(String s, String t)\n",
    "Input\n",
    "s and t are strings of length N\n",
    "N is between 2 and 1,000,000\n",
    "Output\n",
    "Return an integer denoting the maximum number of matching pairs\n",
    "Example 1\n",
    "s = \"abcd\"\n",
    "t = \"adcb\"\n",
    "output = 4\n",
    "Explanation:\n",
    "Using 0-based indexing, and with i = 1 and j = 3, s[1] and s[3] can be swapped, making it  \"adcb\".\n",
    "Therefore, the number of matching pairs of s and t will be 4.\n",
    "Example 2\n",
    "s = \"mno\"\n",
    "t = \"mno\"\n",
    "output = 1\n",
    "Explanation:\n",
    "Two indices have to be swapped, regardless of which two it is, only one letter will remain the same. If i = 0 and j=1, s[0] and s[1] are swapped, making s = \"nmo\", which shares only \"o\" with t."
   ]
  },
  {
   "cell_type": "code",
   "execution_count": 1,
   "id": "ef30977d-9138-4eeb-9d3d-004d36b7e3f6",
   "metadata": {},
   "outputs": [
    {
     "data": {
      "text/plain": [
       "'s = abcd\\nt = adcb\\n\\nn = 4\\ns_sub = bd\\nt_sub = db\\n\\nmatching_pairs_count = 4\\n\\ni = 3\\n\\nmax_count = 2\\n\\nm = 2\\n\\ni = 1\\nidx = 0'"
      ]
     },
     "execution_count": 1,
     "metadata": {},
     "output_type": "execute_result"
    }
   ],
   "source": [
    "def matching_pairs(s, t):\n",
    "  # Write your code here\n",
    "  n = len(s)\n",
    "  matching_pairs_count = 0\n",
    "  for i in range(n):\n",
    "    if s[i] == t[i]:\n",
    "      matching_pairs_count += 1\n",
    "  \n",
    "  max_pair_count = 0\n",
    "  \n",
    "  for i in range(n):\n",
    "    for j in range(i+1, n):\n",
    "      pair_matches = 0\n",
    "      if s[i] == t[i]:\n",
    "        pair_matches += 1\n",
    "      if s[j] == t[j]:\n",
    "        pair_matches += 1\n",
    "      remaining_matches = matching_pairs_count - pair_matches\n",
    "      \n",
    "      pair_matches_swapped = 0\n",
    "      if s[i] == t[j]:\n",
    "        pair_matches_swapped += 1\n",
    "      if s[j] == t[i]:\n",
    "        pair_matches_swapped += 1\n",
    "      \n",
    "      max_pair_count = max(max_pair_count, remaining_matches + pair_matches_swapped)\n",
    "  \n",
    "  return max_pair_count\n",
    "      \n",
    "# Dry run test cases\n",
    "'''s = abcd\n",
    "t = adcb\n",
    "\n",
    "n = 4\n",
    "s_sub = bd\n",
    "t_sub = db\n",
    "\n",
    "matching_pairs_count = 4\n",
    "\n",
    "i = 3\n",
    "\n",
    "max_count = 2\n",
    "\n",
    "m = 2\n",
    "\n",
    "i = 1\n",
    "idx = 0'''\n"
   ]
  },
  {
   "cell_type": "markdown",
   "id": "ae410b30-db7e-492e-b06a-136cc6e90922",
   "metadata": {},
   "source": [
    "Top mistake - \n",
    "Did not think of boundary cases.\n",
    "Proposed wrong solution without incorporating the existing details."
   ]
  },
  {
   "cell_type": "markdown",
   "id": "bdb7a355-4a27-43ab-93ea-43016ba3fc1a",
   "metadata": {},
   "source": [
    "# Valid Number\n",
    "\n",
    "1. A decimal\n",
    "   1. optional sign\n",
    "   2. exactly one dot present. Before dot only integer can come\n",
    "   3. After dot only unsigned integer and e can come \n",
    "3. An integer\n",
    "   1. optional sign\n",
    "   2. Atleast one digits\n",
    "   3. No decimal\n",
    "5. Exponential\n",
    "   1. one e is present.\n",
    "   2. e is present after the decimal\n",
    "  \n",
    "Rules\n",
    "1. Sign has to be the first item if present. If sign is not first item, the number string is invalid. Or the sign can be preesnt immediately after the e.\n",
    "2. Dot has to be followed by digits.\n",
    "3. e is present only after the dot. IF e is encountered then dot should have already encountered.\n",
    "4. there has to be atleast one digit present."
   ]
  },
  {
   "cell_type": "code",
   "execution_count": 15,
   "id": "4a2f10c4-dbf3-4966-8f13-04fd7d7b54e1",
   "metadata": {},
   "outputs": [
    {
     "data": {
      "text/plain": [
       "'\\nTest cases\\n1. \"-10\"\\n    foundDigit = True\\n    foundDot = False\\n    foundE = False\\n\\n    i   0     1    2 \\n        -    1     0\\n    True\\n\\n2. \"-2.5E-20\"\\n    foundDigit = True\\n    foundDot = False\\n    foundE = True\\n\\n    i   0  1   2   3  4   5  6  7\\n        -  2   .   5  E  -   2  0\\n\\nTrue\\n\\n3. \"3.e\"\\n\\n    foundDigit = False\\n    foundDot = False\\n    foundE = True\\n\\n    i  0   1    2\\n        3   .   e\\n\\nFalse\\n\\n4. \"-1.\"\\n\\n    foundDigit = True\\n    foundDot = False\\n    foundE = False\\n\\n    i   0    1   2\\n        -    1   .\\nTrue\\n\\n'"
      ]
     },
     "execution_count": 15,
     "metadata": {},
     "output_type": "execute_result"
    }
   ],
   "source": [
    "def is_valid(str):\n",
    "    foundDigit = False\n",
    "    foundDot = False\n",
    "    foundE = False\n",
    "    for i in range(len(str)):\n",
    "        char = str[i]\n",
    "        print(char)\n",
    "        print(foundDigit, foundDot, foundE)\n",
    "        if char.isdigit():\n",
    "            foundDigit = True\n",
    "        elif char in ['+', '-']:\n",
    "            print(\"we detected the sign\")\n",
    "            if i > 0 and str[i-1] not in ['e', 'E']:\n",
    "                return False\n",
    "        elif char == '.':\n",
    "            if foundDot or foundE:\n",
    "                print(\"Tihs is true\")\n",
    "                return False\n",
    "            foundDot = True\n",
    "        elif char in ['e', 'E']:\n",
    "            if foundE or not foundDigit:\n",
    "                return False\n",
    "            foundE = True\n",
    "            foundDigit = False     \n",
    "        else:\n",
    "            return False\n",
    "\n",
    "    return foundDigit\n",
    "\n",
    "\n",
    "'''\n",
    "Test cases\n",
    "1. \"-10\"\n",
    "    foundDigit = True\n",
    "    foundDot = False\n",
    "    foundE = False\n",
    "\n",
    "    i   0     1    2 \n",
    "        -    1     0\n",
    "    True\n",
    "\n",
    "2. \"-2.5E-20\"\n",
    "    foundDigit = True\n",
    "    foundDot = False\n",
    "    foundE = True\n",
    "\n",
    "    i   0  1   2   3  4   5  6  7\n",
    "        -  2   .   5  E  -   2  0\n",
    "\n",
    "True\n",
    "\n",
    "3. \"3.e\"\n",
    "\n",
    "    foundDigit = False\n",
    "    foundDot = False\n",
    "    foundE = True\n",
    "\n",
    "    i  0   1    2\n",
    "        3   .   e\n",
    "\n",
    "False\n",
    "\n",
    "4. \"-1.\"\n",
    "\n",
    "    foundDigit = True\n",
    "    foundDot = False\n",
    "    foundE = False\n",
    "\n",
    "    i   0    1   2\n",
    "        -    1   .\n",
    "True\n",
    "\n",
    "'''\n",
    "        "
   ]
  },
  {
   "cell_type": "code",
   "execution_count": 11,
   "id": "c7d8fd9e-9a88-4c38-97d0-0ae26c17e02b",
   "metadata": {},
   "outputs": [
    {
     "name": "stdout",
     "output_type": "stream",
     "text": [
      "False False False\n"
     ]
    },
    {
     "data": {
      "text/plain": [
       "True"
      ]
     },
     "execution_count": 11,
     "metadata": {},
     "output_type": "execute_result"
    }
   ],
   "source": [
    "is_valid(\"0\")"
   ]
  },
  {
   "cell_type": "code",
   "execution_count": 6,
   "id": "cb27c416-e563-40dc-94de-3a37da2d1eaa",
   "metadata": {},
   "outputs": [
    {
     "data": {
      "text/plain": [
       "False"
      ]
     },
     "execution_count": 6,
     "metadata": {},
     "output_type": "execute_result"
    }
   ],
   "source": [
    "is_valid(\"95a54e53\")"
   ]
  },
  {
   "cell_type": "code",
   "execution_count": 16,
   "id": "8dafc136-8e66-4bea-98c3-8e7ecb4a6062",
   "metadata": {},
   "outputs": [
    {
     "name": "stdout",
     "output_type": "stream",
     "text": [
      "-\n",
      "False False False\n",
      "we detected the sign\n",
      "1\n",
      "False False False\n",
      ".\n",
      "True False False\n"
     ]
    },
    {
     "data": {
      "text/plain": [
       "True"
      ]
     },
     "execution_count": 16,
     "metadata": {},
     "output_type": "execute_result"
    }
   ],
   "source": [
    "is_valid(\"-1.\")"
   ]
  },
  {
   "cell_type": "markdown",
   "id": "a14fb02d-5b70-45c5-bd61-38a115950f5f",
   "metadata": {
    "jp-MarkdownHeadingCollapsed": true
   },
   "source": [
    "# Regular expressions matching"
   ]
  },
  {
   "cell_type": "code",
   "execution_count": 34,
   "id": "5782c5ff-0cd9-4bd2-9817-622e67b1a879",
   "metadata": {},
   "outputs": [
    {
     "name": "stdout",
     "output_type": "stream",
     "text": [
      "True\n"
     ]
    }
   ],
   "source": [
    "# The solution without the kleen star\n",
    "\n",
    "def isMatch(s, p):\n",
    "    if not p:\n",
    "        return not s\n",
    "    if not s:\n",
    "        return False\n",
    "    if (p[0] in ['.', s[0]]):\n",
    "        return match(s[1:], p[1:])\n",
    "    else:\n",
    "        return False\n",
    "            \n",
    "print(match(\"aza\", \"a..\"))\n",
    "# print(match(\"aa\", \"a*\"))\n",
    "\n",
    "        "
   ]
  },
  {
   "cell_type": "raw",
   "id": "a5ddf4db-be75-4e98-bf2a-077956a7ba5a",
   "metadata": {},
   "source": [
    "The above is a recursive solution to perform matching. First we will try to simplify the problem by solving only for the case when there is not kleen star because it made the problem very complicated. In this solution we will start from the first letters, match them, then recursively call the match function on the strings.\n",
    "The cases we have to handle is\n",
    " - the length of pattern and text are not equal\n",
    "    - if text is shorter then text will become null earlier. In that case we want to return a false.\n",
    "    - if pattern is shorter then also we return false\n",
    "  - if both of then get empty at the same time then we neeed to return a true\n",
    " - when the pattern is . then we need to return true if the text is non empty"
   ]
  },
  {
   "cell_type": "raw",
   "id": "6e794187-ce05-431d-92d5-7ef077e53025",
   "metadata": {},
   "source": [
    "We will expand the above solution for the case when the kleen star is also present.\n",
    "- When the text is shorter than the pattern, then we need return are true if the pattern is '*' otherwise false\n",
    "- When we encounter a '*' then there are 2 possibilities\n",
    "    - the text matches to one char prev in the pattern\n",
    "        In this case we will recursively match the remaining string with current pattern only eliminating the current letter because it already got processed.\n",
    "    - the text does not match to one char prev\n",
    "        In this case we can skip checking to the next char in pattern because '*' means even 0 is allowed."
   ]
  },
  {
   "cell_type": "code",
   "execution_count": 47,
   "id": "1f61fa90-d2be-486b-850b-642df9a4318d",
   "metadata": {},
   "outputs": [
    {
     "data": {
      "text/plain": [
       "'\\n1. \"aa\", \"a*\"\\n\\n       s           p        curr_match\\n       aa          a*          True\\n       \\n'"
      ]
     },
     "execution_count": 47,
     "metadata": {},
     "output_type": "execute_result"
    }
   ],
   "source": [
    "# The solution with the kleen star\n",
    "\n",
    "def isMatch(s, p):\n",
    "    if not p:\n",
    "        return not s\n",
    "    if not s:\n",
    "        return False\n",
    "\n",
    "    curr_match = p[0] in [s[0], '.']\n",
    "    \n",
    "    if len(p)>1 and p[1] == '*':\n",
    "        return (match(s, p[2:]) or (curr_match and match(s[1:], p)))\n",
    "    else:\n",
    "        return (curr_match and match(s[1:], p[1:]))\n",
    "\n",
    "'''\n",
    "1. \"aa\", \"a*\"\n",
    "\n",
    "       s           p        curr_match    \n",
    "       aa          a*          True        False\n",
    "\n",
    "       aa          \n",
    "\n",
    "True   a           a*           True       False\n",
    "       a                \n",
    "True               a*       \n",
    "       \n",
    "'''"
   ]
  },
  {
   "cell_type": "code",
   "execution_count": 48,
   "id": "17ba7d98-2ec8-4555-8fbd-a70721f85b58",
   "metadata": {},
   "outputs": [
    {
     "data": {
      "text/plain": [
       "False"
      ]
     },
     "execution_count": 48,
     "metadata": {},
     "output_type": "execute_result"
    }
   ],
   "source": [
    "match(\"aa\", \"a*\")"
   ]
  },
  {
   "cell_type": "code",
   "execution_count": 23,
   "id": "5738037e-495c-465e-b36b-01e7856b3702",
   "metadata": {},
   "outputs": [
    {
     "data": {
      "text/plain": [
       "True"
      ]
     },
     "execution_count": 23,
     "metadata": {},
     "output_type": "execute_result"
    }
   ],
   "source": []
  },
  {
   "cell_type": "code",
   "execution_count": null,
   "id": "ef095ae1-0872-4532-a3cd-093005e42ac7",
   "metadata": {},
   "outputs": [],
   "source": [
    "aa\n",
    "b*"
   ]
  },
  {
   "cell_type": "code",
   "execution_count": null,
   "id": "3be4bf1b-4854-4fb9-89b6-6644ef189b0e",
   "metadata": {},
   "outputs": [],
   "source": []
  },
  {
   "cell_type": "code",
   "execution_count": null,
   "id": "5ac7dc5a-70cf-4b05-8275-7d88c7917b03",
   "metadata": {},
   "outputs": [],
   "source": []
  },
  {
   "cell_type": "code",
   "execution_count": null,
   "id": "fa2a98d8-e2b1-4b20-b6e9-6baf05626a4f",
   "metadata": {},
   "outputs": [],
   "source": []
  },
  {
   "cell_type": "markdown",
   "id": "b48bb792-ffde-4f22-8f13-0d78550bbe29",
   "metadata": {
    "jp-MarkdownHeadingCollapsed": true
   },
   "source": [
    "# Stickers to spell word"
   ]
  },
  {
   "cell_type": "raw",
   "id": "d240a0e0-f4cb-4255-93df-5f8607161d68",
   "metadata": {},
   "source": [
    "target = \"monster\"\n",
    "\n",
    "sticker_words = \"There\", \"is\", \"moon\", \"to\", \"the\", \"sun.\"\n",
    "\n",
    "3, 1, 3, 2, 1, 2\n",
    "\n",
    "target_n = \"mons\"\n",
    "0, 1, 3, 1, 0, 2\n",
    "\n",
    "target_n = \"s\"\n",
    "0, 0, 0, 0, 0, 1\n",
    "\n",
    "target_n = \"\"\n",
    "\n",
    " - t * s * t"
   ]
  },
  {
   "cell_type": "code",
   "execution_count": 58,
   "id": "0b701f4f-10db-428f-a3e1-8daa82ae8391",
   "metadata": {
    "scrolled": true
   },
   "outputs": [
    {
     "data": {
      "text/plain": [
       "'\\n1. duplicates in sticker letters\\n\\n\\n# Test cases\\n\\ntarget = \"arc\" stickers = [\"bark\", \"cat\"]\\n\\nsticker_letter_dict                         target_n         min_count_stickers            max_overlap_word\\nbark = [b -> 1, a -> 1,  r -> 1, k -> 1]    arc                    0                            cat\\ncat = [c -> 1, a -> 1, t -> 1]\\n                                            r                      1                             bark\\n                                            \"\"                     2\\n\\nstickers = [\"notice\",\"possible\"]\\ntarget = \"basicbasic\"\\n'"
      ]
     },
     "execution_count": 58,
     "metadata": {},
     "output_type": "execute_result"
    }
   ],
   "source": [
    "import copy\n",
    "\n",
    "def getLetterIdx(x):\n",
    "    return ord(x) - ord('a')\n",
    "\n",
    "def getStickerDict(stickers):\n",
    "    sticker_letter_dict = {}\n",
    "\n",
    "    for sticker in stickers:\n",
    "        count_array = [0]*26\n",
    "        for letter in sticker:\n",
    "            letter_idx = getLetterIdx(letter)\n",
    "            count_array[letter_idx] += 1\n",
    "        sticker_letter_dict[sticker] = count_array\n",
    "    return sticker_letter_dict\n",
    "\n",
    "def getOverlap(target, sticker_letter_dictionary):\n",
    "    overlap_num = 0\n",
    "    for letter in target:\n",
    "        letter_idx = getLetterIdx(letter)\n",
    "        if sticker_letter_dictionary[letter_idx] > 0:\n",
    "            overlap_num += 1\n",
    "            sticker_letter_dictionary[letter_idx] -= 1\n",
    "    return overlap_num\n",
    "\n",
    "def removeOverlap(target, sticker_letter_dictionary):\n",
    "    target_reduced = \"\"\n",
    "    for letter in target:\n",
    "        letter_idx = getLetterIdx(letter)\n",
    "        if sticker_letter_dictionary[letter_idx] == 0:\n",
    "            target_reduced += letter\n",
    "        else:\n",
    "            sticker_letter_dictionary[letter_idx] -= 1\n",
    "    return target_reduced\n",
    "\n",
    "\n",
    "def minStickers(stickers, target):\n",
    "    # index all sticker letters\n",
    "    sticker_letter_dict = getStickerDict(stickers)\n",
    "\n",
    "    target_n = copy.deepcopy(target)\n",
    "    min_count_stickers = 0\n",
    "    while(target_n):\n",
    "        # get overlap with each word and get the word with max overlap\n",
    "        max_overlap = 0\n",
    "        max_overlap_word = \"\"\n",
    "\n",
    "        for sticker in stickers:\n",
    "            overlap = getOverlap(target_n, copy.deepcopy(sticker_letter_dict[sticker]))\n",
    "            if overlap > max_overlap:\n",
    "                max_overlap = overlap\n",
    "                max_overlap_word = sticker\n",
    "                \n",
    "        # Exit the loop if there is no overlapping word\n",
    "        if max_overlap_word == \"\":\n",
    "            return -1\n",
    "\n",
    "        # Remove overlapping words from the target\n",
    "        target_n = removeOverlap(target_n, copy.deepcopy(sticker_letter_dict[max_overlap_word]))\n",
    "        min_count_stickers += 1\n",
    "\n",
    "    return min_count_stickers\n",
    "'''\n",
    "1. duplicates in sticker letters\n",
    "\n",
    "\n",
    "# Test cases\n",
    "\n",
    "target = \"arc\" stickers = [\"bark\", \"cat\"]\n",
    "\n",
    "sticker_letter_dict                         target_n         min_count_stickers            max_overlap_word\n",
    "bark = [b -> 1, a -> 1,  r -> 1, k -> 1]    arc                    0                            cat\n",
    "cat = [c -> 1, a -> 1, t -> 1]\n",
    "                                            r                      1                             bark\n",
    "                                            \"\"                     2\n",
    "\n",
    "stickers = [\"notice\",\"possible\"]\n",
    "target = \"basicbasic\"\n",
    "'''"
   ]
  },
  {
   "cell_type": "code",
   "execution_count": 60,
   "id": "39c38bef-d474-48e5-91fc-4e6e0cb5161d",
   "metadata": {},
   "outputs": [
    {
     "data": {
      "text/plain": [
       "3"
      ]
     },
     "execution_count": 60,
     "metadata": {},
     "output_type": "execute_result"
    }
   ],
   "source": [
    "stickers = [\"with\",\"example\",\"science\"]\n",
    "target = \"thehat\"\n",
    "\n",
    "minStickers(stickers, target)"
   ]
  },
  {
   "cell_type": "code",
   "execution_count": 59,
   "id": "dc83bc98-1712-4b2a-b48b-9ae836153965",
   "metadata": {},
   "outputs": [
    {
     "data": {
      "text/plain": [
       "-1"
      ]
     },
     "execution_count": 59,
     "metadata": {},
     "output_type": "execute_result"
    }
   ],
   "source": [
    "stickers = [\"notice\",\"possible\"]\n",
    "target = \"basicbasic\"\n",
    "\n",
    "minStickers(stickers, target)"
   ]
  },
  {
   "cell_type": "code",
   "execution_count": 61,
   "id": "295e865e-52d9-4de4-a1a8-fb357854b5b5",
   "metadata": {},
   "outputs": [
    {
     "data": {
      "text/plain": [
       "4"
      ]
     },
     "execution_count": 61,
     "metadata": {},
     "output_type": "execute_result"
    }
   ],
   "source": [
    "stickers = [\"these\",\"guess\",\"about\",\"garden\",\"him\"]\n",
    "target = \"atomher\"\n",
    "\n",
    "minStickers(stickers, target)"
   ]
  },
  {
   "cell_type": "raw",
   "id": "8b288cb3-c735-42f1-a8a1-9c2d1ce5e174",
   "metadata": {},
   "source": [
    "The above is a greedy solution and does not provide an optimal solution. I could not see it before while coding it. It seems to be using dynamic programming for solution."
   ]
  },
  {
   "cell_type": "markdown",
   "id": "20d15698-19af-41a6-98c2-75152b9b2d9c",
   "metadata": {
    "jp-MarkdownHeadingCollapsed": true
   },
   "source": [
    "# 408. Valid Word Abbreviation"
   ]
  },
  {
   "cell_type": "code",
   "execution_count": null,
   "id": "72c9c5e9-f10f-4dd3-b591-7d7cc18f1032",
   "metadata": {},
   "outputs": [],
   "source": []
  },
  {
   "cell_type": "raw",
   "id": "046773b3-0f81-4405-b912-e261646cd13c",
   "metadata": {},
   "source": [
    "\"apple\", \n",
    "\"a2le\" = 1 + 2 + 1 + 1 = 5"
   ]
  },
  {
   "cell_type": "code",
   "execution_count": 80,
   "id": "cc97d189-fbd9-48d2-822d-79015dbf28a6",
   "metadata": {},
   "outputs": [
    {
     "data": {
      "text/plain": [
       "'\\napple a2le\\n\\ni    numStart  numEnd    len_count    found_num   curr_num\\n3       -1       -1         5           False        1\\n\\n\\n'"
      ]
     },
     "execution_count": 80,
     "metadata": {},
     "output_type": "execute_result"
    }
   ],
   "source": [
    "def validWordAbbreviation(word, abbr):\n",
    "    i = 0\n",
    "    numStart = -1\n",
    "    numEnd =-1\n",
    "    len_count = 0\n",
    "    found_num = False\n",
    "    while(i < len(abbr)):\n",
    "        if abbr[i] >= '0' and abbr[i] <= '9':\n",
    "            if not found_num:\n",
    "                found_num = True\n",
    "                numStart = i\n",
    "        else:\n",
    "            if found_num:\n",
    "                found_num = False\n",
    "                numEnd = i\n",
    "                sub_string = abbr[numStart:numEnd]\n",
    "                if sub_string[0] == \"0\":\n",
    "                    return False\n",
    "                curr_num = int(sub_string) + 1\n",
    "                numStart = -1\n",
    "                numEnd = -1\n",
    "            else:\n",
    "                curr_num = 1\n",
    "            len_count += curr_num\n",
    "        i += 1\n",
    "\n",
    "    if found_num:\n",
    "        found_num = False\n",
    "        numEnd = i\n",
    "        sub_string = abbr[numStart:numEnd]\n",
    "        if sub_string[0] == \"0\":\n",
    "            return False\n",
    "        curr_num = int(sub_string)\n",
    "        len_count += curr_num\n",
    "\n",
    "    print(len(word), len_count)\n",
    "    return len_count == len(word)\n",
    "\n",
    "\n",
    "'''\n",
    "apple a2le\n",
    "\n",
    "i    numStart  numEnd    len_count    found_num   curr_num\n",
    "3       -1       -1         5           False        1\n",
    "\n",
    "\n",
    "'''\n",
    "    \n",
    "\n"
   ]
  },
  {
   "cell_type": "code",
   "execution_count": 75,
   "id": "b3cdc243-7c20-450a-a76d-65bec77c8c2a",
   "metadata": {},
   "outputs": [
    {
     "name": "stdout",
     "output_type": "stream",
     "text": [
      "2\n"
     ]
    },
    {
     "data": {
      "text/plain": [
       "True"
      ]
     },
     "execution_count": 75,
     "metadata": {},
     "output_type": "execute_result"
    }
   ],
   "source": [
    "validWordAbbreviation(\"apple\", \"a2le\")"
   ]
  },
  {
   "cell_type": "code",
   "execution_count": 76,
   "id": "f3f6f347-086c-4271-bec1-6e512d9141ca",
   "metadata": {},
   "outputs": [
    {
     "name": "stdout",
     "output_type": "stream",
     "text": [
      "01\n"
     ]
    },
    {
     "data": {
      "text/plain": [
       "False"
      ]
     },
     "execution_count": 76,
     "metadata": {},
     "output_type": "execute_result"
    }
   ],
   "source": [
    "validWordAbbreviation(\"a\", \"01\")"
   ]
  },
  {
   "cell_type": "code",
   "execution_count": 81,
   "id": "dedc925d-4976-4025-a159-df451c85ec5a",
   "metadata": {},
   "outputs": [
    {
     "name": "stdout",
     "output_type": "stream",
     "text": [
      "20 20\n"
     ]
    },
    {
     "data": {
      "text/plain": [
       "True"
      ]
     },
     "execution_count": 81,
     "metadata": {},
     "output_type": "execute_result"
    }
   ],
   "source": [
    "validWordAbbreviation(\"internationalization\", \"i5a11o1\")"
   ]
  },
  {
   "cell_type": "raw",
   "id": "b39721ac-8224-47c1-aa20-6ed5aa1634d9",
   "metadata": {},
   "source": [
    "In the above solution I assumed that the characters other than numbers will be matching. A big falw on my end. It is an easy problem and I flunked it!!! I should be able to increase the count only when the characters match.\n",
    "Rethink the solution."
   ]
  },
  {
   "cell_type": "code",
   "execution_count": 106,
   "id": "1612403b-5fca-4a52-8564-cae7b9548c82",
   "metadata": {},
   "outputs": [],
   "source": [
    "# - the number detected should not have zero at the beginning\n",
    "# - each character in the abbreviation should have a representation.\n",
    "\n",
    "def validWordAbbreviation(word, abbr):\n",
    "   i = 0\n",
    "        j = 0\n",
    "\n",
    "        while(i < len(word) and j < len(abbr)):\n",
    "            if abbr[j].isalpha():\n",
    "                if word[i] != abbr[j]:\n",
    "                    return False\n",
    "                i += 1\n",
    "                j += 1\n",
    "            else:\n",
    "                if abbr[j] == \"0\":\n",
    "                    return False\n",
    "                num_start = j\n",
    "                while j < len(abbr) and abbr[j].isdigit():\n",
    "                    j += 1\n",
    "                num_end = j\n",
    "                number = int(abbr[num_start:num_end])\n",
    "                i += number\n",
    "            \n",
    "        return i == len(word) and j == len(abbr)\n",
    "            "
   ]
  },
  {
   "cell_type": "code",
   "execution_count": 105,
   "id": "2ee63e5c-ed15-4222-9d1e-dd7fd0e264bf",
   "metadata": {},
   "outputs": [
    {
     "name": "stdout",
     "output_type": "stream",
     "text": [
      "5\n",
      "11\n",
      "1\n"
     ]
    },
    {
     "data": {
      "text/plain": [
       "False"
      ]
     },
     "execution_count": 105,
     "metadata": {},
     "output_type": "execute_result"
    }
   ],
   "source": [
    "validWordAbbreviation(\"internationalization\", \"i5a11o1\")"
   ]
  },
  {
   "cell_type": "code",
   "execution_count": 107,
   "id": "50754027-531b-4575-97b7-845546253a83",
   "metadata": {},
   "outputs": [
    {
     "name": "stdout",
     "output_type": "stream",
     "text": [
      "2\n"
     ]
    },
    {
     "data": {
      "text/plain": [
       "True"
      ]
     },
     "execution_count": 107,
     "metadata": {},
     "output_type": "execute_result"
    }
   ],
   "source": [
    "validWordAbbreviation(\"apple\", \"a2le\")"
   ]
  },
  {
   "cell_type": "raw",
   "id": "c035d7cb-7fcc-4982-ad53-5435655f4e67",
   "metadata": {},
   "source": [
    "Unerstood the approach but was not able to code the edge cases well. There was lot of confusion on how to handle the boundary cases.\n"
   ]
  },
  {
   "cell_type": "code",
   "execution_count": null,
   "id": "876984a7-2248-4bdf-935d-f23dfb2ffdbe",
   "metadata": {},
   "outputs": [],
   "source": [
    "\n"
   ]
  },
  {
   "cell_type": "code",
   "execution_count": null,
   "id": "8ae60119-e38f-4781-861c-2c1e1096200c",
   "metadata": {},
   "outputs": [],
   "source": []
  },
  {
   "cell_type": "markdown",
   "id": "22e112e2-feb0-4849-b80a-b49f45e97c66",
   "metadata": {
    "jp-MarkdownHeadingCollapsed": true
   },
   "source": [
    "# 680. Valid Palindrome II"
   ]
  },
  {
   "cell_type": "raw",
   "id": "07640db0-9373-4e68-b973-75f9a476be09",
   "metadata": {},
   "source": [
    "s = array, p = array\n",
    "\n",
    "brute force = \n",
    "    - check for the string to be palindrome\n",
    "    - parse the array one by one\n",
    "        - remove the element\n",
    "        - check for the remaining string to be palindrome\n",
    "palindrome check \n",
    "    - two pointers are opposite end.\n",
    "\n",
    "runtime - O(n^2)\n",
    "\n",
    "optimization\n",
    "- two poniters at opposit end\n",
    "    - every time there is a mismatch, forward the pointer and remember that one delete had been done\n",
    "\n",
    "    - there is a catch, which size pointer to move first\n",
    "- we can use recursion instead and check of both possibilites being palindrome\n",
    "\n"
   ]
  },
  {
   "cell_type": "code",
   "execution_count": null,
   "id": "66a4e76e-afc9-4551-8941-a127b1d5a2d1",
   "metadata": {},
   "outputs": [],
   "source": [
    "def validPalindrome(s):\n",
    "    def palindrome_helper(s, del_counter):\n",
    "        if s == \"\":\n",
    "            return True\n",
    "        if s[0] != s[-1]:\n",
    "            if del_counter > 0:\n",
    "                del_counter -= 1\n",
    "                return palindrome_helper(s[0:-1], del_counter) or palindrome_helper(s[1:], del_counter)\n",
    "            else:\n",
    "                return False\n",
    "        else:\n",
    "            return palindrome_helper(s[1:-1], del_counter)\n",
    "    return palindrome_helper(s, 1)\n"
   ]
  },
  {
   "cell_type": "markdown",
   "id": "ad43d9e1-d8fc-4aef-8715-dd0ecaed93c4",
   "metadata": {},
   "source": [
    "# 227. Basic Calculator II"
   ]
  },
  {
   "cell_type": "raw",
   "id": "336e4bf0-805d-464f-a058-02e0336d0219",
   "metadata": {},
   "source": [
    "Evaluate an expression\n",
    "\n",
    "\"3+2\" = 5\n",
    "\n",
    "approach\n",
    "- parse the string 1 by 1\n",
    "- use a stack to store characters and their operator symbols \n",
    "- pop in the order of precedence\n",
    "\n",
    "2 arrays\n",
    "3, 2    +\n",
    "\"3/2+5\" = 3\n",
    "\n",
    "1     +\n",
    "\n",
    "\n",
    "- create an exprssion tree and traverse it pre order to evalute the expression\n"
   ]
  },
  {
   "cell_type": "markdown",
   "id": "d1d81c5b-7134-4d8d-9039-8b2574af9640",
   "metadata": {},
   "source": [
    "# 125. Valid Palindrome"
   ]
  },
  {
   "cell_type": "code",
   "execution_count": 1,
   "id": "222856f6-1791-4e4e-8638-09a5fed0a3fb",
   "metadata": {},
   "outputs": [
    {
     "data": {
      "text/plain": [
       "'\\nTest #1\\n\"app op p:\"\\n\\nleft s[left]     right  s[right]   \\n5       o           3      o\\n'"
      ]
     },
     "execution_count": 1,
     "metadata": {},
     "output_type": "execute_result"
    }
   ],
   "source": [
    "'''\n",
    "string = \"app op pa\"\n",
    "- convert uppercase to lower\n",
    "- remove non-alpha numeric characters\n",
    "- ignore spaces\n",
    "\n",
    "\n",
    "#1 Two pointers at end\n",
    "    - compare for equality.\n",
    "        - compare lwer case conversions of both\n",
    "        - skip if there is a space, or non-alpha numeric \n",
    "    Keep going till the pointers are equal\n",
    "O(n) time, O(n) space\n",
    "'''\n",
    "\n",
    "def isPalindrome(s):\n",
    "    n = len(s)\n",
    "\n",
    "    left = 0\n",
    "    right = n-1\n",
    "\n",
    "    while(left <= right):\n",
    "        if not s[left].isalnum():\n",
    "            left += 1\n",
    "            continue\n",
    "        if not s[right].isalnum():\n",
    "            right -= 1\n",
    "            continue\n",
    "        if s[left].lower() != s[right].lower():\n",
    "            return False\n",
    "        left += 1\n",
    "        right -= 1\n",
    "    \n",
    "    return True\n",
    "\n",
    "'''\n",
    "Test #1\n",
    "\"app op p:\"\n",
    "\n",
    "left s[left]     right  s[right]   \n",
    "5       o           3      o\n",
    "'''"
   ]
  },
  {
   "cell_type": "code",
   "execution_count": null,
   "id": "5723186b-4fa1-48b6-8462-2b91e9a51c99",
   "metadata": {},
   "outputs": [],
   "source": []
  },
  {
   "cell_type": "markdown",
   "id": "655b1730-9f4b-4e6b-a0c0-2c8be2660405",
   "metadata": {
    "jp-MarkdownHeadingCollapsed": true
   },
   "source": [
    "# 791 Custom Sort String"
   ]
  },
  {
   "cell_type": "code",
   "execution_count": 10,
   "id": "50201565-a6b0-4175-b3ef-080608237af4",
   "metadata": {},
   "outputs": [
    {
     "data": {
      "text/plain": [
       "'\\ntest #1\\norder = cba\\ns = abcd\\n\\nintersecting_letters          first_order         ch\\n[c,b,a]                         \"cbad\"              d\\n'"
      ]
     },
     "execution_count": 10,
     "metadata": {},
     "output_type": "execute_result"
    }
   ],
   "source": [
    "'''\n",
    "order - cba, s - abcdfg\n",
    "permutation - cbadfg\n",
    "\n",
    "Approach #1\n",
    "1. Intersecting letters O(n^2) - naive, O(nlogn) - sorted, O(n) - set implementation\n",
    "2. take the ordering of intersecting letter from string 1\n",
    "3. Append remaining letters from string 2\n",
    "\n",
    "'''\n",
    "\n",
    "def customSortString(order, s):\n",
    "    freq_map = {}\n",
    "    for chars in s:\n",
    "        if chars not in freq_map:\n",
    "            freq_map[chars] = 1\n",
    "        else:\n",
    "            freq_map[chars] += 1\n",
    "    \n",
    "    # intetersection\n",
    "    intersecting_letters = list(set(list(order)).intersection(set(list(s))))\n",
    "\n",
    "    # first order\n",
    "    first_order = \"\"\n",
    "    for chr in order:\n",
    "        if chr in intersecting_letters:\n",
    "            first_order += chr*freq_map[chr]\n",
    "    \n",
    "    # remaining letters from string 2\n",
    "    for chr in s:\n",
    "        if chr not in intersecting_letters:\n",
    "            first_order += chr\n",
    "\n",
    "    return first_order\n",
    "\n",
    "'''\n",
    "test #1\n",
    "order = cba\n",
    "s = abcd\n",
    "\n",
    "intersecting_letters          first_order         ch\n",
    "[c,b,a]                         \"cbad\"              d\n",
    "'''"
   ]
  },
  {
   "cell_type": "code",
   "execution_count": 11,
   "id": "ed82b8a5-5542-46b4-a6a2-6541dc3d03e5",
   "metadata": {},
   "outputs": [
    {
     "data": {
      "text/plain": [
       "'cbad'"
      ]
     },
     "execution_count": 11,
     "metadata": {},
     "output_type": "execute_result"
    }
   ],
   "source": [
    "customSortString(\"cba\", \"abcd\")"
   ]
  },
  {
   "cell_type": "code",
   "execution_count": 12,
   "id": "95e2e329-831b-4367-9d7c-4ac6fac15145",
   "metadata": {},
   "outputs": [
    {
     "data": {
      "text/plain": [
       "'kqeep'"
      ]
     },
     "execution_count": 12,
     "metadata": {},
     "output_type": "execute_result"
    }
   ],
   "source": [
    "customSortString(\"kqep\", \"pekeq\")"
   ]
  },
  {
   "cell_type": "code",
   "execution_count": 4,
   "id": "48538fe1-ef22-4c36-9bbb-ff7c4497f16f",
   "metadata": {},
   "outputs": [
    {
     "data": {
      "text/plain": [
       "'aaa'"
      ]
     },
     "execution_count": 4,
     "metadata": {},
     "output_type": "execute_result"
    }
   ],
   "source": [
    "\"a\"*3"
   ]
  },
  {
   "cell_type": "code",
   "execution_count": null,
   "id": "e8d142d5-26bb-4dc2-891c-8b8fce4d490a",
   "metadata": {},
   "outputs": [],
   "source": []
  },
  {
   "cell_type": "markdown",
   "id": "dab58a0a-0a42-496c-91cd-0f9cfd1d7bb7",
   "metadata": {
    "jp-MarkdownHeadingCollapsed": true
   },
   "source": [
    "# 670. Maximum Swap"
   ]
  },
  {
   "cell_type": "code",
   "execution_count": 25,
   "id": "89852f41-b251-43f6-86e2-77f53e64f298",
   "metadata": {},
   "outputs": [
    {
     "data": {
      "text/plain": [
       "'\\nTest #1\\nnum = 27\\n\\nnum_list                sorted_nums           i             j\\n[7,2]                   [7, 2]                          \\n\"72\"\\n72\\n'"
      ]
     },
     "execution_count": 25,
     "metadata": {},
     "output_type": "execute_result"
    }
   ],
   "source": [
    "'''\n",
    "num = 2736,  output = 7236\n",
    "num = 9296, output = 9926\n",
    "\n",
    "Solution #1\n",
    "- Ensure largest digits are at the left side\n",
    "- parse the number one by one (convert to string and then to list of digits, repeatedly divide by 10 and then reverse) O(n)\n",
    "- sort the list O(nlogn)\n",
    "    - match numbers index by index O(n)\n",
    "    - swap the number with the correct number. O(n)\n",
    "- reconstruct the number (string join and )\n",
    "O(nlogn), O(n)\n",
    "'''\n",
    "\n",
    "def maximumSwap(num):\n",
    "    # numbers to list\n",
    "    num_list = list(str(num))\n",
    "\n",
    "    # sort the list\n",
    "    sorted_nums = sorted(num_list, reverse=True)\n",
    "\n",
    "    # match and swap\n",
    "    max_num = num\n",
    "    for i in range(len(num_list)):\n",
    "        if num_list[i] != sorted_nums[i]:\n",
    "            j = i\n",
    "            while(j < len(num_list)):\n",
    "                if num_list[j] == sorted_nums[i]:\n",
    "                    num_list[j], num_list[i] = num_list[i], num_list[j]\n",
    "                    curr_num = int(\"\".join(num_list))\n",
    "                    max_num = max(max_num, curr_num)\n",
    "                    num_list[j], num_list[i] = num_list[i], num_list[j]\n",
    "                j += 1\n",
    "            break\n",
    "    return max_num\n",
    "\n",
    "\n",
    "'''\n",
    "Test #1\n",
    "num = 27\n",
    "\n",
    "num_list                sorted_nums           i             j\n",
    "[7,2]                   [7, 2]                          \n",
    "\"72\"\n",
    "72\n",
    "'''\n",
    "\n",
    "\n",
    "\n"
   ]
  },
  {
   "cell_type": "code",
   "execution_count": 23,
   "id": "0c34abee-465d-4bce-a1ec-6bb46c56acee",
   "metadata": {},
   "outputs": [
    {
     "data": {
      "text/plain": [
       "72"
      ]
     },
     "execution_count": 23,
     "metadata": {},
     "output_type": "execute_result"
    }
   ],
   "source": [
    "maximumSwap(27)"
   ]
  },
  {
   "cell_type": "code",
   "execution_count": 24,
   "id": "038a39f7-781e-4b86-81d7-56a78115c344",
   "metadata": {},
   "outputs": [
    {
     "data": {
      "text/plain": [
       "9913"
      ]
     },
     "execution_count": 24,
     "metadata": {},
     "output_type": "execute_result"
    }
   ],
   "source": [
    "maximumSwap(1993)"
   ]
  },
  {
   "cell_type": "code",
   "execution_count": null,
   "id": "18139fe2-5c7f-49bc-bf89-07b101aea742",
   "metadata": {},
   "outputs": [],
   "source": []
  },
  {
   "cell_type": "markdown",
   "id": "4bb0fb9a-7015-453d-9607-e25fc05d752f",
   "metadata": {
    "jp-MarkdownHeadingCollapsed": true
   },
   "source": [
    "# 1768. Merge Strings Alternately"
   ]
  },
  {
   "cell_type": "code",
   "execution_count": 26,
   "id": "aee1a9e8-87c3-4740-a20f-9ef3410ac979",
   "metadata": {},
   "outputs": [
    {
     "data": {
      "text/plain": [
       "'\\nTest #1\\nword1 = \"abc\"   word2 = \"12345\"\\nmergeWord     i     word1[i] word2[i]\\n\"a1b2c345\"      3       c       3 \\n\\n'"
      ]
     },
     "execution_count": 26,
     "metadata": {},
     "output_type": "execute_result"
    }
   ],
   "source": [
    "'''\n",
    "word1 = \"road\", word2 = \"man\"\n",
    "output = \"rmoaand\"\n",
    "\n",
    "Approach #1\n",
    "- start pointer from 0 till min len of the 2 string\n",
    "- in a while loop\n",
    "- append to an empty string the ith letter\n",
    "- whichever string is remaining, append to the final string\n",
    "\n",
    "O(max(m, n)), O(max(m,n))\n",
    "'''\n",
    "\n",
    "def mergeAlternately(word1, word2):\n",
    "    i = 0\n",
    "    mergeWord = \"\"\n",
    "    while(i < len(word1) and i < len(word2)):\n",
    "        mergeWord += word1[i]+word2[i]\n",
    "        i += 1\n",
    "    \n",
    "    if i < len(word1):\n",
    "        mergeWord += word1[i:]\n",
    "    elif i < len(word2):\n",
    "        mergeWord += word2[i:]\n",
    "    \n",
    "    return mergeWord\n",
    "\n",
    "'''\n",
    "Test #1\n",
    "word1 = \"abc\"   word2 = \"12345\"\n",
    "mergeWord     i     word1[i] word2[i]\n",
    "\"a1b2c345\"      3       c       3 \n",
    "\n",
    "'''\n",
    "\n",
    "\n",
    "\n"
   ]
  },
  {
   "cell_type": "code",
   "execution_count": null,
   "id": "d1842394-b3c3-44e3-b8c2-47b025f70f9d",
   "metadata": {},
   "outputs": [],
   "source": []
  }
 ],
 "metadata": {
  "kernelspec": {
   "display_name": "Python 3 (ipykernel)",
   "language": "python",
   "name": "python3"
  },
  "language_info": {
   "codemirror_mode": {
    "name": "ipython",
    "version": 3
   },
   "file_extension": ".py",
   "mimetype": "text/x-python",
   "name": "python",
   "nbconvert_exporter": "python",
   "pygments_lexer": "ipython3",
   "version": "3.11.7"
  }
 },
 "nbformat": 4,
 "nbformat_minor": 5
}
