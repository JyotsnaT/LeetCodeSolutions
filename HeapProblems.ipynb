{
 "cells": [
  {
   "cell_type": "code",
   "execution_count": null,
   "id": "be05d0c0-7945-4a42-ab68-102183634be0",
   "metadata": {},
   "outputs": [],
   "source": []
  },
  {
   "cell_type": "code",
   "execution_count": null,
   "id": "424376bf-4efa-49dc-8121-d5df67f769da",
   "metadata": {},
   "outputs": [],
   "source": []
  },
  {
   "cell_type": "code",
   "execution_count": 29,
   "id": "7b504a35-a0d7-4e87-b808-d61eaf2d0f2a",
   "metadata": {},
   "outputs": [],
   "source": [
    "def kWeakestRows(mat, k):\n",
    "    strength = []\n",
    "    for row in mat:\n",
    "        strength.append(sum(row))\n",
    "    print(strength)\n",
    "    item_with_idx = [(x, y) for x, y in enumerate(strength)]\n",
    "    print(item_with_idx)\n",
    "    sort_with_idx = sorted(item_with_idx, key=lambda m: m[1])\n",
    "    # print(sort_with_idx)\n",
    "    sorted_strength = [x for x, y in sort_with_idx]\n",
    "    return sorted_strength[0:k]"
   ]
  },
  {
   "cell_type": "code",
   "execution_count": 30,
   "id": "ebcf93a8-264d-4f61-99ea-bde82a333dd4",
   "metadata": {},
   "outputs": [
    {
     "name": "stdout",
     "output_type": "stream",
     "text": [
      "[2, 4, 1, 2, 5]\n",
      "[(0, 2), (1, 4), (2, 1), (3, 2), (4, 5)]\n"
     ]
    },
    {
     "data": {
      "text/plain": [
       "[2, 0, 3]"
      ]
     },
     "execution_count": 30,
     "metadata": {},
     "output_type": "execute_result"
    }
   ],
   "source": [
    "mat = [[1,1,0,0,0],[1,1,1,1,0],[1,0,0,0,0],[1,1,0,0,0],[1,1,1,1,1]]\n",
    "k = 3\n",
    "kWeakestRows(mat, k)"
   ]
  },
  {
   "cell_type": "code",
   "execution_count": 21,
   "id": "b5746c94-41f5-4825-987d-cc92f07845d1",
   "metadata": {},
   "outputs": [],
   "source": [
    "import heapq"
   ]
  },
  {
   "cell_type": "code",
   "execution_count": 22,
   "id": "39298f63-8ecc-4974-b7c4-5e6b33cad676",
   "metadata": {},
   "outputs": [],
   "source": [
    "from queue import PriorityQueue"
   ]
  },
  {
   "cell_type": "code",
   "execution_count": 55,
   "id": "d24c60cb-49cd-4511-bae5-a0863b1c9770",
   "metadata": {},
   "outputs": [],
   "source": [
    "# using priorityQ\n",
    "\n",
    "def kWeakestRowsPQ(mat, k):\n",
    "    pq = []\n",
    "    for idx, val in enumerate(mat):\n",
    "        strength = (-sum(val), -idx)\n",
    "        if len(pq) < k or strength > pq[0]:\n",
    "            heapq.heappush(pq, strength)\n",
    "        if len(pq) > k:\n",
    "            heapq.heappop(pq)\n",
    "\n",
    "    strength_sorted = []\n",
    "    for i in range(len(pq)):\n",
    "        strength_sorted.append(-1*heapq.heappop(pq)[1])\n",
    "    return strength_sorted[::-1]"
   ]
  },
  {
   "cell_type": "code",
   "execution_count": 56,
   "id": "f6ce1142-9eee-4e5e-a151-d72f146617d9",
   "metadata": {},
   "outputs": [
    {
     "data": {
      "text/plain": [
       "[2, 0, 3, 1]"
      ]
     },
     "execution_count": 56,
     "metadata": {},
     "output_type": "execute_result"
    }
   ],
   "source": [
    "kWeakestRowsPQ(mat, k)"
   ]
  },
  {
   "cell_type": "code",
   "execution_count": 57,
   "id": "a4d2f572-c75a-4ac4-8742-fe7b61f16549",
   "metadata": {},
   "outputs": [
    {
     "data": {
      "text/plain": [
       "[2, 0, 3, 1]"
      ]
     },
     "execution_count": 57,
     "metadata": {},
     "output_type": "execute_result"
    }
   ],
   "source": [
    "mat = [[1,1,1,0,0,0,0],[1,1,1,1,1,1,0],[0,0,0,0,0,0,0],[1,1,1,0,0,0,0],[1,1,1,1,1,1,1]]\n",
    "k = 4\n",
    "kWeakestRowsPQ(mat, k)"
   ]
  },
  {
   "cell_type": "markdown",
   "id": "8ad85ccf-05dd-452e-9707-72e53ce0c640",
   "metadata": {},
   "source": [
    "# 1046. Last Stone Weight"
   ]
  },
  {
   "cell_type": "code",
   "execution_count": 70,
   "id": "517e3577-85ab-4616-a558-2dcc1aeab0f3",
   "metadata": {},
   "outputs": [],
   "source": [
    "import heapq\n",
    "def lastStoneWeight(stones):\n",
    "    weights = [-x for x in stones]\n",
    "    heapq.heapify(weights)\n",
    "    while(len(weights) > 1):\n",
    "        print(weights)\n",
    "        x = heapq.heappop(weights)\n",
    "        y = heapq.heappop(weights)\n",
    "\n",
    "        if x-y < 0:\n",
    "            heapq.heappush(weights, x-y)\n",
    "\n",
    "    return -1*weights[0] if len(weights)>0 else 0"
   ]
  },
  {
   "cell_type": "code",
   "execution_count": 71,
   "id": "45bfed25-a82e-44e3-a562-c11fc8f5c20c",
   "metadata": {},
   "outputs": [
    {
     "name": "stdout",
     "output_type": "stream",
     "text": [
      "[-8, -7, -4, -1, -2, -1]\n",
      "[-4, -2, -1, -1, -1]\n",
      "[-2, -1, -1, -1]\n",
      "[-1, -1, -1]\n"
     ]
    },
    {
     "data": {
      "text/plain": [
       "1"
      ]
     },
     "execution_count": 71,
     "metadata": {},
     "output_type": "execute_result"
    }
   ],
   "source": [
    "stones = [2,7,4,1,8,1]\n",
    "lastStoneWeight(stones)"
   ]
  },
  {
   "cell_type": "code",
   "execution_count": 73,
   "id": "50f9178c-222a-4c92-b507-abecf2c952aa",
   "metadata": {},
   "outputs": [
    {
     "name": "stdout",
     "output_type": "stream",
     "text": [
      "[-1, -1, -1, -1]\n",
      "[-1, -1]\n"
     ]
    },
    {
     "data": {
      "text/plain": [
       "0"
      ]
     },
     "execution_count": 73,
     "metadata": {},
     "output_type": "execute_result"
    }
   ],
   "source": [
    "stones = [1,1,1,1]\n",
    "lastStoneWeight(stones)"
   ]
  },
  {
   "cell_type": "code",
   "execution_count": null,
   "id": "7bf3efc0-420a-44a7-88a3-8a4bbe49744f",
   "metadata": {},
   "outputs": [],
   "source": []
  },
  {
   "cell_type": "code",
   "execution_count": null,
   "id": "dbb3b5cc-c2cc-4a8d-a6d5-cc2fdf001e7a",
   "metadata": {},
   "outputs": [],
   "source": []
  }
 ],
 "metadata": {
  "kernelspec": {
   "display_name": "Python 3 (ipykernel)",
   "language": "python",
   "name": "python3"
  },
  "language_info": {
   "codemirror_mode": {
    "name": "ipython",
    "version": 3
   },
   "file_extension": ".py",
   "mimetype": "text/x-python",
   "name": "python",
   "nbconvert_exporter": "python",
   "pygments_lexer": "ipython3",
   "version": "3.11.5"
  }
 },
 "nbformat": 4,
 "nbformat_minor": 5
}
