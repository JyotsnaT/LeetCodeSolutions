{
 "cells": [
  {
   "cell_type": "code",
   "execution_count": null,
   "id": "be05d0c0-7945-4a42-ab68-102183634be0",
   "metadata": {},
   "outputs": [],
   "source": []
  },
  {
   "cell_type": "code",
   "execution_count": null,
   "id": "424376bf-4efa-49dc-8121-d5df67f769da",
   "metadata": {},
   "outputs": [],
   "source": []
  },
  {
   "cell_type": "code",
   "execution_count": 29,
   "id": "7b504a35-a0d7-4e87-b808-d61eaf2d0f2a",
   "metadata": {},
   "outputs": [],
   "source": [
    "def kWeakestRows(mat, k):\n",
    "    strength = []\n",
    "    for row in mat:\n",
    "        strength.append(sum(row))\n",
    "    print(strength)\n",
    "    item_with_idx = [(x, y) for x, y in enumerate(strength)]\n",
    "    print(item_with_idx)\n",
    "    sort_with_idx = sorted(item_with_idx, key=lambda m: m[1])\n",
    "    # print(sort_with_idx)\n",
    "    sorted_strength = [x for x, y in sort_with_idx]\n",
    "    return sorted_strength[0:k]"
   ]
  },
  {
   "cell_type": "code",
   "execution_count": 30,
   "id": "ebcf93a8-264d-4f61-99ea-bde82a333dd4",
   "metadata": {},
   "outputs": [
    {
     "name": "stdout",
     "output_type": "stream",
     "text": [
      "[2, 4, 1, 2, 5]\n",
      "[(0, 2), (1, 4), (2, 1), (3, 2), (4, 5)]\n"
     ]
    },
    {
     "data": {
      "text/plain": [
       "[2, 0, 3]"
      ]
     },
     "execution_count": 30,
     "metadata": {},
     "output_type": "execute_result"
    }
   ],
   "source": [
    "mat = [[1,1,0,0,0],[1,1,1,1,0],[1,0,0,0,0],[1,1,0,0,0],[1,1,1,1,1]]\n",
    "k = 3\n",
    "kWeakestRows(mat, k)"
   ]
  },
  {
   "cell_type": "code",
   "execution_count": 21,
   "id": "b5746c94-41f5-4825-987d-cc92f07845d1",
   "metadata": {},
   "outputs": [],
   "source": [
    "import heapq"
   ]
  },
  {
   "cell_type": "code",
   "execution_count": 22,
   "id": "39298f63-8ecc-4974-b7c4-5e6b33cad676",
   "metadata": {},
   "outputs": [],
   "source": [
    "from queue import PriorityQueue"
   ]
  },
  {
   "cell_type": "code",
   "execution_count": 55,
   "id": "d24c60cb-49cd-4511-bae5-a0863b1c9770",
   "metadata": {},
   "outputs": [],
   "source": [
    "# using priorityQ\n",
    "\n",
    "def kWeakestRowsPQ(mat, k):\n",
    "    pq = []\n",
    "    for idx, val in enumerate(mat):\n",
    "        strength = (-sum(val), -idx)\n",
    "        if len(pq) < k or strength > pq[0]:\n",
    "            heapq.heappush(pq, strength)\n",
    "        if len(pq) > k:\n",
    "            heapq.heappop(pq)\n",
    "\n",
    "    strength_sorted = []\n",
    "    for i in range(len(pq)):\n",
    "        strength_sorted.append(-1*heapq.heappop(pq)[1])\n",
    "    return strength_sorted[::-1]"
   ]
  },
  {
   "cell_type": "code",
   "execution_count": 56,
   "id": "f6ce1142-9eee-4e5e-a151-d72f146617d9",
   "metadata": {},
   "outputs": [
    {
     "data": {
      "text/plain": [
       "[2, 0, 3, 1]"
      ]
     },
     "execution_count": 56,
     "metadata": {},
     "output_type": "execute_result"
    }
   ],
   "source": [
    "kWeakestRowsPQ(mat, k)"
   ]
  },
  {
   "cell_type": "code",
   "execution_count": 57,
   "id": "a4d2f572-c75a-4ac4-8742-fe7b61f16549",
   "metadata": {},
   "outputs": [
    {
     "data": {
      "text/plain": [
       "[2, 0, 3, 1]"
      ]
     },
     "execution_count": 57,
     "metadata": {},
     "output_type": "execute_result"
    }
   ],
   "source": [
    "mat = [[1,1,1,0,0,0,0],[1,1,1,1,1,1,0],[0,0,0,0,0,0,0],[1,1,1,0,0,0,0],[1,1,1,1,1,1,1]]\n",
    "k = 4\n",
    "kWeakestRowsPQ(mat, k)"
   ]
  },
  {
   "cell_type": "markdown",
   "id": "8ad85ccf-05dd-452e-9707-72e53ce0c640",
   "metadata": {},
   "source": [
    "# 1046. Last Stone Weight"
   ]
  },
  {
   "cell_type": "code",
   "execution_count": 70,
   "id": "517e3577-85ab-4616-a558-2dcc1aeab0f3",
   "metadata": {},
   "outputs": [],
   "source": [
    "import heapq\n",
    "def lastStoneWeight(stones):\n",
    "    weights = [-x for x in stones]\n",
    "    heapq.heapify(weights)\n",
    "    while(len(weights) > 1):\n",
    "        print(weights)\n",
    "        x = heapq.heappop(weights)\n",
    "        y = heapq.heappop(weights)\n",
    "\n",
    "        if x-y < 0:\n",
    "            heapq.heappush(weights, x-y)\n",
    "\n",
    "    return -1*weights[0] if len(weights)>0 else 0"
   ]
  },
  {
   "cell_type": "code",
   "execution_count": 71,
   "id": "45bfed25-a82e-44e3-a562-c11fc8f5c20c",
   "metadata": {},
   "outputs": [
    {
     "name": "stdout",
     "output_type": "stream",
     "text": [
      "[-8, -7, -4, -1, -2, -1]\n",
      "[-4, -2, -1, -1, -1]\n",
      "[-2, -1, -1, -1]\n",
      "[-1, -1, -1]\n"
     ]
    },
    {
     "data": {
      "text/plain": [
       "1"
      ]
     },
     "execution_count": 71,
     "metadata": {},
     "output_type": "execute_result"
    }
   ],
   "source": [
    "stones = [2,7,4,1,8,1]\n",
    "lastStoneWeight(stones)"
   ]
  },
  {
   "cell_type": "code",
   "execution_count": 73,
   "id": "50f9178c-222a-4c92-b507-abecf2c952aa",
   "metadata": {},
   "outputs": [
    {
     "name": "stdout",
     "output_type": "stream",
     "text": [
      "[-1, -1, -1, -1]\n",
      "[-1, -1]\n"
     ]
    },
    {
     "data": {
      "text/plain": [
       "0"
      ]
     },
     "execution_count": 73,
     "metadata": {},
     "output_type": "execute_result"
    }
   ],
   "source": [
    "stones = [1,1,1,1]\n",
    "lastStoneWeight(stones)"
   ]
  },
  {
   "cell_type": "markdown",
   "id": "acda4c6c-2d93-4b63-969c-85102e27c648",
   "metadata": {},
   "source": [
    "# 23. Merge k Sorted Lists"
   ]
  },
  {
   "cell_type": "code",
   "execution_count": null,
   "id": "dbb3b5cc-c2cc-4a8d-a6d5-cc2fdf001e7a",
   "metadata": {},
   "outputs": [],
   "source": [
    "'''\n",
    "k sorted lists\n",
    "\n",
    "[[1,3,4], [2,5], [1,3]]\n",
    "\n",
    "\n",
    "[1, 1, 2, 3, 3, 4, 5]\n",
    "\n",
    "#1  \n",
    "K - num lists, N - average list length\n",
    "- make a list of all unique items O(K*N) \n",
    "- sort them(K*Nlog(K*N))\n",
    "- go over each array one by one to look for ith greatest element(K*N*K)\n",
    "- add it a new list space - O(K*N)\n",
    "- order of appearance is preserved\n",
    "- \n",
    "\n",
    "#2\n",
    "- use hash map of node value to list 2Dindex list. O(K*N), O(K*N)\n",
    "- create a new list and append the elements by indices, O(K*N)\n",
    "- assign it to last occuring node O(1)\n",
    "O(K*N)\n",
    "\n",
    "\n",
    "#3 \n",
    "The above apporaches assumed there is list of list of Nodes. But we are actually provided with list of nodes\n",
    "- Create the hashmap with unique items as keys and their list index as values\n",
    "- sort the keys. O(n*k)\n",
    "- go item by item O(n*K)\n",
    "- it will be the first item in the linked list, since it is the smallest and we are going by smallest. O(K)\n",
    "- remove the first element O(1) and add it to the linked list. O(1)\n",
    "\n",
    "'''\n",
    "\n",
    "# class ListNode:\n",
    "#     def __init__(self, val=0, next=None):\n",
    "#         self.val = val\n",
    "#         self.next = next\n",
    "class Solution:\n",
    "    def removeFirstNode(list):\n",
    "        if list:\n",
    "            curr = list\n",
    "            next = curr.next\n",
    "            curr.next = None\n",
    "            return (curr, next)\n",
    "        else:\n",
    "            return (None, None)\n",
    "\n",
    "    def mergeKLists(self, lists: List[Optional[ListNode]]) -> Optional[ListNode]:\n",
    "\n",
    "        # Create Hash\n",
    "        int_hash = {}\n",
    "\n",
    "        for list_idx, list in enumerate(lists):\n",
    "            front_node = list\n",
    "            while front_node:\n",
    "                if front_node.val not in int_hash:\n",
    "                    int_hash[front_node.val] = [list_idx]\n",
    "                else:\n",
    "                    int_hash[front_node.val].append(list_idx)\n",
    "                front_node = front_node.next\n",
    "\n",
    "        # Sorted values\n",
    "        sorted_values = sorted(int_hash.keys())\n",
    "\n",
    "        # Create list\n",
    "        prev_node = None\n",
    "        head_node = None\n",
    "        for sorted_item in sorted_values:\n",
    "            nodes_list = int_hash[sorted_item]\n",
    "            for list_idx  in nodes_list:\n",
    "                first, remaning = removeFirstNode(lists[list_idx])\n",
    "                lists[list_idx] = remaining\n",
    "                if not head_node:\n",
    "                    head_node = first\n",
    "                    prev_node = head_node\n",
    "                else:\n",
    "                    prev_node.next = first\n",
    "                    prev_node = prev_node.next\n",
    "        return head_node\n",
    "\n",
    "\n",
    "'''\n",
    "Test#1\n",
    "[None, None]\n",
    "\n",
    "int_hash            list_idx  list         front_node\n",
    "{1:[0, 1], 2:[1]}                  None\n",
    "\n",
    "sorted_values\n",
    "[1,2]\n",
    "\n",
    "prev_node             head_node   sorted_item   nodes_list   list_idx      first remaining   \n",
    "2                     1, 1, 2         2             [1]           1        2.None      None\n",
    "\n",
    "'''"
   ]
  },
  {
   "cell_type": "code",
   "execution_count": null,
   "id": "ea818042-334d-419d-b4db-2e0427133e20",
   "metadata": {},
   "outputs": [],
   "source": []
  },
  {
   "cell_type": "code",
   "execution_count": 6,
   "id": "222d9c08-41d0-4a14-b476-64f8c8ceb34a",
   "metadata": {},
   "outputs": [
    {
     "name": "stdout",
     "output_type": "stream",
     "text": [
      "()\n"
     ]
    }
   ],
   "source": [
    "s = \"())\"\n",
    "\n",
    "i = 2\n",
    "print(s[:i]+s[i+1:])"
   ]
  },
  {
   "cell_type": "markdown",
   "id": "18b70814-d5de-4adf-9b6b-42ff4b382c20",
   "metadata": {},
   "source": [
    "# 973 K Closest Points to Origin"
   ]
  },
  {
   "cell_type": "code",
   "execution_count": null,
   "id": "d41590d1-4ff9-4722-b300-3f5034f34100",
   "metadata": {},
   "outputs": [],
   "source": [
    "'''\n",
    "Eucledien distance\n",
    "distance to origin - ((x2)^2 + (y2)^2)^1/2\n",
    "\n",
    "Approach #1\n",
    "- store distance to origin of every point in an dictionary O(n)\n",
    "- indexed by distances O(1)\n",
    "- sort the indices O(nlogn)\n",
    "- Loop from 1 to k, get the points corresponding to distances O(1)\n",
    "\n",
    "O(nlogn), O(n)\n",
    "\n",
    "Optimizations\n",
    "- Use min heap to store, distance, points tuple\n",
    "- store negative distances in pq\n",
    "- Buid min heap/ pq takes O(n)\n",
    "- Loop from 1 to k, get the smallest from the min heap O(klogn)\n",
    "\n",
    "O(klogn), O(n)\n",
    "'''\n",
    "\n",
    "\n",
    "import heapq\n",
    "\n",
    "def kClosest(points, k):\n",
    "  pq = []\n",
    "\n",
    "  for point in points:\n",
    "    x = point[0]\n",
    "    y = point[1]\n",
    "    originDistance = -((x**2+y**2)^0.5)\n",
    "    heapq.heappush(pq, (originDistance, point))\n",
    "\n",
    "  closest_points = []\n",
    "  for i in range(k):\n",
    "    p = heapq.heappop(pq)\n",
    "    closest_points.append(p[1])\n",
    "\n",
    "  return closest_points\n",
    "\n",
    "'''\n",
    "Test #1\n",
    "[[1,-1], [2,1]], k =1\n",
    "\n",
    "pq\n",
    "[(-2.2, [2,1])]\n",
    "x  y    originDistance \n",
    "2  1    -2.2\n",
    "closest_points [[1,-1]]\n",
    "i     p     \n",
    "1     (-0.14, [1,-1])\n",
    "'''"
   ]
  },
  {
   "cell_type": "code",
   "execution_count": null,
   "id": "0d67f9b9-2603-4ee7-8900-b4bc7d8a014a",
   "metadata": {},
   "outputs": [],
   "source": []
  }
 ],
 "metadata": {
  "kernelspec": {
   "display_name": "Python 3 (ipykernel)",
   "language": "python",
   "name": "python3"
  },
  "language_info": {
   "codemirror_mode": {
    "name": "ipython",
    "version": 3
   },
   "file_extension": ".py",
   "mimetype": "text/x-python",
   "name": "python",
   "nbconvert_exporter": "python",
   "pygments_lexer": "ipython3",
   "version": "3.11.8"
  }
 },
 "nbformat": 4,
 "nbformat_minor": 5
}
