{
 "cells": [
  {
   "cell_type": "markdown",
   "id": "ea41d732-1afa-4688-a44f-e43cc5c530cd",
   "metadata": {},
   "source": [
    "# Graphs"
   ]
  },
  {
   "cell_type": "markdown",
   "id": "ad5fc3d7-959c-4cd5-a682-187afaabf97e",
   "metadata": {},
   "source": [
    "### Graph DFS"
   ]
  },
  {
   "cell_type": "code",
   "execution_count": null,
   "id": "5f6dba53-8719-4e4f-b240-66acd22ac482",
   "metadata": {},
   "outputs": [],
   "source": [
    "class Graph:\n",
    "    def __init__(self):\n",
    "        self.graph = {}\n",
    "\n",
    "    def addEdge(self, u, v):\n",
    "        if u not in self.graph:\n",
    "            self.graph[u] = [v]\n",
    "        else:\n",
    "            self.graph[u].append(v)\n",
    "\n",
    "    def dfs(self, root, items):\n",
    "        stack = []\n",
    "\n",
    "        visited = {}\n",
    "\n",
    "        stack.append(root)\n",
    "        visited[root] = True\n",
    "\n",
    "        while len(stack) > 0:\n",
    "            top = stack.pop()\n",
    "            if top == item:\n",
    "                return found\n",
    "            else:\n",
    "                for children in self.graph[top]:\n",
    "                    if not visited[children]:\n",
    "                        stack.append(children)\n",
    "                        visited[children] = True\n",
    "            "
   ]
  },
  {
   "cell_type": "raw",
   "id": "31daa88d-cf5f-4027-8ff3-c6b6ef1b27cd",
   "metadata": {},
   "source": [
    "Graph BFS\n",
    "\n",
    "- Represent the graph in adjacency list formant\n",
    "- Maintain a visited array\n",
    "- Take a queue to process\n",
    "- Add a node to queue if not visited already and mark it visited\n",
    "- Pop the node, push everyneighbour in the queue if not visited"
   ]
  },
  {
   "cell_type": "code",
   "execution_count": 13,
   "id": "54d859c5-7504-4ad5-b1ce-30ea07d0dcac",
   "metadata": {},
   "outputs": [],
   "source": [
    "from collections import deque\n",
    "class Graph:\n",
    "    def __init__(self):\n",
    "        self.graph = {}\n",
    "\n",
    "    def addEdge(self, v, u):\n",
    "        if v not in self.graph:\n",
    "            self.graph[v] = [u]\n",
    "        else:\n",
    "            self.graph[v].append(u)\n",
    "        if u not in self.graph:\n",
    "            self.graph[u] = []\n",
    "            \n",
    "    # A start node will be given mostly\n",
    "    def bfs(self, startNode):\n",
    "        visited = {key: False for key in self.graph.keys()}\n",
    "\n",
    "        Q = deque()\n",
    "        Q.append(startNode)\n",
    "        visited[startNode] = True\n",
    "\n",
    "        while(len(Q) > 0):\n",
    "            currNode = Q.popleft()\n",
    "            print(currNode)\n",
    "            for neigh in self.graph[currNode]:\n",
    "                if not visited[neigh]:\n",
    "                    Q.append(neigh)\n",
    "                    visited[neigh] = True\n",
    "    "
   ]
  },
  {
   "cell_type": "code",
   "execution_count": 14,
   "id": "6542b0a8-7efd-4808-852b-4a5b402b604b",
   "metadata": {},
   "outputs": [
    {
     "name": "stdout",
     "output_type": "stream",
     "text": [
      "A\n",
      "B\n",
      "D\n",
      "C\n"
     ]
    }
   ],
   "source": [
    "g = Graph()\n",
    "\n",
    "g.addEdge('A', 'B')\n",
    "g.addEdge('A', 'D')\n",
    "g.addEdge('B', 'C')\n",
    "g.addEdge('C', 'D')\n",
    "g.addEdge('C', 'A')\n",
    "\n",
    "g.bfs('A')"
   ]
  },
  {
   "cell_type": "code",
   "execution_count": 15,
   "id": "daa144d3-ebba-4a95-ad14-9f72a4ad8f0f",
   "metadata": {},
   "outputs": [
    {
     "name": "stdout",
     "output_type": "stream",
     "text": [
      "B\n",
      "C\n",
      "D\n",
      "A\n"
     ]
    }
   ],
   "source": [
    "g.bfs('B')"
   ]
  },
  {
   "cell_type": "markdown",
   "id": "9725989b-509f-4a1b-b588-a4817bd819c3",
   "metadata": {},
   "source": [
    "# Topological sort\n",
    "\n",
    "Topological sort is like BFS but we the problem at hand might have multiple nodes those are probable start points. To make sure we account for it, we keep track of in edges as well."
   ]
  },
  {
   "cell_type": "code",
   "execution_count": 8,
   "id": "bc538ac4-b8b2-4a6b-9911-983304fb3b1f",
   "metadata": {},
   "outputs": [],
   "source": [
    "sample_graph = [['a', 'b'], ['c', 'b']]\n",
    "class Graph:\n",
    "    def __init__(self):\n",
    "        self.graph = {}\n",
    "\n",
    "    def create_graph(self, edge_list):\n",
    "        for edge in edge_list:\n",
    "            start = edge[0]\n",
    "            end = edge[1]\n",
    "            if start not in self.graph:\n",
    "                self.graph[start] = [[end], []]\n",
    "            else:\n",
    "                self.graph[start][0].append(end)\n",
    "\n",
    "            if end not in self.graph:\n",
    "                self.graph[end] = [[], [start]]\n",
    "            else:\n",
    "                self.graph[end][1].append(start)\n",
    "\n",
    "G = Graph()\n",
    "G.create_graph(sample_graph)"
   ]
  },
  {
   "cell_type": "code",
   "execution_count": 9,
   "id": "ce9ee766-25bb-4c4b-bfe3-6e2bb89dea01",
   "metadata": {},
   "outputs": [
    {
     "data": {
      "text/plain": [
       "{'a': [['b'], []], 'b': [[], ['a', 'c']], 'c': [['b'], []]}"
      ]
     },
     "execution_count": 9,
     "metadata": {},
     "output_type": "execute_result"
    }
   ],
   "source": [
    "G.graph"
   ]
  },
  {
   "cell_type": "code",
   "execution_count": 16,
   "id": "1dfe888c-4102-42f2-aa73-52b8181fc4ab",
   "metadata": {
    "scrolled": true
   },
   "outputs": [
    {
     "name": "stdout",
     "output_type": "stream",
     "text": [
      "a\n",
      "c\n",
      "b\n"
     ]
    }
   ],
   "source": [
    "from collections import deque\n",
    "\n",
    "def topological_sort(graph):\n",
    "    visited = {}\n",
    "    Q = deque()\n",
    "\n",
    "    # find start edges\n",
    "    for key, val in graph.items():\n",
    "        if len(val[1]) == 0:\n",
    "            Q.append(key)\n",
    "            visited[key] = True\n",
    "\n",
    "    while(len(Q) > 0):\n",
    "        front = Q.popleft()\n",
    "        print(front)\n",
    "\n",
    "        for neigh in graph[front][0]:\n",
    "            if neigh not in visited or not visited[neigh]:\n",
    "                Q.append(neigh)\n",
    "                visited[neigh] = True\n",
    "\n",
    "\n",
    "topological_sort(G.graph)"
   ]
  },
  {
   "cell_type": "markdown",
   "id": "0fb238ff-8d24-4fcf-833b-f5b5d3928341",
   "metadata": {},
   "source": [
    "# Shortest path \n",
    "\n",
    "1. Unweighted graph\n",
    "2. Weighted graph\n",
    "3. graph with negative weights"
   ]
  },
  {
   "cell_type": "markdown",
   "id": "d9f5fe42-a1e6-4ad4-a5a9-ff07fdcb0930",
   "metadata": {},
   "source": [
    "## Unweighted graph"
   ]
  },
  {
   "cell_type": "code",
   "execution_count": 35,
   "id": "6552af4b-b621-4297-951e-4141585394f2",
   "metadata": {},
   "outputs": [],
   "source": [
    "class Graph:\n",
    "    def __init__(self):\n",
    "        self.graph = {}\n",
    "\n",
    "    def create_undirected_graph(self, edge_list):\n",
    "        for edge in edge_list:\n",
    "            start = edge[0]\n",
    "            end = edge[1]\n",
    "            if start not in self.graph:\n",
    "                self.graph[start] = [end]\n",
    "            else:\n",
    "                self.graph[start].append(end)\n",
    "            if end not in self.graph:\n",
    "                self.graph[end] = [start]\n",
    "            else:\n",
    "                self.graph[end].append(start)"
   ]
  },
  {
   "cell_type": "code",
   "execution_count": 38,
   "id": "125f496e-cf5e-4829-9e7a-7650ddafeccd",
   "metadata": {},
   "outputs": [],
   "source": [
    "sample_graph = ([['a', 'b'], ['c', 'b']])\n",
    "G = Graph()\n",
    "G.create_undirected_graph(sample_graph)"
   ]
  },
  {
   "cell_type": "code",
   "execution_count": 39,
   "id": "fc6a5e68-859e-467c-9eb7-b4d966714d24",
   "metadata": {},
   "outputs": [],
   "source": [
    "from collections import deque\n",
    "\n",
    "def shortest_path(graph, start):\n",
    "    distance = {}\n",
    "    for node in graph.keys():\n",
    "        distance[node] = -1\n",
    "    distance[start] = 0\n",
    "    \n",
    "    Q = deque()\n",
    "    Q.append(start)\n",
    "\n",
    "    while(len(Q) > 0):\n",
    "        front = Q.popleft()\n",
    "\n",
    "        for neigh in graph[front]:\n",
    "            if distance[neigh] == -1:\n",
    "                distance[neigh] = distance[front] + 1\n",
    "                Q.append(neigh)\n",
    "    return distance"
   ]
  },
  {
   "cell_type": "code",
   "execution_count": 40,
   "id": "f5ee26c1-3ae6-4994-815a-9868cca25b0e",
   "metadata": {},
   "outputs": [
    {
     "data": {
      "text/plain": [
       "{'a': 0, 'b': 1, 'c': 2}"
      ]
     },
     "execution_count": 40,
     "metadata": {},
     "output_type": "execute_result"
    }
   ],
   "source": [
    "shortest_path(G.graph, 'a')"
   ]
  },
  {
   "cell_type": "markdown",
   "id": "3e9e02ba-d8fb-4691-a1cf-e8a72c73bca6",
   "metadata": {},
   "source": [
    "## Weighted graph"
   ]
  },
  {
   "cell_type": "code",
   "execution_count": null,
   "id": "cf6c922c-17ff-4a2a-87de-46486b2354a3",
   "metadata": {},
   "outputs": [],
   "source": []
  },
  {
   "cell_type": "code",
   "execution_count": null,
   "id": "270f3ebd-0056-4e5b-9ef6-b71d6ee5c359",
   "metadata": {},
   "outputs": [],
   "source": []
  },
  {
   "cell_type": "markdown",
   "id": "f26e4aca-2ff5-45f7-bf4c-493d3f463546",
   "metadata": {},
   "source": [
    "# 827. Making A Large Island"
   ]
  },
  {
   "cell_type": "raw",
   "id": "b1e09440-d9fa-4dbe-9d2d-91597cc84e61",
   "metadata": {},
   "source": [
    "'''\n",
    "grid\n",
    "\n",
    "1 0 0 1\n",
    "1 1 1 1\n",
    "0 1 1 0\n",
    "\n",
    "n = size of grid\n",
    "- find largest island (connected components in graph) - O(n), O(N)\n",
    "- flip one of the bits to 1\n",
    "  #1 - explore all ocurances of 0 - O(n^2), O(1)\n",
    "\n",
    "#2 \n",
    " - store connected component info O(n), O(n)\n",
    " - store size of connected components in a dictionary\n",
    " - explore all 0s 1 by 1 and flip it O(n)\n",
    " - check neighbour connected components -> List of componentes O(1)\n",
    " - sum their count + 1\n",
    "\n",
    "O(n), O(n)\n",
    "'''\n",
    "\n",
    "\n"
   ]
  },
  {
   "cell_type": "code",
   "execution_count": null,
   "id": "f9bafeda-30c3-45fb-9b2f-23a183fd1822",
   "metadata": {},
   "outputs": [],
   "source": [
    "def largestIsland(grid):\n",
    "    cc_count = {}\n",
    "    stack = []\n",
    "    visited = {}\n",
    "\n",
    "    n = len(grid)\n",
    "    indices = [(x, y) for x in range(n) for y in range(n)]\n",
    "    directions = [[1, 0], [0, 1], [-1, 0], [0, -1]]\n",
    "    counter = 0\n",
    "    for idx in indices:\n",
    "        if grid[idx[0], idx[1]] and not visited[idx]:\n",
    "            counter += 1\n",
    "            cc_count[counter] = 1\n",
    "            visited[idx] = counter\n",
    "            stack.append(idx)\n",
    "            while(len(stack)>0):\n",
    "                front = stack.pop()\n",
    "                for dir in directions:\n",
    "                    (x, y) = (front[0]+dir[0], front[1]+dir[1])\n",
    "                    if 0 <= x and x < n and 0 <= y and y < n and grid[x][y] and (x, y) not in visited:\n",
    "                        stack.append((x,y))\n",
    "                        visited[(x,y)] = counter\n",
    "                        cc_count[counter] += 1\n",
    "    \n",
    "    # cc_count, visited\n",
    "    max_island = 0\n",
    "    for idx in indices:\n",
    "        if not grid[idx[1]][idx[1]]:\n",
    "            cc_list = {}\n",
    "            island_size = 1\n",
    "            for dir in directions:\n",
    "                (x, y) = (idx[0]+dir[0], idx[1]+dir[1])\n",
    "                if 0 <= x and x < n and 0 <= y and y < n and (x,y) in visited:\n",
    "                        cc_list[visited[(x,y)]] = True\n",
    "            for cc in cc_list.keys():\n",
    "                island_size += cc_count[cc]\n",
    "            max_island = max(max_island, island_size)\n",
    "            \n",
    "    return max_island\n",
    "            \n",
    "'''\n",
    "Test #1\n",
    "[[1,0], [0,1]]\n",
    "\n",
    "n = 2\n",
    "indices = [(0, 0), (0, 1), (1, 0), (1, 1)]\n",
    "directions = [[1, 0], [0, 1], [-1, 0], [0, -1]]\n",
    "\n",
    "counter  idx     grid[idx]   cc_count      stack       front   visited \n",
    "2        (1, 1)      1       {1: 1, 2: 1}                   {(0, 0) : 1, (1, 1): 2}\n",
    "                                                         \n",
    "\n",
    "\n",
    "max_counter      idx       cc_list                  island_size   cc\n",
    "3               (0, 1)     {2: True, 1: True}             3         1\n",
    "                 0, 0\n",
    "\n",
    "\n",
    "'''"
   ]
  }
 ],
 "metadata": {
  "kernelspec": {
   "display_name": "Python 3 (ipykernel)",
   "language": "python",
   "name": "python3"
  },
  "language_info": {
   "codemirror_mode": {
    "name": "ipython",
    "version": 3
   },
   "file_extension": ".py",
   "mimetype": "text/x-python",
   "name": "python",
   "nbconvert_exporter": "python",
   "pygments_lexer": "ipython3",
   "version": "3.11.7"
  }
 },
 "nbformat": 4,
 "nbformat_minor": 5
}
